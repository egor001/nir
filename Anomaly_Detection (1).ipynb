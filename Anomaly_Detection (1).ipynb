{
  "cells": [
    {
      "cell_type": "code",
      "execution_count": null,
      "metadata": {
        "colab": {
          "base_uri": "https://localhost:8080/"
        },
        "id": "A1dOnsQiXfqg",
        "outputId": "57c99d17-14ce-43fe-e223-c949ae39e1ef"
      },
      "outputs": [
        {
          "output_type": "stream",
          "name": "stdout",
          "text": [
            "Drive already mounted at /content/drive; to attempt to forcibly remount, call drive.mount(\"/content/drive\", force_remount=True).\n"
          ]
        }
      ],
      "source": [
        "from google.colab import drive\n",
        "drive.mount('/content/drive')"
      ]
    },
    {
      "cell_type": "code",
      "execution_count": null,
      "metadata": {
        "id": "VeF1KFqw-JFh"
      },
      "outputs": [],
      "source": [
        "import pandas as pd"
      ]
    },
    {
      "cell_type": "code",
      "execution_count": null,
      "metadata": {
        "colab": {
          "base_uri": "https://localhost:8080/",
          "height": 1000
        },
        "id": "AFZqWWAlwPhF",
        "outputId": "226cd77f-8529-41af-a961-b1bc56904d9f"
      },
      "outputs": [
        {
          "output_type": "display_data",
          "data": {
            "text/plain": [
              "                   TIME_(s)   TVD_(m)  DEPTH_(m)  HDTH_(m)  BLKP_(m)  \\\n",
              "0       2015-04-28 08:00:00       NaN        NaN  3602.011   4.05358   \n",
              "1       2015-04-28 08:00:10       NaN        NaN  3602.011   4.05358   \n",
              "2       2015-04-28 08:00:20       NaN        NaN  3602.011   4.05358   \n",
              "3       2015-04-28 08:00:30       NaN        NaN  3602.011   4.68674   \n",
              "4       2015-04-28 08:00:40       NaN        NaN  3602.011   5.89757   \n",
              "...                     ...       ...        ...       ...       ...   \n",
              "125929  2015-05-12 21:48:10  267.7914  268.52548  5565.004   4.10823   \n",
              "125930  2015-05-12 21:48:20  267.7914  268.52548  5565.004   4.10823   \n",
              "125931  2015-05-12 21:48:30  267.7914  268.52548  5565.004   4.10823   \n",
              "125932  2015-05-12 21:48:40  267.7914  268.52548  5565.004   4.10823   \n",
              "125933  2015-05-12 21:48:50  267.7914  268.52548  5565.004   4.10823   \n",
              "\n",
              "        HKLA_(1000 kgf)  ROP5_(m/h)  RPM_(c/min)  STOR_(kN.m)  \\\n",
              "0              28.64885         NaN     -0.02821    -0.093415   \n",
              "1              28.63197         NaN     -0.02849    -0.093198   \n",
              "2              28.62236         NaN     -0.02894    -0.093022   \n",
              "3              28.49389         NaN     -0.02838    -0.092845   \n",
              "4              28.14165         NaN     -0.02872    -0.092845   \n",
              "...                 ...         ...          ...          ...   \n",
              "125929         24.93167         NaN      0.14390    -0.139831   \n",
              "125930         25.00348         NaN      0.14420    -0.140156   \n",
              "125931         25.01339         NaN      0.14332    -0.139993   \n",
              "125932         25.02542         NaN      0.14569    -0.139451   \n",
              "125933         25.01172         NaN      0.14605    -0.140400   \n",
              "\n",
              "        SWOB_(1000 kgf)  TFLO_(L/min)  SPPA_(bar)   labels  \n",
              "0              -2.00262           0.0   -0.016626  success  \n",
              "1              -1.97778           0.0   -0.016660  success  \n",
              "2              -1.96641           0.0   -0.016609  success  \n",
              "3              -1.76878           0.0   -0.016122  success  \n",
              "4              -1.29060           0.0   -0.016090  success  \n",
              "...                 ...           ...         ...      ...  \n",
              "125929          0.00000           0.0    0.152866  success  \n",
              "125930         40.87914           0.0    0.153982  success  \n",
              "125931         40.87940           0.0    0.153383  success  \n",
              "125932         40.86797           0.0    0.153397  success  \n",
              "125933          0.00000           0.0    0.153364  success  \n",
              "\n",
              "[125934 rows x 13 columns]"
            ],
            "text/html": [
              "\n",
              "  <div id=\"df-a39ddbd5-7194-4843-9efe-bae23d8770ef\">\n",
              "    <div class=\"colab-df-container\">\n",
              "      <div>\n",
              "<style scoped>\n",
              "    .dataframe tbody tr th:only-of-type {\n",
              "        vertical-align: middle;\n",
              "    }\n",
              "\n",
              "    .dataframe tbody tr th {\n",
              "        vertical-align: top;\n",
              "    }\n",
              "\n",
              "    .dataframe thead th {\n",
              "        text-align: right;\n",
              "    }\n",
              "</style>\n",
              "<table border=\"1\" class=\"dataframe\">\n",
              "  <thead>\n",
              "    <tr style=\"text-align: right;\">\n",
              "      <th></th>\n",
              "      <th>TIME_(s)</th>\n",
              "      <th>TVD_(m)</th>\n",
              "      <th>DEPTH_(m)</th>\n",
              "      <th>HDTH_(m)</th>\n",
              "      <th>BLKP_(m)</th>\n",
              "      <th>HKLA_(1000 kgf)</th>\n",
              "      <th>ROP5_(m/h)</th>\n",
              "      <th>RPM_(c/min)</th>\n",
              "      <th>STOR_(kN.m)</th>\n",
              "      <th>SWOB_(1000 kgf)</th>\n",
              "      <th>TFLO_(L/min)</th>\n",
              "      <th>SPPA_(bar)</th>\n",
              "      <th>labels</th>\n",
              "    </tr>\n",
              "  </thead>\n",
              "  <tbody>\n",
              "    <tr>\n",
              "      <th>0</th>\n",
              "      <td>2015-04-28 08:00:00</td>\n",
              "      <td>NaN</td>\n",
              "      <td>NaN</td>\n",
              "      <td>3602.011</td>\n",
              "      <td>4.05358</td>\n",
              "      <td>28.64885</td>\n",
              "      <td>NaN</td>\n",
              "      <td>-0.02821</td>\n",
              "      <td>-0.093415</td>\n",
              "      <td>-2.00262</td>\n",
              "      <td>0.0</td>\n",
              "      <td>-0.016626</td>\n",
              "      <td>success</td>\n",
              "    </tr>\n",
              "    <tr>\n",
              "      <th>1</th>\n",
              "      <td>2015-04-28 08:00:10</td>\n",
              "      <td>NaN</td>\n",
              "      <td>NaN</td>\n",
              "      <td>3602.011</td>\n",
              "      <td>4.05358</td>\n",
              "      <td>28.63197</td>\n",
              "      <td>NaN</td>\n",
              "      <td>-0.02849</td>\n",
              "      <td>-0.093198</td>\n",
              "      <td>-1.97778</td>\n",
              "      <td>0.0</td>\n",
              "      <td>-0.016660</td>\n",
              "      <td>success</td>\n",
              "    </tr>\n",
              "    <tr>\n",
              "      <th>2</th>\n",
              "      <td>2015-04-28 08:00:20</td>\n",
              "      <td>NaN</td>\n",
              "      <td>NaN</td>\n",
              "      <td>3602.011</td>\n",
              "      <td>4.05358</td>\n",
              "      <td>28.62236</td>\n",
              "      <td>NaN</td>\n",
              "      <td>-0.02894</td>\n",
              "      <td>-0.093022</td>\n",
              "      <td>-1.96641</td>\n",
              "      <td>0.0</td>\n",
              "      <td>-0.016609</td>\n",
              "      <td>success</td>\n",
              "    </tr>\n",
              "    <tr>\n",
              "      <th>3</th>\n",
              "      <td>2015-04-28 08:00:30</td>\n",
              "      <td>NaN</td>\n",
              "      <td>NaN</td>\n",
              "      <td>3602.011</td>\n",
              "      <td>4.68674</td>\n",
              "      <td>28.49389</td>\n",
              "      <td>NaN</td>\n",
              "      <td>-0.02838</td>\n",
              "      <td>-0.092845</td>\n",
              "      <td>-1.76878</td>\n",
              "      <td>0.0</td>\n",
              "      <td>-0.016122</td>\n",
              "      <td>success</td>\n",
              "    </tr>\n",
              "    <tr>\n",
              "      <th>4</th>\n",
              "      <td>2015-04-28 08:00:40</td>\n",
              "      <td>NaN</td>\n",
              "      <td>NaN</td>\n",
              "      <td>3602.011</td>\n",
              "      <td>5.89757</td>\n",
              "      <td>28.14165</td>\n",
              "      <td>NaN</td>\n",
              "      <td>-0.02872</td>\n",
              "      <td>-0.092845</td>\n",
              "      <td>-1.29060</td>\n",
              "      <td>0.0</td>\n",
              "      <td>-0.016090</td>\n",
              "      <td>success</td>\n",
              "    </tr>\n",
              "    <tr>\n",
              "      <th>...</th>\n",
              "      <td>...</td>\n",
              "      <td>...</td>\n",
              "      <td>...</td>\n",
              "      <td>...</td>\n",
              "      <td>...</td>\n",
              "      <td>...</td>\n",
              "      <td>...</td>\n",
              "      <td>...</td>\n",
              "      <td>...</td>\n",
              "      <td>...</td>\n",
              "      <td>...</td>\n",
              "      <td>...</td>\n",
              "      <td>...</td>\n",
              "    </tr>\n",
              "    <tr>\n",
              "      <th>125929</th>\n",
              "      <td>2015-05-12 21:48:10</td>\n",
              "      <td>267.7914</td>\n",
              "      <td>268.52548</td>\n",
              "      <td>5565.004</td>\n",
              "      <td>4.10823</td>\n",
              "      <td>24.93167</td>\n",
              "      <td>NaN</td>\n",
              "      <td>0.14390</td>\n",
              "      <td>-0.139831</td>\n",
              "      <td>0.00000</td>\n",
              "      <td>0.0</td>\n",
              "      <td>0.152866</td>\n",
              "      <td>success</td>\n",
              "    </tr>\n",
              "    <tr>\n",
              "      <th>125930</th>\n",
              "      <td>2015-05-12 21:48:20</td>\n",
              "      <td>267.7914</td>\n",
              "      <td>268.52548</td>\n",
              "      <td>5565.004</td>\n",
              "      <td>4.10823</td>\n",
              "      <td>25.00348</td>\n",
              "      <td>NaN</td>\n",
              "      <td>0.14420</td>\n",
              "      <td>-0.140156</td>\n",
              "      <td>40.87914</td>\n",
              "      <td>0.0</td>\n",
              "      <td>0.153982</td>\n",
              "      <td>success</td>\n",
              "    </tr>\n",
              "    <tr>\n",
              "      <th>125931</th>\n",
              "      <td>2015-05-12 21:48:30</td>\n",
              "      <td>267.7914</td>\n",
              "      <td>268.52548</td>\n",
              "      <td>5565.004</td>\n",
              "      <td>4.10823</td>\n",
              "      <td>25.01339</td>\n",
              "      <td>NaN</td>\n",
              "      <td>0.14332</td>\n",
              "      <td>-0.139993</td>\n",
              "      <td>40.87940</td>\n",
              "      <td>0.0</td>\n",
              "      <td>0.153383</td>\n",
              "      <td>success</td>\n",
              "    </tr>\n",
              "    <tr>\n",
              "      <th>125932</th>\n",
              "      <td>2015-05-12 21:48:40</td>\n",
              "      <td>267.7914</td>\n",
              "      <td>268.52548</td>\n",
              "      <td>5565.004</td>\n",
              "      <td>4.10823</td>\n",
              "      <td>25.02542</td>\n",
              "      <td>NaN</td>\n",
              "      <td>0.14569</td>\n",
              "      <td>-0.139451</td>\n",
              "      <td>40.86797</td>\n",
              "      <td>0.0</td>\n",
              "      <td>0.153397</td>\n",
              "      <td>success</td>\n",
              "    </tr>\n",
              "    <tr>\n",
              "      <th>125933</th>\n",
              "      <td>2015-05-12 21:48:50</td>\n",
              "      <td>267.7914</td>\n",
              "      <td>268.52548</td>\n",
              "      <td>5565.004</td>\n",
              "      <td>4.10823</td>\n",
              "      <td>25.01172</td>\n",
              "      <td>NaN</td>\n",
              "      <td>0.14605</td>\n",
              "      <td>-0.140400</td>\n",
              "      <td>0.00000</td>\n",
              "      <td>0.0</td>\n",
              "      <td>0.153364</td>\n",
              "      <td>success</td>\n",
              "    </tr>\n",
              "  </tbody>\n",
              "</table>\n",
              "<p>125934 rows × 13 columns</p>\n",
              "</div>\n",
              "      <button class=\"colab-df-convert\" onclick=\"convertToInteractive('df-a39ddbd5-7194-4843-9efe-bae23d8770ef')\"\n",
              "              title=\"Convert this dataframe to an interactive table.\"\n",
              "              style=\"display:none;\">\n",
              "        \n",
              "  <svg xmlns=\"http://www.w3.org/2000/svg\" height=\"24px\"viewBox=\"0 0 24 24\"\n",
              "       width=\"24px\">\n",
              "    <path d=\"M0 0h24v24H0V0z\" fill=\"none\"/>\n",
              "    <path d=\"M18.56 5.44l.94 2.06.94-2.06 2.06-.94-2.06-.94-.94-2.06-.94 2.06-2.06.94zm-11 1L8.5 8.5l.94-2.06 2.06-.94-2.06-.94L8.5 2.5l-.94 2.06-2.06.94zm10 10l.94 2.06.94-2.06 2.06-.94-2.06-.94-.94-2.06-.94 2.06-2.06.94z\"/><path d=\"M17.41 7.96l-1.37-1.37c-.4-.4-.92-.59-1.43-.59-.52 0-1.04.2-1.43.59L10.3 9.45l-7.72 7.72c-.78.78-.78 2.05 0 2.83L4 21.41c.39.39.9.59 1.41.59.51 0 1.02-.2 1.41-.59l7.78-7.78 2.81-2.81c.8-.78.8-2.07 0-2.86zM5.41 20L4 18.59l7.72-7.72 1.47 1.35L5.41 20z\"/>\n",
              "  </svg>\n",
              "      </button>\n",
              "      \n",
              "  <style>\n",
              "    .colab-df-container {\n",
              "      display:flex;\n",
              "      flex-wrap:wrap;\n",
              "      gap: 12px;\n",
              "    }\n",
              "\n",
              "    .colab-df-convert {\n",
              "      background-color: #E8F0FE;\n",
              "      border: none;\n",
              "      border-radius: 50%;\n",
              "      cursor: pointer;\n",
              "      display: none;\n",
              "      fill: #1967D2;\n",
              "      height: 32px;\n",
              "      padding: 0 0 0 0;\n",
              "      width: 32px;\n",
              "    }\n",
              "\n",
              "    .colab-df-convert:hover {\n",
              "      background-color: #E2EBFA;\n",
              "      box-shadow: 0px 1px 2px rgba(60, 64, 67, 0.3), 0px 1px 3px 1px rgba(60, 64, 67, 0.15);\n",
              "      fill: #174EA6;\n",
              "    }\n",
              "\n",
              "    [theme=dark] .colab-df-convert {\n",
              "      background-color: #3B4455;\n",
              "      fill: #D2E3FC;\n",
              "    }\n",
              "\n",
              "    [theme=dark] .colab-df-convert:hover {\n",
              "      background-color: #434B5C;\n",
              "      box-shadow: 0px 1px 3px 1px rgba(0, 0, 0, 0.15);\n",
              "      filter: drop-shadow(0px 1px 2px rgba(0, 0, 0, 0.3));\n",
              "      fill: #FFFFFF;\n",
              "    }\n",
              "  </style>\n",
              "\n",
              "      <script>\n",
              "        const buttonEl =\n",
              "          document.querySelector('#df-a39ddbd5-7194-4843-9efe-bae23d8770ef button.colab-df-convert');\n",
              "        buttonEl.style.display =\n",
              "          google.colab.kernel.accessAllowed ? 'block' : 'none';\n",
              "\n",
              "        async function convertToInteractive(key) {\n",
              "          const element = document.querySelector('#df-a39ddbd5-7194-4843-9efe-bae23d8770ef');\n",
              "          const dataTable =\n",
              "            await google.colab.kernel.invokeFunction('convertToInteractive',\n",
              "                                                     [key], {});\n",
              "          if (!dataTable) return;\n",
              "\n",
              "          const docLinkHtml = 'Like what you see? Visit the ' +\n",
              "            '<a target=\"_blank\" href=https://colab.research.google.com/notebooks/data_table.ipynb>data table notebook</a>'\n",
              "            + ' to learn more about interactive tables.';\n",
              "          element.innerHTML = '';\n",
              "          dataTable['output_type'] = 'display_data';\n",
              "          await google.colab.output.renderOutput(dataTable, element);\n",
              "          const docLink = document.createElement('div');\n",
              "          docLink.innerHTML = docLinkHtml;\n",
              "          element.appendChild(docLink);\n",
              "        }\n",
              "      </script>\n",
              "    </div>\n",
              "  </div>\n",
              "  "
            ]
          },
          "metadata": {}
        },
        {
          "output_type": "stream",
          "name": "stdout",
          "text": [
            "                        Total\n",
            "Date                         \n",
            "2015-04-28 08:00:00  28.64885\n",
            "2015-04-28 08:00:10  28.63197\n",
            "2015-04-28 08:00:20  28.62236\n",
            "2015-04-28 08:00:30  28.49389\n",
            "2015-04-28 08:00:40  28.14165\n",
            "...                       ...\n",
            "2015-05-03 12:59:10  24.82449\n",
            "2015-05-03 12:59:20  24.82211\n",
            "2015-05-03 12:59:30  24.83569\n",
            "2015-05-03 12:59:40  24.82616\n",
            "2015-05-03 12:59:50  24.83115\n",
            "\n",
            "[45000 rows x 1 columns]\n"
          ]
        }
      ],
      "source": [
        "from pandas._libs import index\n",
        "train = pd.read_csv('/content/drive/MyDrive/Colab Notebooks/Annotated/220_1.csv', delimiter=';')\n",
        "display(train)\n",
        "train = train.drop(columns=['TVD_(m)','DEPTH_(m)','HDTH_(m)','BLKP_(m)','ROP5_(m/h)','RPM_(c/min)','STOR_(kN.m)','SWOB_(1000 kgf)','TFLO_(L/min)','SPPA_(bar)','labels'])\n",
        "test = train.tail(20000)\n",
        "train = train.head(45000)\n",
        "#train['TIME_(s)']=[int(round(pd.to_datetime(train['TIME_(s)'][i]).timestamp())) for i in range(0,len(train['TIME_(s)']))]\n",
        "train.rename(columns={'TIME_(s)' : 'Date','HKLA_(1000 kgf)' : 'Total'}, inplace=True)\n",
        "#test['TIME_(s)']=[int(round(pd.to_datetime(test['TIME_(s)'][i]).timestamp())) for i in range(105934,125934)]\n",
        "test.rename(columns={'TIME_(s)' : 'Date', 'HKLA_(1000 kgf)' : 'Total'}, inplace=True)\n",
        "train.set_index('Date', inplace=True)\n",
        "test.set_index('Date', inplace=True)\n",
        "print(train)"
      ]
    },
    {
      "cell_type": "markdown",
      "metadata": {
        "id": "t8ZAnqAmUw0y"
      },
      "source": [
        "## Isolation forest"
      ]
    },
    {
      "cell_type": "code",
      "execution_count": null,
      "metadata": {
        "id": "B-nu0x8DUw0y"
      },
      "outputs": [],
      "source": [
        "from sklearn.preprocessing import StandardScaler\n",
        "from sklearn.decomposition import PCA\n",
        "from sklearn.covariance import EllipticEnvelope\n",
        "from sklearn.ensemble import IsolationForest"
      ]
    },
    {
      "cell_type": "code",
      "source": [
        "train = train.fillna(0)\n",
        "test = test.fillna(0)"
      ],
      "metadata": {
        "id": "-kZJZWAFH8Pj"
      },
      "execution_count": null,
      "outputs": []
    },
    {
      "cell_type": "code",
      "execution_count": null,
      "metadata": {
        "colab": {
          "base_uri": "https://localhost:8080/",
          "height": 628
        },
        "id": "ROiLFrC0Uw0z",
        "outputId": "85702e4a-3f81-4d00-b0ac-ed1110c0311b"
      },
      "outputs": [
        {
          "output_type": "execute_result",
          "data": {
            "text/plain": [
              "<matplotlib.axes._subplots.AxesSubplot at 0x7f270cbc5610>"
            ]
          },
          "metadata": {},
          "execution_count": 57
        },
        {
          "output_type": "display_data",
          "data": {
            "text/plain": [
              "<Figure size 1296x720 with 1 Axes>"
            ],
            "image/png": "[encoded data removed]"
          },
          "metadata": {}
        }
      ],
      "source": [
        "plt.rc('figure',figsize=(18,10))\n",
        "plt.rc('font',size=15)\n",
        "test.plot()"
      ]
    },
    {
      "cell_type": "code",
      "execution_count": null,
      "metadata": {
        "id": "Avzf_5dZUw0z"
      },
      "outputs": [],
      "source": [
        "outliers_fraction = float(.01)"
      ]
    },
    {
      "cell_type": "code",
      "execution_count": null,
      "metadata": {
        "id": "iVqSJe0oUw0z"
      },
      "outputs": [],
      "source": [
        "scaler = StandardScaler()\n",
        "np_scaled = scaler.fit_transform(train.values.reshape(-1, 1))\n",
        "data = pd.DataFrame(np_scaled)\n",
        "np_scaled = scaler.fit_transform(test.values.reshape(-1, 1))\n",
        "data_test = pd.DataFrame(np_scaled)\n"
      ]
    },
    {
      "cell_type": "code",
      "execution_count": null,
      "metadata": {
        "colab": {
          "base_uri": "https://localhost:8080/",
          "height": 424
        },
        "id": "yQsYGWMLvPoQ",
        "outputId": "5526047d-414d-41de-ddb8-1e101bda03de"
      },
      "outputs": [
        {
          "output_type": "execute_result",
          "data": {
            "text/plain": [
              "              0\n",
              "0     -1.089967\n",
              "1     -1.091047\n",
              "2     -1.091662\n",
              "3     -1.099884\n",
              "4     -1.122427\n",
              "...         ...\n",
              "44995 -1.334718\n",
              "44996 -1.334870\n",
              "44997 -1.334001\n",
              "44998 -1.334611\n",
              "44999 -1.334292\n",
              "\n",
              "[45000 rows x 1 columns]"
            ],
            "text/html": [
              "\n",
              "  <div id=\"df-496dc504-6c08-4339-abc7-ef8a75d07ecb\">\n",
              "    <div class=\"colab-df-container\">\n",
              "      <div>\n",
              "<style scoped>\n",
              "    .dataframe tbody tr th:only-of-type {\n",
              "        vertical-align: middle;\n",
              "    }\n",
              "\n",
              "    .dataframe tbody tr th {\n",
              "        vertical-align: top;\n",
              "    }\n",
              "\n",
              "    .dataframe thead th {\n",
              "        text-align: right;\n",
              "    }\n",
              "</style>\n",
              "<table border=\"1\" class=\"dataframe\">\n",
              "  <thead>\n",
              "    <tr style=\"text-align: right;\">\n",
              "      <th></th>\n",
              "      <th>0</th>\n",
              "    </tr>\n",
              "  </thead>\n",
              "  <tbody>\n",
              "    <tr>\n",
              "      <th>0</th>\n",
              "      <td>-1.089967</td>\n",
              "    </tr>\n",
              "    <tr>\n",
              "      <th>1</th>\n",
              "      <td>-1.091047</td>\n",
              "    </tr>\n",
              "    <tr>\n",
              "      <th>2</th>\n",
              "      <td>-1.091662</td>\n",
              "    </tr>\n",
              "    <tr>\n",
              "      <th>3</th>\n",
              "      <td>-1.099884</td>\n",
              "    </tr>\n",
              "    <tr>\n",
              "      <th>4</th>\n",
              "      <td>-1.122427</td>\n",
              "    </tr>\n",
              "    <tr>\n",
              "      <th>...</th>\n",
              "      <td>...</td>\n",
              "    </tr>\n",
              "    <tr>\n",
              "      <th>44995</th>\n",
              "      <td>-1.334718</td>\n",
              "    </tr>\n",
              "    <tr>\n",
              "      <th>44996</th>\n",
              "      <td>-1.334870</td>\n",
              "    </tr>\n",
              "    <tr>\n",
              "      <th>44997</th>\n",
              "      <td>-1.334001</td>\n",
              "    </tr>\n",
              "    <tr>\n",
              "      <th>44998</th>\n",
              "      <td>-1.334611</td>\n",
              "    </tr>\n",
              "    <tr>\n",
              "      <th>44999</th>\n",
              "      <td>-1.334292</td>\n",
              "    </tr>\n",
              "  </tbody>\n",
              "</table>\n",
              "<p>45000 rows × 1 columns</p>\n",
              "</div>\n",
              "      <button class=\"colab-df-convert\" onclick=\"convertToInteractive('df-496dc504-6c08-4339-abc7-ef8a75d07ecb')\"\n",
              "              title=\"Convert this dataframe to an interactive table.\"\n",
              "              style=\"display:none;\">\n",
              "        \n",
              "  <svg xmlns=\"http://www.w3.org/2000/svg\" height=\"24px\"viewBox=\"0 0 24 24\"\n",
              "       width=\"24px\">\n",
              "    <path d=\"M0 0h24v24H0V0z\" fill=\"none\"/>\n",
              "    <path d=\"M18.56 5.44l.94 2.06.94-2.06 2.06-.94-2.06-.94-.94-2.06-.94 2.06-2.06.94zm-11 1L8.5 8.5l.94-2.06 2.06-.94-2.06-.94L8.5 2.5l-.94 2.06-2.06.94zm10 10l.94 2.06.94-2.06 2.06-.94-2.06-.94-.94-2.06-.94 2.06-2.06.94z\"/><path d=\"M17.41 7.96l-1.37-1.37c-.4-.4-.92-.59-1.43-.59-.52 0-1.04.2-1.43.59L10.3 9.45l-7.72 7.72c-.78.78-.78 2.05 0 2.83L4 21.41c.39.39.9.59 1.41.59.51 0 1.02-.2 1.41-.59l7.78-7.78 2.81-2.81c.8-.78.8-2.07 0-2.86zM5.41 20L4 18.59l7.72-7.72 1.47 1.35L5.41 20z\"/>\n",
              "  </svg>\n",
              "      </button>\n",
              "      \n",
              "  <style>\n",
              "    .colab-df-container {\n",
              "      display:flex;\n",
              "      flex-wrap:wrap;\n",
              "      gap: 12px;\n",
              "    }\n",
              "\n",
              "    .colab-df-convert {\n",
              "      background-color: #E8F0FE;\n",
              "      border: none;\n",
              "      border-radius: 50%;\n",
              "      cursor: pointer;\n",
              "      display: none;\n",
              "      fill: #1967D2;\n",
              "      height: 32px;\n",
              "      padding: 0 0 0 0;\n",
              "      width: 32px;\n",
              "    }\n",
              "\n",
              "    .colab-df-convert:hover {\n",
              "      background-color: #E2EBFA;\n",
              "      box-shadow: 0px 1px 2px rgba(60, 64, 67, 0.3), 0px 1px 3px 1px rgba(60, 64, 67, 0.15);\n",
              "      fill: #174EA6;\n",
              "    }\n",
              "\n",
              "    [theme=dark] .colab-df-convert {\n",
              "      background-color: #3B4455;\n",
              "      fill: #D2E3FC;\n",
              "    }\n",
              "\n",
              "    [theme=dark] .colab-df-convert:hover {\n",
              "      background-color: #434B5C;\n",
              "      box-shadow: 0px 1px 3px 1px rgba(0, 0, 0, 0.15);\n",
              "      filter: drop-shadow(0px 1px 2px rgba(0, 0, 0, 0.3));\n",
              "      fill: #FFFFFF;\n",
              "    }\n",
              "  </style>\n",
              "\n",
              "      <script>\n",
              "        const buttonEl =\n",
              "          document.querySelector('#df-496dc504-6c08-4339-abc7-ef8a75d07ecb button.colab-df-convert');\n",
              "        buttonEl.style.display =\n",
              "          google.colab.kernel.accessAllowed ? 'block' : 'none';\n",
              "\n",
              "        async function convertToInteractive(key) {\n",
              "          const element = document.querySelector('#df-496dc504-6c08-4339-abc7-ef8a75d07ecb');\n",
              "          const dataTable =\n",
              "            await google.colab.kernel.invokeFunction('convertToInteractive',\n",
              "                                                     [key], {});\n",
              "          if (!dataTable) return;\n",
              "\n",
              "          const docLinkHtml = 'Like what you see? Visit the ' +\n",
              "            '<a target=\"_blank\" href=https://colab.research.google.com/notebooks/data_table.ipynb>data table notebook</a>'\n",
              "            + ' to learn more about interactive tables.';\n",
              "          element.innerHTML = '';\n",
              "          dataTable['output_type'] = 'display_data';\n",
              "          await google.colab.output.renderOutput(dataTable, element);\n",
              "          const docLink = document.createElement('div');\n",
              "          docLink.innerHTML = docLinkHtml;\n",
              "          element.appendChild(docLink);\n",
              "        }\n",
              "      </script>\n",
              "    </div>\n",
              "  </div>\n",
              "  "
            ]
          },
          "metadata": {},
          "execution_count": 50
        }
      ],
      "source": [
        "data"
      ]
    },
    {
      "cell_type": "code",
      "execution_count": null,
      "metadata": {
        "id": "F28fpz7bUw00",
        "colab": {
          "base_uri": "https://localhost:8080/"
        },
        "outputId": "64d25a2c-66ee-4517-9947-d238e383bcb6"
      },
      "outputs": [
        {
          "output_type": "execute_result",
          "data": {
            "text/plain": [
              "IsolationForest(contamination=0.01)"
            ]
          },
          "metadata": {},
          "execution_count": 60
        }
      ],
      "source": [
        "# train isolation forest\n",
        "model =  IsolationForest(contamination=outliers_fraction)\n",
        "model.fit(data) "
      ]
    },
    {
      "cell_type": "code",
      "execution_count": null,
      "metadata": {
        "colab": {
          "base_uri": "https://localhost:8080/",
          "height": 594
        },
        "id": "VDE29HxqUw00",
        "outputId": "dcedcfc1-deb5-4751-dd55-62bcc906b1a8"
      },
      "outputs": [
        {
          "output_type": "display_data",
          "data": {
            "text/plain": [
              "<Figure size 1296x720 with 1 Axes>"
            ],
            "image/png": "[encoded data removed]"
          },
          "metadata": {}
        }
      ],
      "source": [
        "test['anomaly'] = model.predict(data_test)\n",
        "\n",
        "# visualization\n",
        "fig, ax = plt.subplots(figsize=(18,10))\n",
        "\n",
        "a = test.loc[test['anomaly'] == -1, ['Total']] #anomaly\n",
        "\n",
        "ax.plot(test.index, test['Total'], color='black', label = 'Normal')\n",
        "ax.scatter(a.index,a['Total'], color='red', label = 'Anomaly')\n",
        "plt.legend()\n",
        "plt.show();"
      ]
    },
    {
      "cell_type": "code",
      "execution_count": null,
      "metadata": {
        "id": "KK1lvQNOG3k4"
      },
      "outputs": [],
      "source": [
        "a.to_excel(\"/content/drive/MyDrive/Colab Notebooks/datasets/нир.xlsx\")"
      ]
    },
    {
      "cell_type": "markdown",
      "metadata": {
        "id": "uU_jY2VeUw00"
      },
      "source": [
        "## Kmeans"
      ]
    },
    {
      "cell_type": "markdown",
      "metadata": {
        "id": "09zZfodnrotd"
      },
      "source": [
        "# Random forest"
      ]
    },
    {
      "cell_type": "code",
      "execution_count": null,
      "metadata": {
        "id": "Y_EXpdmlrTzt"
      },
      "outputs": [],
      "source": [
        "import pandas as pd\n",
        "import numpy as np\n",
        "import matplotlib.pyplot as plt\n",
        "from sklearn.model_selection import train_test_split\n",
        "from sklearn.ensemble import RandomForestClassifier"
      ]
    },
    {
      "cell_type": "code",
      "execution_count": null,
      "metadata": {
        "colab": {
          "base_uri": "https://localhost:8080/"
        },
        "id": "kyhQbfbMWR54",
        "outputId": "8f09a02d-32ab-46e9-8b6a-d85e04476191"
      },
      "outputs": [
        {
          "output_type": "stream",
          "name": "stdout",
          "text": [
            "Mounted at /content/drive\n"
          ]
        }
      ],
      "source": [
        "from google.colab import drive\n",
        "drive.mount('/content/drive')"
      ]
    },
    {
      "cell_type": "code",
      "execution_count": null,
      "metadata": {
        "id": "OlRESp97rnCj"
      },
      "outputs": [],
      "source": [
        "RSEED = 50"
      ]
    },
    {
      "cell_type": "code",
      "execution_count": null,
      "metadata": {
        "id": "W1x5eJfKkT8F"
      },
      "outputs": [],
      "source": [
        "from pandas.core.frame import DataFrame\n",
        "#без 220_1\n",
        "temp_arr = np.array([\n",
        "                      '/content/drive/MyDrive/Colab Notebooks/Annotated/276_SMNG_276_Механический_Каротаж_200403-200411_Режим_записи.csv',\n",
        "                     \n",
        "                     '/content/drive/MyDrive/Colab Notebooks/Annotated/243_1.csv',\n",
        "                      '/content/drive/MyDrive/Colab Notebooks/Annotated/243_2.csv',\n",
        "'/content/drive/MyDrive/Colab Notebooks/Annotated/243_3.csv',\n",
        "'/content/drive/MyDrive/Colab Notebooks/Annotated/243_4.csv',\n",
        "'/content/drive/MyDrive/Colab Notebooks/Annotated/243_5.csv',\n",
        "                     \n",
        "                     '/content/drive/MyDrive/Colab Notebooks/Annotated/248_1.csv',\n",
        "                     '/content/drive/MyDrive/Colab Notebooks/Annotated/248_2.csv',\n",
        "                     '/content/drive/MyDrive/Colab Notebooks/Annotated/248_3.csv',\n",
        "                     '/content/drive/MyDrive/Colab Notebooks/Annotated/248_4.csv',\n",
        "                     '/content/drive/MyDrive/Colab Notebooks/Annotated/248_5.csv'\n",
        "                     ])\n",
        "df = pd.DataFrame()\n",
        "for i in range(0,len(temp_arr)):\n",
        "  temp = pd.read_csv(temp_arr[i],delimiter=';')\n",
        "  df = pd.concat([df,temp],ignore_index=True)"
      ]
    },
    {
      "cell_type": "code",
      "execution_count": null,
      "metadata": {
        "id": "nzt--MOlqEwV",
        "colab": {
          "base_uri": "https://localhost:8080/",
          "height": 852
        },
        "outputId": "61356ed1-b60e-4e64-dcd9-03c3b4fa299f"
      },
      "outputs": [
        {
          "output_type": "display_data",
          "data": {
            "text/plain": [
              "                    TIME_(s)   TVD_(m)  DEPTH_(m)  HDTH_(m)  BLKP_(m)  \\\n",
              "0        2015-04-28 08:00:00       NaN        NaN  3602.011   4.05358   \n",
              "1        2015-04-28 08:00:10       NaN        NaN  3602.011   4.05358   \n",
              "2        2015-04-28 08:00:20       NaN        NaN  3602.011   4.05358   \n",
              "3        2015-04-28 08:00:30       NaN        NaN  3602.011   4.68674   \n",
              "4        2015-04-28 08:00:40       NaN        NaN  3602.011   5.89757   \n",
              "...                      ...       ...        ...       ...       ...   \n",
              "1027691  2019-07-05 20:11:13  220.3666    220.674  8698.829  11.73870   \n",
              "1027692  2019-07-05 20:11:23  220.3666    220.674  8698.829  11.73870   \n",
              "1027693  2019-07-05 20:11:33  220.3666    220.674  8698.829  11.73870   \n",
              "1027694  2019-07-05 20:11:43  220.3666    220.674  8698.829  11.73870   \n",
              "1027695  2019-07-05 20:11:53  220.3666    220.674  8698.829  11.73870   \n",
              "\n",
              "         HKLA_(1000 kgf)  ROP5_(m/h)  RPM_(c/min)  STOR_(kN.m)  \\\n",
              "0               28.64885         NaN     -0.02821    -0.093415   \n",
              "1               28.63197         NaN     -0.02849    -0.093198   \n",
              "2               28.62236         NaN     -0.02894    -0.093022   \n",
              "3               28.49389         NaN     -0.02838    -0.092845   \n",
              "4               28.14165         NaN     -0.02872    -0.092845   \n",
              "...                  ...         ...          ...          ...   \n",
              "1027691         26.45220         NaN      0.02470    -0.362866   \n",
              "1027692         26.40500         NaN      0.02480    -0.362052   \n",
              "1027693         26.37780         NaN      0.02690    -0.362730   \n",
              "1027694         26.44850         NaN      0.02620    -0.363544   \n",
              "1027695         26.45190         NaN      0.02420    -0.363137   \n",
              "\n",
              "         SWOB_(1000 kgf)  TFLO_(L/min)  SPPA_(bar)   labels  \n",
              "0               -2.00262           0.0   -0.016626  success  \n",
              "1               -1.97778           0.0   -0.016660  success  \n",
              "2               -1.96641           0.0   -0.016609  success  \n",
              "3               -1.76878           0.0   -0.016122  success  \n",
              "4               -1.29060           0.0   -0.016090  success  \n",
              "...                  ...           ...         ...      ...  \n",
              "1027691          0.00000           0.0    1.312868  success  \n",
              "1027692          0.00000           0.0    1.314286  success  \n",
              "1027693          0.00000           0.0    1.311551  success  \n",
              "1027694          0.00000           0.0    1.312868  success  \n",
              "1027695          0.00000           0.0    1.313881  success  \n",
              "\n",
              "[1027696 rows x 13 columns]"
            ],
            "text/html": [
              "\n",
              "  <div id=\"df-94a03fd6-0836-45b1-a966-f163243b0c8f\">\n",
              "    <div class=\"colab-df-container\">\n",
              "      <div>\n",
              "<style scoped>\n",
              "    .dataframe tbody tr th:only-of-type {\n",
              "        vertical-align: middle;\n",
              "    }\n",
              "\n",
              "    .dataframe tbody tr th {\n",
              "        vertical-align: top;\n",
              "    }\n",
              "\n",
              "    .dataframe thead th {\n",
              "        text-align: right;\n",
              "    }\n",
              "</style>\n",
              "<table border=\"1\" class=\"dataframe\">\n",
              "  <thead>\n",
              "    <tr style=\"text-align: right;\">\n",
              "      <th></th>\n",
              "      <th>TIME_(s)</th>\n",
              "      <th>TVD_(m)</th>\n",
              "      <th>DEPTH_(m)</th>\n",
              "      <th>HDTH_(m)</th>\n",
              "      <th>BLKP_(m)</th>\n",
              "      <th>HKLA_(1000 kgf)</th>\n",
              "      <th>ROP5_(m/h)</th>\n",
              "      <th>RPM_(c/min)</th>\n",
              "      <th>STOR_(kN.m)</th>\n",
              "      <th>SWOB_(1000 kgf)</th>\n",
              "      <th>TFLO_(L/min)</th>\n",
              "      <th>SPPA_(bar)</th>\n",
              "      <th>labels</th>\n",
              "    </tr>\n",
              "  </thead>\n",
              "  <tbody>\n",
              "    <tr>\n",
              "      <th>0</th>\n",
              "      <td>2015-04-28 08:00:00</td>\n",
              "      <td>NaN</td>\n",
              "      <td>NaN</td>\n",
              "      <td>3602.011</td>\n",
              "      <td>4.05358</td>\n",
              "      <td>28.64885</td>\n",
              "      <td>NaN</td>\n",
              "      <td>-0.02821</td>\n",
              "      <td>-0.093415</td>\n",
              "      <td>-2.00262</td>\n",
              "      <td>0.0</td>\n",
              "      <td>-0.016626</td>\n",
              "      <td>success</td>\n",
              "    </tr>\n",
              "    <tr>\n",
              "      <th>1</th>\n",
              "      <td>2015-04-28 08:00:10</td>\n",
              "      <td>NaN</td>\n",
              "      <td>NaN</td>\n",
              "      <td>3602.011</td>\n",
              "      <td>4.05358</td>\n",
              "      <td>28.63197</td>\n",
              "      <td>NaN</td>\n",
              "      <td>-0.02849</td>\n",
              "      <td>-0.093198</td>\n",
              "      <td>-1.97778</td>\n",
              "      <td>0.0</td>\n",
              "      <td>-0.016660</td>\n",
              "      <td>success</td>\n",
              "    </tr>\n",
              "    <tr>\n",
              "      <th>2</th>\n",
              "      <td>2015-04-28 08:00:20</td>\n",
              "      <td>NaN</td>\n",
              "      <td>NaN</td>\n",
              "      <td>3602.011</td>\n",
              "      <td>4.05358</td>\n",
              "      <td>28.62236</td>\n",
              "      <td>NaN</td>\n",
              "      <td>-0.02894</td>\n",
              "      <td>-0.093022</td>\n",
              "      <td>-1.96641</td>\n",
              "      <td>0.0</td>\n",
              "      <td>-0.016609</td>\n",
              "      <td>success</td>\n",
              "    </tr>\n",
              "    <tr>\n",
              "      <th>3</th>\n",
              "      <td>2015-04-28 08:00:30</td>\n",
              "      <td>NaN</td>\n",
              "      <td>NaN</td>\n",
              "      <td>3602.011</td>\n",
              "      <td>4.68674</td>\n",
              "      <td>28.49389</td>\n",
              "      <td>NaN</td>\n",
              "      <td>-0.02838</td>\n",
              "      <td>-0.092845</td>\n",
              "      <td>-1.76878</td>\n",
              "      <td>0.0</td>\n",
              "      <td>-0.016122</td>\n",
              "      <td>success</td>\n",
              "    </tr>\n",
              "    <tr>\n",
              "      <th>4</th>\n",
              "      <td>2015-04-28 08:00:40</td>\n",
              "      <td>NaN</td>\n",
              "      <td>NaN</td>\n",
              "      <td>3602.011</td>\n",
              "      <td>5.89757</td>\n",
              "      <td>28.14165</td>\n",
              "      <td>NaN</td>\n",
              "      <td>-0.02872</td>\n",
              "      <td>-0.092845</td>\n",
              "      <td>-1.29060</td>\n",
              "      <td>0.0</td>\n",
              "      <td>-0.016090</td>\n",
              "      <td>success</td>\n",
              "    </tr>\n",
              "    <tr>\n",
              "      <th>...</th>\n",
              "      <td>...</td>\n",
              "      <td>...</td>\n",
              "      <td>...</td>\n",
              "      <td>...</td>\n",
              "      <td>...</td>\n",
              "      <td>...</td>\n",
              "      <td>...</td>\n",
              "      <td>...</td>\n",
              "      <td>...</td>\n",
              "      <td>...</td>\n",
              "      <td>...</td>\n",
              "      <td>...</td>\n",
              "      <td>...</td>\n",
              "    </tr>\n",
              "    <tr>\n",
              "      <th>1027691</th>\n",
              "      <td>2019-07-05 20:11:13</td>\n",
              "      <td>220.3666</td>\n",
              "      <td>220.674</td>\n",
              "      <td>8698.829</td>\n",
              "      <td>11.73870</td>\n",
              "      <td>26.45220</td>\n",
              "      <td>NaN</td>\n",
              "      <td>0.02470</td>\n",
              "      <td>-0.362866</td>\n",
              "      <td>0.00000</td>\n",
              "      <td>0.0</td>\n",
              "      <td>1.312868</td>\n",
              "      <td>success</td>\n",
              "    </tr>\n",
              "    <tr>\n",
              "      <th>1027692</th>\n",
              "      <td>2019-07-05 20:11:23</td>\n",
              "      <td>220.3666</td>\n",
              "      <td>220.674</td>\n",
              "      <td>8698.829</td>\n",
              "      <td>11.73870</td>\n",
              "      <td>26.40500</td>\n",
              "      <td>NaN</td>\n",
              "      <td>0.02480</td>\n",
              "      <td>-0.362052</td>\n",
              "      <td>0.00000</td>\n",
              "      <td>0.0</td>\n",
              "      <td>1.314286</td>\n",
              "      <td>success</td>\n",
              "    </tr>\n",
              "    <tr>\n",
              "      <th>1027693</th>\n",
              "      <td>2019-07-05 20:11:33</td>\n",
              "      <td>220.3666</td>\n",
              "      <td>220.674</td>\n",
              "      <td>8698.829</td>\n",
              "      <td>11.73870</td>\n",
              "      <td>26.37780</td>\n",
              "      <td>NaN</td>\n",
              "      <td>0.02690</td>\n",
              "      <td>-0.362730</td>\n",
              "      <td>0.00000</td>\n",
              "      <td>0.0</td>\n",
              "      <td>1.311551</td>\n",
              "      <td>success</td>\n",
              "    </tr>\n",
              "    <tr>\n",
              "      <th>1027694</th>\n",
              "      <td>2019-07-05 20:11:43</td>\n",
              "      <td>220.3666</td>\n",
              "      <td>220.674</td>\n",
              "      <td>8698.829</td>\n",
              "      <td>11.73870</td>\n",
              "      <td>26.44850</td>\n",
              "      <td>NaN</td>\n",
              "      <td>0.02620</td>\n",
              "      <td>-0.363544</td>\n",
              "      <td>0.00000</td>\n",
              "      <td>0.0</td>\n",
              "      <td>1.312868</td>\n",
              "      <td>success</td>\n",
              "    </tr>\n",
              "    <tr>\n",
              "      <th>1027695</th>\n",
              "      <td>2019-07-05 20:11:53</td>\n",
              "      <td>220.3666</td>\n",
              "      <td>220.674</td>\n",
              "      <td>8698.829</td>\n",
              "      <td>11.73870</td>\n",
              "      <td>26.45190</td>\n",
              "      <td>NaN</td>\n",
              "      <td>0.02420</td>\n",
              "      <td>-0.363137</td>\n",
              "      <td>0.00000</td>\n",
              "      <td>0.0</td>\n",
              "      <td>1.313881</td>\n",
              "      <td>success</td>\n",
              "    </tr>\n",
              "  </tbody>\n",
              "</table>\n",
              "<p>1027696 rows × 13 columns</p>\n",
              "</div>\n",
              "      <button class=\"colab-df-convert\" onclick=\"convertToInteractive('df-94a03fd6-0836-45b1-a966-f163243b0c8f')\"\n",
              "              title=\"Convert this dataframe to an interactive table.\"\n",
              "              style=\"display:none;\">\n",
              "        \n",
              "  <svg xmlns=\"http://www.w3.org/2000/svg\" height=\"24px\"viewBox=\"0 0 24 24\"\n",
              "       width=\"24px\">\n",
              "    <path d=\"M0 0h24v24H0V0z\" fill=\"none\"/>\n",
              "    <path d=\"M18.56 5.44l.94 2.06.94-2.06 2.06-.94-2.06-.94-.94-2.06-.94 2.06-2.06.94zm-11 1L8.5 8.5l.94-2.06 2.06-.94-2.06-.94L8.5 2.5l-.94 2.06-2.06.94zm10 10l.94 2.06.94-2.06 2.06-.94-2.06-.94-.94-2.06-.94 2.06-2.06.94z\"/><path d=\"M17.41 7.96l-1.37-1.37c-.4-.4-.92-.59-1.43-.59-.52 0-1.04.2-1.43.59L10.3 9.45l-7.72 7.72c-.78.78-.78 2.05 0 2.83L4 21.41c.39.39.9.59 1.41.59.51 0 1.02-.2 1.41-.59l7.78-7.78 2.81-2.81c.8-.78.8-2.07 0-2.86zM5.41 20L4 18.59l7.72-7.72 1.47 1.35L5.41 20z\"/>\n",
              "  </svg>\n",
              "      </button>\n",
              "      \n",
              "  <style>\n",
              "    .colab-df-container {\n",
              "      display:flex;\n",
              "      flex-wrap:wrap;\n",
              "      gap: 12px;\n",
              "    }\n",
              "\n",
              "    .colab-df-convert {\n",
              "      background-color: #E8F0FE;\n",
              "      border: none;\n",
              "      border-radius: 50%;\n",
              "      cursor: pointer;\n",
              "      display: none;\n",
              "      fill: #1967D2;\n",
              "      height: 32px;\n",
              "      padding: 0 0 0 0;\n",
              "      width: 32px;\n",
              "    }\n",
              "\n",
              "    .colab-df-convert:hover {\n",
              "      background-color: #E2EBFA;\n",
              "      box-shadow: 0px 1px 2px rgba(60, 64, 67, 0.3), 0px 1px 3px 1px rgba(60, 64, 67, 0.15);\n",
              "      fill: #174EA6;\n",
              "    }\n",
              "\n",
              "    [theme=dark] .colab-df-convert {\n",
              "      background-color: #3B4455;\n",
              "      fill: #D2E3FC;\n",
              "    }\n",
              "\n",
              "    [theme=dark] .colab-df-convert:hover {\n",
              "      background-color: #434B5C;\n",
              "      box-shadow: 0px 1px 3px 1px rgba(0, 0, 0, 0.15);\n",
              "      filter: drop-shadow(0px 1px 2px rgba(0, 0, 0, 0.3));\n",
              "      fill: #FFFFFF;\n",
              "    }\n",
              "  </style>\n",
              "\n",
              "      <script>\n",
              "        const buttonEl =\n",
              "          document.querySelector('#df-94a03fd6-0836-45b1-a966-f163243b0c8f button.colab-df-convert');\n",
              "        buttonEl.style.display =\n",
              "          google.colab.kernel.accessAllowed ? 'block' : 'none';\n",
              "\n",
              "        async function convertToInteractive(key) {\n",
              "          const element = document.querySelector('#df-94a03fd6-0836-45b1-a966-f163243b0c8f');\n",
              "          const dataTable =\n",
              "            await google.colab.kernel.invokeFunction('convertToInteractive',\n",
              "                                                     [key], {});\n",
              "          if (!dataTable) return;\n",
              "\n",
              "          const docLinkHtml = 'Like what you see? Visit the ' +\n",
              "            '<a target=\"_blank\" href=https://colab.research.google.com/notebooks/data_table.ipynb>data table notebook</a>'\n",
              "            + ' to learn more about interactive tables.';\n",
              "          element.innerHTML = '';\n",
              "          dataTable['output_type'] = 'display_data';\n",
              "          await google.colab.output.renderOutput(dataTable, element);\n",
              "          const docLink = document.createElement('div');\n",
              "          docLink.innerHTML = docLinkHtml;\n",
              "          element.appendChild(docLink);\n",
              "        }\n",
              "      </script>\n",
              "    </div>\n",
              "  </div>\n",
              "  "
            ]
          },
          "metadata": {}
        }
      ],
      "source": [
        "display(df)"
      ]
    },
    {
      "cell_type": "code",
      "execution_count": null,
      "metadata": {
        "id": "PHs0Agzkmlk0"
      },
      "outputs": [],
      "source": [
        "#temp0 = pd.read_csv('/content/drive/MyDrive/Colab Notebooks/Annotated/220_1.csv',delimiter=';')\n",
        "temp = pd.read_csv('/content/drive/MyDrive/Colab Notebooks/Annotated/241_1.csv',delimiter=';')\n",
        "temp1 = pd.read_csv('/content/drive/MyDrive/Colab Notebooks/Annotated/241_2.csv',delimiter=';')\n",
        "temp2 = pd.read_csv('/content/drive/MyDrive/Colab Notebooks/Annotated/241_3.csv',delimiter=';')\n",
        "temp3 = pd.read_csv('/content/drive/MyDrive/Colab Notebooks/Annotated/241_4.csv',delimiter=';')\n",
        "\n",
        "\n",
        "temp11 = pd.read_csv('/content/drive/MyDrive/Colab Notebooks/Annotated/248_1.csv',delimiter=';')\n",
        "temp12 = pd.read_csv('/content/drive/MyDrive/Colab Notebooks/Annotated/248_2.csv',delimiter=';')\n",
        "temp13 = pd.read_csv('/content/drive/MyDrive/Colab Notebooks/Annotated/248_3.csv',delimiter=';')\n",
        "temp14 = pd.read_csv('/content/drive/MyDrive/Colab Notebooks/Annotated/248_4.csv',delimiter=';')\n",
        "temp15 = pd.read_csv('/content/drive/MyDrive/Colab Notebooks/Annotated/248_5.csv',delimiter=';')\n",
        "df1 = pd.concat([temp,temp1,temp2,temp3],ignore_index=True)"
      ]
    },
    {
      "cell_type": "code",
      "source": [
        "display(df1)"
      ],
      "metadata": {
        "colab": {
          "base_uri": "https://localhost:8080/",
          "height": 852
        },
        "id": "A59it-80urU7",
        "outputId": "101fb570-bd79-4fac-cb72-d4ac67feaf69"
      },
      "execution_count": null,
      "outputs": [
        {
          "output_type": "display_data",
          "data": {
            "text/plain": [
              "                   TIME_(s)  HDTH_(m)  DEPTH_(m)  ROP5_(m/h)  SWOB_(1000 kgf)  \\\n",
              "0       2019-04-21 04:37:18  5604.998    46.4685         NaN              0.0   \n",
              "1       2019-04-21 04:37:28  5604.998    46.4685         NaN              0.0   \n",
              "2       2019-04-21 04:37:38  5604.998    46.4685         NaN              0.0   \n",
              "3       2019-04-21 04:37:48  5604.998    46.4685         NaN              0.0   \n",
              "4       2019-04-21 04:37:58  5604.998    46.4685         NaN              0.0   \n",
              "...                     ...       ...        ...         ...              ...   \n",
              "510508  2019-07-05 20:11:13  8698.829   220.6740         NaN              0.0   \n",
              "510509  2019-07-05 20:11:23  8698.829   220.6740         NaN              0.0   \n",
              "510510  2019-07-05 20:11:33  8698.829   220.6740         NaN              0.0   \n",
              "510511  2019-07-05 20:11:43  8698.829   220.6740         NaN              0.0   \n",
              "510512  2019-07-05 20:11:53  8698.829   220.6740         NaN              0.0   \n",
              "\n",
              "        SPPA_(bar)  TFLO_(L/min)  STOR_(kN.m)  RPM_(c/min)  HKLA_(1000 kgf)  \\\n",
              "0         1.431793           0.0    -0.401905     -0.01634         22.76945   \n",
              "1         1.430719           0.0    -0.402773     -0.01799         23.00671   \n",
              "2         1.430233           0.0    -0.401742     -0.01613         23.00936   \n",
              "3         1.430263           0.0    -0.401729     -0.01720         23.00790   \n",
              "4         1.428682           0.0    -0.402230     -0.01907         25.34327   \n",
              "...            ...           ...          ...          ...              ...   \n",
              "510508    1.312868           0.0    -0.362866      0.02470         26.45220   \n",
              "510509    1.314286           0.0    -0.362052      0.02480         26.40500   \n",
              "510510    1.311551           0.0    -0.362730      0.02690         26.37780   \n",
              "510511    1.312868           0.0    -0.363544      0.02620         26.44850   \n",
              "510512    1.313881           0.0    -0.363137      0.02420         26.45190   \n",
              "\n",
              "        BLKP_(m)    TVD_(m)   labels  \n",
              "0        3.85908   46.46843  success  \n",
              "1        3.58605   46.46843  success  \n",
              "2        3.58605   46.46843  success  \n",
              "3        3.58605   46.46843  success  \n",
              "4        2.65502   46.46843  success  \n",
              "...          ...        ...      ...  \n",
              "510508  11.73870  220.36660  success  \n",
              "510509  11.73870  220.36660  success  \n",
              "510510  11.73870  220.36660  success  \n",
              "510511  11.73870  220.36660  success  \n",
              "510512  11.73870  220.36660  success  \n",
              "\n",
              "[510513 rows x 13 columns]"
            ],
            "text/html": [
              "\n",
              "  <div id=\"df-dc896570-10f0-4878-919a-69f0ad60b3e8\">\n",
              "    <div class=\"colab-df-container\">\n",
              "      <div>\n",
              "<style scoped>\n",
              "    .dataframe tbody tr th:only-of-type {\n",
              "        vertical-align: middle;\n",
              "    }\n",
              "\n",
              "    .dataframe tbody tr th {\n",
              "        vertical-align: top;\n",
              "    }\n",
              "\n",
              "    .dataframe thead th {\n",
              "        text-align: right;\n",
              "    }\n",
              "</style>\n",
              "<table border=\"1\" class=\"dataframe\">\n",
              "  <thead>\n",
              "    <tr style=\"text-align: right;\">\n",
              "      <th></th>\n",
              "      <th>TIME_(s)</th>\n",
              "      <th>HDTH_(m)</th>\n",
              "      <th>DEPTH_(m)</th>\n",
              "      <th>ROP5_(m/h)</th>\n",
              "      <th>SWOB_(1000 kgf)</th>\n",
              "      <th>SPPA_(bar)</th>\n",
              "      <th>TFLO_(L/min)</th>\n",
              "      <th>STOR_(kN.m)</th>\n",
              "      <th>RPM_(c/min)</th>\n",
              "      <th>HKLA_(1000 kgf)</th>\n",
              "      <th>BLKP_(m)</th>\n",
              "      <th>TVD_(m)</th>\n",
              "      <th>labels</th>\n",
              "    </tr>\n",
              "  </thead>\n",
              "  <tbody>\n",
              "    <tr>\n",
              "      <th>0</th>\n",
              "      <td>2019-04-21 04:37:18</td>\n",
              "      <td>5604.998</td>\n",
              "      <td>46.4685</td>\n",
              "      <td>NaN</td>\n",
              "      <td>0.0</td>\n",
              "      <td>1.431793</td>\n",
              "      <td>0.0</td>\n",
              "      <td>-0.401905</td>\n",
              "      <td>-0.01634</td>\n",
              "      <td>22.76945</td>\n",
              "      <td>3.85908</td>\n",
              "      <td>46.46843</td>\n",
              "      <td>success</td>\n",
              "    </tr>\n",
              "    <tr>\n",
              "      <th>1</th>\n",
              "      <td>2019-04-21 04:37:28</td>\n",
              "      <td>5604.998</td>\n",
              "      <td>46.4685</td>\n",
              "      <td>NaN</td>\n",
              "      <td>0.0</td>\n",
              "      <td>1.430719</td>\n",
              "      <td>0.0</td>\n",
              "      <td>-0.402773</td>\n",
              "      <td>-0.01799</td>\n",
              "      <td>23.00671</td>\n",
              "      <td>3.58605</td>\n",
              "      <td>46.46843</td>\n",
              "      <td>success</td>\n",
              "    </tr>\n",
              "    <tr>\n",
              "      <th>2</th>\n",
              "      <td>2019-04-21 04:37:38</td>\n",
              "      <td>5604.998</td>\n",
              "      <td>46.4685</td>\n",
              "      <td>NaN</td>\n",
              "      <td>0.0</td>\n",
              "      <td>1.430233</td>\n",
              "      <td>0.0</td>\n",
              "      <td>-0.401742</td>\n",
              "      <td>-0.01613</td>\n",
              "      <td>23.00936</td>\n",
              "      <td>3.58605</td>\n",
              "      <td>46.46843</td>\n",
              "      <td>success</td>\n",
              "    </tr>\n",
              "    <tr>\n",
              "      <th>3</th>\n",
              "      <td>2019-04-21 04:37:48</td>\n",
              "      <td>5604.998</td>\n",
              "      <td>46.4685</td>\n",
              "      <td>NaN</td>\n",
              "      <td>0.0</td>\n",
              "      <td>1.430263</td>\n",
              "      <td>0.0</td>\n",
              "      <td>-0.401729</td>\n",
              "      <td>-0.01720</td>\n",
              "      <td>23.00790</td>\n",
              "      <td>3.58605</td>\n",
              "      <td>46.46843</td>\n",
              "      <td>success</td>\n",
              "    </tr>\n",
              "    <tr>\n",
              "      <th>4</th>\n",
              "      <td>2019-04-21 04:37:58</td>\n",
              "      <td>5604.998</td>\n",
              "      <td>46.4685</td>\n",
              "      <td>NaN</td>\n",
              "      <td>0.0</td>\n",
              "      <td>1.428682</td>\n",
              "      <td>0.0</td>\n",
              "      <td>-0.402230</td>\n",
              "      <td>-0.01907</td>\n",
              "      <td>25.34327</td>\n",
              "      <td>2.65502</td>\n",
              "      <td>46.46843</td>\n",
              "      <td>success</td>\n",
              "    </tr>\n",
              "    <tr>\n",
              "      <th>...</th>\n",
              "      <td>...</td>\n",
              "      <td>...</td>\n",
              "      <td>...</td>\n",
              "      <td>...</td>\n",
              "      <td>...</td>\n",
              "      <td>...</td>\n",
              "      <td>...</td>\n",
              "      <td>...</td>\n",
              "      <td>...</td>\n",
              "      <td>...</td>\n",
              "      <td>...</td>\n",
              "      <td>...</td>\n",
              "      <td>...</td>\n",
              "    </tr>\n",
              "    <tr>\n",
              "      <th>510508</th>\n",
              "      <td>2019-07-05 20:11:13</td>\n",
              "      <td>8698.829</td>\n",
              "      <td>220.6740</td>\n",
              "      <td>NaN</td>\n",
              "      <td>0.0</td>\n",
              "      <td>1.312868</td>\n",
              "      <td>0.0</td>\n",
              "      <td>-0.362866</td>\n",
              "      <td>0.02470</td>\n",
              "      <td>26.45220</td>\n",
              "      <td>11.73870</td>\n",
              "      <td>220.36660</td>\n",
              "      <td>success</td>\n",
              "    </tr>\n",
              "    <tr>\n",
              "      <th>510509</th>\n",
              "      <td>2019-07-05 20:11:23</td>\n",
              "      <td>8698.829</td>\n",
              "      <td>220.6740</td>\n",
              "      <td>NaN</td>\n",
              "      <td>0.0</td>\n",
              "      <td>1.314286</td>\n",
              "      <td>0.0</td>\n",
              "      <td>-0.362052</td>\n",
              "      <td>0.02480</td>\n",
              "      <td>26.40500</td>\n",
              "      <td>11.73870</td>\n",
              "      <td>220.36660</td>\n",
              "      <td>success</td>\n",
              "    </tr>\n",
              "    <tr>\n",
              "      <th>510510</th>\n",
              "      <td>2019-07-05 20:11:33</td>\n",
              "      <td>8698.829</td>\n",
              "      <td>220.6740</td>\n",
              "      <td>NaN</td>\n",
              "      <td>0.0</td>\n",
              "      <td>1.311551</td>\n",
              "      <td>0.0</td>\n",
              "      <td>-0.362730</td>\n",
              "      <td>0.02690</td>\n",
              "      <td>26.37780</td>\n",
              "      <td>11.73870</td>\n",
              "      <td>220.36660</td>\n",
              "      <td>success</td>\n",
              "    </tr>\n",
              "    <tr>\n",
              "      <th>510511</th>\n",
              "      <td>2019-07-05 20:11:43</td>\n",
              "      <td>8698.829</td>\n",
              "      <td>220.6740</td>\n",
              "      <td>NaN</td>\n",
              "      <td>0.0</td>\n",
              "      <td>1.312868</td>\n",
              "      <td>0.0</td>\n",
              "      <td>-0.363544</td>\n",
              "      <td>0.02620</td>\n",
              "      <td>26.44850</td>\n",
              "      <td>11.73870</td>\n",
              "      <td>220.36660</td>\n",
              "      <td>success</td>\n",
              "    </tr>\n",
              "    <tr>\n",
              "      <th>510512</th>\n",
              "      <td>2019-07-05 20:11:53</td>\n",
              "      <td>8698.829</td>\n",
              "      <td>220.6740</td>\n",
              "      <td>NaN</td>\n",
              "      <td>0.0</td>\n",
              "      <td>1.313881</td>\n",
              "      <td>0.0</td>\n",
              "      <td>-0.363137</td>\n",
              "      <td>0.02420</td>\n",
              "      <td>26.45190</td>\n",
              "      <td>11.73870</td>\n",
              "      <td>220.36660</td>\n",
              "      <td>success</td>\n",
              "    </tr>\n",
              "  </tbody>\n",
              "</table>\n",
              "<p>510513 rows × 13 columns</p>\n",
              "</div>\n",
              "      <button class=\"colab-df-convert\" onclick=\"convertToInteractive('df-dc896570-10f0-4878-919a-69f0ad60b3e8')\"\n",
              "              title=\"Convert this dataframe to an interactive table.\"\n",
              "              style=\"display:none;\">\n",
              "        \n",
              "  <svg xmlns=\"http://www.w3.org/2000/svg\" height=\"24px\"viewBox=\"0 0 24 24\"\n",
              "       width=\"24px\">\n",
              "    <path d=\"M0 0h24v24H0V0z\" fill=\"none\"/>\n",
              "    <path d=\"M18.56 5.44l.94 2.06.94-2.06 2.06-.94-2.06-.94-.94-2.06-.94 2.06-2.06.94zm-11 1L8.5 8.5l.94-2.06 2.06-.94-2.06-.94L8.5 2.5l-.94 2.06-2.06.94zm10 10l.94 2.06.94-2.06 2.06-.94-2.06-.94-.94-2.06-.94 2.06-2.06.94z\"/><path d=\"M17.41 7.96l-1.37-1.37c-.4-.4-.92-.59-1.43-.59-.52 0-1.04.2-1.43.59L10.3 9.45l-7.72 7.72c-.78.78-.78 2.05 0 2.83L4 21.41c.39.39.9.59 1.41.59.51 0 1.02-.2 1.41-.59l7.78-7.78 2.81-2.81c.8-.78.8-2.07 0-2.86zM5.41 20L4 18.59l7.72-7.72 1.47 1.35L5.41 20z\"/>\n",
              "  </svg>\n",
              "      </button>\n",
              "      \n",
              "  <style>\n",
              "    .colab-df-container {\n",
              "      display:flex;\n",
              "      flex-wrap:wrap;\n",
              "      gap: 12px;\n",
              "    }\n",
              "\n",
              "    .colab-df-convert {\n",
              "      background-color: #E8F0FE;\n",
              "      border: none;\n",
              "      border-radius: 50%;\n",
              "      cursor: pointer;\n",
              "      display: none;\n",
              "      fill: #1967D2;\n",
              "      height: 32px;\n",
              "      padding: 0 0 0 0;\n",
              "      width: 32px;\n",
              "    }\n",
              "\n",
              "    .colab-df-convert:hover {\n",
              "      background-color: #E2EBFA;\n",
              "      box-shadow: 0px 1px 2px rgba(60, 64, 67, 0.3), 0px 1px 3px 1px rgba(60, 64, 67, 0.15);\n",
              "      fill: #174EA6;\n",
              "    }\n",
              "\n",
              "    [theme=dark] .colab-df-convert {\n",
              "      background-color: #3B4455;\n",
              "      fill: #D2E3FC;\n",
              "    }\n",
              "\n",
              "    [theme=dark] .colab-df-convert:hover {\n",
              "      background-color: #434B5C;\n",
              "      box-shadow: 0px 1px 3px 1px rgba(0, 0, 0, 0.15);\n",
              "      filter: drop-shadow(0px 1px 2px rgba(0, 0, 0, 0.3));\n",
              "      fill: #FFFFFF;\n",
              "    }\n",
              "  </style>\n",
              "\n",
              "      <script>\n",
              "        const buttonEl =\n",
              "          document.querySelector('#df-dc896570-10f0-4878-919a-69f0ad60b3e8 button.colab-df-convert');\n",
              "        buttonEl.style.display =\n",
              "          google.colab.kernel.accessAllowed ? 'block' : 'none';\n",
              "\n",
              "        async function convertToInteractive(key) {\n",
              "          const element = document.querySelector('#df-dc896570-10f0-4878-919a-69f0ad60b3e8');\n",
              "          const dataTable =\n",
              "            await google.colab.kernel.invokeFunction('convertToInteractive',\n",
              "                                                     [key], {});\n",
              "          if (!dataTable) return;\n",
              "\n",
              "          const docLinkHtml = 'Like what you see? Visit the ' +\n",
              "            '<a target=\"_blank\" href=https://colab.research.google.com/notebooks/data_table.ipynb>data table notebook</a>'\n",
              "            + ' to learn more about interactive tables.';\n",
              "          element.innerHTML = '';\n",
              "          dataTable['output_type'] = 'display_data';\n",
              "          await google.colab.output.renderOutput(dataTable, element);\n",
              "          const docLink = document.createElement('div');\n",
              "          docLink.innerHTML = docLinkHtml;\n",
              "          element.appendChild(docLink);\n",
              "        }\n",
              "      </script>\n",
              "    </div>\n",
              "  </div>\n",
              "  "
            ]
          },
          "metadata": {}
        }
      ]
    },
    {
      "cell_type": "code",
      "source": [
        "temp4 = pd.read_csv('/content/drive/MyDrive/Colab Notebooks/Annotated/257_1.csv',delimiter=';')\n",
        "temp5 = pd.read_csv('/content/drive/MyDrive/Colab Notebooks/Annotated/257_2.csv',delimiter=';')\n",
        "temp6 = pd.read_csv('/content/drive/MyDrive/Colab Notebooks/Annotated/257_3.csv',delimiter=';')\n",
        "temp7 = pd.read_csv('/content/drive/MyDrive/Colab Notebooks/Annotated/260_1.csv',delimiter=';')\n",
        "temp8 = pd.read_csv('/content/drive/MyDrive/Colab Notebooks/Annotated/260_2.csv',delimiter=';')\n",
        "temp9 = pd.read_csv('/content/drive/MyDrive/Colab Notebooks/Annotated/260_3.csv',delimiter=';')\n",
        "temp10 = pd.read_csv('/content/drive/MyDrive/Colab Notebooks/Annotated/260_4.csv',delimiter=';')"
      ],
      "metadata": {
        "id": "OGaWS_RLNO-e"
      },
      "execution_count": null,
      "outputs": []
    },
    {
      "cell_type": "code",
      "execution_count": null,
      "metadata": {
        "id": "XTvlJYLpmXns"
      },
      "outputs": [],
      "source": [
        "df1 = pd.read_csv('/content/drive/MyDrive/Colab Notebooks/Annotated/241_3.csv',delimiter=';')"
      ]
    },
    {
      "cell_type": "code",
      "source": [
        "time = np.array(df1['TIME_(s)'])\n",
        "print(time)"
      ],
      "metadata": {
        "colab": {
          "base_uri": "https://localhost:8080/"
        },
        "id": "6p3kI6FxZM-a",
        "outputId": "922cb8b6-0def-4e49-96e4-5953ca89c2de"
      },
      "execution_count": null,
      "outputs": [
        {
          "output_type": "stream",
          "name": "stdout",
          "text": [
            "['2012-06-01 19:38:40' '2012-06-01 19:38:50' '2012-06-01 19:39:00' ...\n",
            " '2012-04-03 11:11:47' '2012-04-03 11:11:57' '2012-04-03 11:12:07']\n"
          ]
        }
      ]
    },
    {
      "cell_type": "code",
      "execution_count": null,
      "metadata": {
        "id": "4Az-BugUxd2f"
      },
      "outputs": [],
      "source": [
        "df.drop('TIME_(s)', axis=1, inplace=True)\n",
        "df.drop('DEPTH_(m)',axis=1,inplace=True)\n",
        "df.drop('ROP5_(m/h)',axis=1,inplace=True)\n",
        "df.drop('HKLA_(1000 kgf)',axis=1,inplace=True)\n",
        "#df.drop('STOR_(kN.m)',axis=1,inplace=True)\n",
        "df.drop('SWOB_(1000 kgf)',axis=1,inplace=True)\n",
        "df.drop('BLKP_(m)',axis=1,inplace=True)\n",
        "\n",
        "# df.drop('TFLO_(L/min)',axis=1,inplace=True)\n",
        "# df.drop('SPPA_(bar)',axis=1,inplace=True)\n",
        "# df.drop('RPM_(c/min)',axis=1,inplace=True)\n",
        "# df.drop('HDTH_(m)',axis=1,inplace=True)\n",
        "\n",
        "\n",
        "df.loc[(df.labels == 'success' ), 'labels'] = 1\n",
        "df.loc[(df.labels == 'Pack-off' ), 'labels'] = 0\n",
        "\n",
        "df = df.replace({'Not Available': np.nan})\n",
        "\n",
        "\n",
        "# Iterate through the columns\n",
        "for col in list(df.columns):\n",
        "    # Select columns that should be numeric\n",
        "    if ( 'TVD_(m)' in col or 'DEPTH_(m)' in col or 'HDTH_(m)' in \n",
        "        col or 'BLKP_(m)' in col or 'HKLA_(1000 kgf)' in col or 'ROP5_(m/h)' in col or 'RPM_(c/min)' in col or 'STOR_(kN.m)' in col or 'SWOB_(1000 kgf)' in col or 'TFLO_(L/min)' in col or 'SPPA_(bar)' in col or 'labels' in col):\n",
        "        # Convert the data type to float\n",
        "        df[col] = df[col].astype(float)\n"
      ]
    },
    {
      "cell_type": "code",
      "execution_count": null,
      "metadata": {
        "id": "Lz3YNdX2rMnN"
      },
      "outputs": [],
      "source": [
        "df1.drop('TIME_(s)', axis=1, inplace=True)\n",
        "df1.drop('DEPTH_(m)',axis=1,inplace=True)\n",
        "df1.drop('ROP5_(m/h)',axis=1,inplace=True)\n",
        "df1.drop('HKLA_(1000 kgf)',axis=1,inplace=True)\n",
        "#df1.drop('STOR_(kN.m)',axis=1,inplace=True)\n",
        "df1.drop('SWOB_(1000 kgf)',axis=1,inplace=True)\n",
        "df1.drop('BLKP_(m)',axis=1,inplace=True)\n",
        "\n",
        "# df1.drop('TFLO_(L/min)',axis=1,inplace=True)\n",
        "# df1.drop('SPPA_(bar)',axis=1,inplace=True)\n",
        "# df1.drop('RPM_(c/min)',axis=1,inplace=True)\n",
        "# df1.drop('HDTH_(m)',axis=1,inplace=True)\n",
        "\n",
        "\n",
        "df1.loc[(df1.labels == 'success' ), 'labels'] = 1\n",
        "df1.loc[(df1.labels == 'Pack-off' ), 'labels'] = 0\n",
        "\n",
        "df1 = df1.replace({'Not Available': np.nan})\n",
        "\n",
        "for col in list(df1.columns):\n",
        "    # Select columns that should be numeric\n",
        "    if ( 'TVD_(m)' in col or 'DEPTH_(m)' in col or 'HDTH_(m)' in \n",
        "        col or 'BLKP_(m)' in col or 'HKLA_(1000 kgf)' in col or 'ROP5_(m/h)' in col or 'RPM_(c/min)' in col or 'STOR_(kN.m)' in col or 'SWOB_(1000 kgf)' in col or 'TFLO_(L/min)' in col or 'SPPA_(bar)' in col or 'labels' in col):\n",
        "        # Convert the data type to float\n",
        "        df1[col] = df1[col].astype(float)"
      ]
    },
    {
      "cell_type": "code",
      "execution_count": null,
      "metadata": {
        "id": "Tbf6DUG4V8ap"
      },
      "outputs": [],
      "source": [
        "# Extract the labels\n",
        "train_labels = np.array(df.pop('labels'))\n",
        "train = df"
      ]
    },
    {
      "cell_type": "code",
      "source": [
        "test_labels = np.array(df1.pop('labels'))\n",
        "test = df1"
      ],
      "metadata": {
        "id": "c6Uh_XF_Ykpf"
      },
      "execution_count": null,
      "outputs": []
    },
    {
      "cell_type": "code",
      "source": [
        "np.unique(test_labels)\n",
        "count = 0\n",
        "for i in range(0,len(test_labels)):\n",
        "  if(test_labels[i] == \"Pack-off\"):\n",
        "    count+1\n"
      ],
      "metadata": {
        "id": "RyErRjbjbWE_"
      },
      "execution_count": null,
      "outputs": []
    },
    {
      "cell_type": "code",
      "execution_count": null,
      "metadata": {
        "id": "FU5Muiofr_kV"
      },
      "outputs": [],
      "source": [
        "train = train.fillna(0)\n",
        "test = test.fillna(0)\n",
        "\n",
        "# Features for feature importances\n",
        "features = list(train.columns)"
      ]
    },
    {
      "cell_type": "markdown",
      "source": [
        "удаление выбросов"
      ],
      "metadata": {
        "id": "tt7IWa_Cp45F"
      }
    },
    {
      "cell_type": "code",
      "source": [
        "test.boxplot()"
      ],
      "metadata": {
        "colab": {
          "base_uri": "https://localhost:8080/",
          "height": 284
        },
        "id": "PXGEk5nCp7bu",
        "outputId": "a2eb6a74-1a07-4b59-856e-a5382d7ea09c"
      },
      "execution_count": null,
      "outputs": [
        {
          "output_type": "execute_result",
          "data": {
            "text/plain": [
              "<matplotlib.axes._subplots.AxesSubplot at 0x7f8b17d40f50>"
            ]
          },
          "metadata": {},
          "execution_count": 106
        },
        {
          "output_type": "display_data",
          "data": {
            "text/plain": [
              "<Figure size 432x288 with 1 Axes>"
            ],
            "image/png": "[encoded data removed]"
          },
          "metadata": {
            "needs_background": "light"
          }
        }
      ]
    },
    {
      "cell_type": "code",
      "source": [
        "names = test.columns\n",
        "for j in range(0,len(names)):\n",
        "  for i in [names[j]]:\n",
        "      q75,q25 = np.percentile(test.loc[:,i],[75,25])\n",
        "      intr_qr = q75-q25\n",
        "\n",
        "      max = q75+(1.5*intr_qr)\n",
        "      min = q25-(1.5*intr_qr)\n",
        "\n",
        "      test.loc[test[i] < min,i] = np.nan\n",
        "      test.loc[test[i] > max,i] = np.nan\n"
      ],
      "metadata": {
        "id": "SJgps19Dq_GF"
      },
      "execution_count": null,
      "outputs": []
    },
    {
      "cell_type": "code",
      "source": [
        "test.isnull().sum()\n"
      ],
      "metadata": {
        "colab": {
          "base_uri": "https://localhost:8080/"
        },
        "id": "kU_1kO2prl1M",
        "outputId": "1f5e1783-1a89-44eb-a175-84b2d2791936"
      },
      "execution_count": null,
      "outputs": [
        {
          "output_type": "execute_result",
          "data": {
            "text/plain": [
              "HDTH_(m)            0\n",
              "TVD_(m)         12704\n",
              "STOR_(kN.m)      3624\n",
              "RPM_(c/min)        96\n",
              "SPPA_(bar)          0\n",
              "TFLO_(L/min)        0\n",
              "dtype: int64"
            ]
          },
          "metadata": {},
          "execution_count": 108
        }
      ]
    },
    {
      "cell_type": "code",
      "source": [
        "test = test.fillna(0)"
      ],
      "metadata": {
        "id": "aAqGI5_CsHN2"
      },
      "execution_count": null,
      "outputs": []
    },
    {
      "cell_type": "code",
      "source": [
        "test.isnull().sum()\n"
      ],
      "metadata": {
        "colab": {
          "base_uri": "https://localhost:8080/"
        },
        "id": "jLf0fi2OsKzu",
        "outputId": "d7001e7d-84cf-45bb-907b-ce2d93d7f69d"
      },
      "execution_count": null,
      "outputs": [
        {
          "output_type": "execute_result",
          "data": {
            "text/plain": [
              "HDTH_(m)        0\n",
              "TVD_(m)         0\n",
              "STOR_(kN.m)     0\n",
              "RPM_(c/min)     0\n",
              "SPPA_(bar)      0\n",
              "TFLO_(L/min)    0\n",
              "dtype: int64"
            ]
          },
          "metadata": {},
          "execution_count": 110
        }
      ]
    },
    {
      "cell_type": "code",
      "source": [
        "train.boxplot()"
      ],
      "metadata": {
        "colab": {
          "base_uri": "https://localhost:8080/",
          "height": 283
        },
        "id": "q0YxsaSMtJJg",
        "outputId": "290af85b-970b-4d13-cffb-5cd38def61a9"
      },
      "execution_count": null,
      "outputs": [
        {
          "output_type": "execute_result",
          "data": {
            "text/plain": [
              "<matplotlib.axes._subplots.AxesSubplot at 0x7f8b1c4318d0>"
            ]
          },
          "metadata": {},
          "execution_count": 111
        },
        {
          "output_type": "display_data",
          "data": {
            "text/plain": [
              "<Figure size 432x288 with 1 Axes>"
            ],
            "image/png": "[encoded data removed]"
          },
          "metadata": {
            "needs_background": "light"
          }
        }
      ]
    },
    {
      "cell_type": "code",
      "source": [
        "names = train.columns\n",
        "for j in range(0,len(names)):\n",
        "  for i in [names[j]]:\n",
        "      q75,q25 = np.percentile(train.loc[:,i],[75,25])\n",
        "      intr_qr = q75-q25\n",
        "\n",
        "      max = q75+(1.5*intr_qr)\n",
        "      min = q25-(1.5*intr_qr)\n",
        "\n",
        "      train.loc[train[i] < min,i] = np.nan\n",
        "      train.loc[train[i] > max,i] = np.nan"
      ],
      "metadata": {
        "id": "6ValEt5sttfX"
      },
      "execution_count": null,
      "outputs": []
    },
    {
      "cell_type": "code",
      "source": [
        "train.isnull().sum()\n"
      ],
      "metadata": {
        "colab": {
          "base_uri": "https://localhost:8080/"
        },
        "id": "tpUegs_Bt_NZ",
        "outputId": "ad7b0c99-2c1a-430a-b29f-ea8e03380bce"
      },
      "execution_count": null,
      "outputs": [
        {
          "output_type": "execute_result",
          "data": {
            "text/plain": [
              "HDTH_(m)           0\n",
              "SPPA_(bar)        24\n",
              "TFLO_(L/min)       1\n",
              "STOR_(kN.m)     6739\n",
              "RPM_(c/min)     3408\n",
              "TVD_(m)            0\n",
              "dtype: int64"
            ]
          },
          "metadata": {},
          "execution_count": 113
        }
      ]
    },
    {
      "cell_type": "code",
      "source": [
        "train = train.fillna(0)"
      ],
      "metadata": {
        "id": "HoNQOP6CuFZq"
      },
      "execution_count": null,
      "outputs": []
    },
    {
      "cell_type": "code",
      "source": [
        "train.isnull().sum()\n"
      ],
      "metadata": {
        "colab": {
          "base_uri": "https://localhost:8080/"
        },
        "id": "_1jLuicouQGn",
        "outputId": "46029504-8946-40b9-873a-6950bf5df5c7"
      },
      "execution_count": null,
      "outputs": [
        {
          "output_type": "execute_result",
          "data": {
            "text/plain": [
              "HDTH_(m)        0\n",
              "SPPA_(bar)      0\n",
              "TFLO_(L/min)    0\n",
              "STOR_(kN.m)     0\n",
              "RPM_(c/min)     0\n",
              "TVD_(m)         0\n",
              "dtype: int64"
            ]
          },
          "metadata": {},
          "execution_count": 115
        }
      ]
    },
    {
      "cell_type": "markdown",
      "source": [
        "нормализация данных"
      ],
      "metadata": {
        "id": "UGcD9GW6ysz_"
      }
    },
    {
      "cell_type": "code",
      "source": [
        "from sklearn import preprocessing"
      ],
      "metadata": {
        "id": "KauyTMa0zKCf"
      },
      "execution_count": null,
      "outputs": []
    },
    {
      "cell_type": "code",
      "source": [
        "names = test.columns\n",
        "\n",
        "d = test.to_numpy()\n",
        "d = np.transpose(d)\n",
        "\n",
        "for i in range(0,d.shape[0]):\n",
        "  d[i] = preprocessing.normalize([d[i]])\n",
        "\n",
        "test = pd.DataFrame(d)\n",
        "test = test.transpose()\n",
        "test.columns = names\n",
        "\n",
        "display(test)"
      ],
      "metadata": {
        "colab": {
          "base_uri": "https://localhost:8080/",
          "height": 424
        },
        "id": "hPWdLDTuyr5P",
        "outputId": "a4826c34-dd21-4cd9-e62c-3a3758cbadfa"
      },
      "execution_count": null,
      "outputs": [
        {
          "output_type": "display_data",
          "data": {
            "text/plain": [
              "        HDTH_(m)  TVD_(m)  STOR_(kN.m)   RPM_(c/min)  SPPA_(bar)  TFLO_(L/min)\n",
              "0       0.000000      0.0    -0.000001 -2.352359e-08   -0.000003           0.0\n",
              "1       0.001961      0.0    -0.000001 -1.032297e-07   -0.000003           0.0\n",
              "2       0.001961      0.0    -0.000001 -3.083189e-08   -0.000003           0.0\n",
              "3       0.001961      0.0    -0.000001 -8.039129e-08   -0.000003           0.0\n",
              "4       0.001961      0.0    -0.000001 -6.942884e-08   -0.000003           0.0\n",
              "...          ...      ...          ...           ...         ...           ...\n",
              "391244  0.000260      0.0     0.001156 -1.223683e-06   -0.000007           0.0\n",
              "391245  0.000260      0.0     0.001156 -1.257484e-06   -0.000007           0.0\n",
              "391246  0.000260      0.0     0.001155 -1.191481e-06   -0.000007           0.0\n",
              "391247  0.000260      0.0     0.001155 -1.199475e-06   -0.000007           0.0\n",
              "391248  0.000000      0.0     0.000000  0.000000e+00    0.000000           0.0\n",
              "\n",
              "[391249 rows x 6 columns]"
            ],
            "text/html": [
              "\n",
              "  <div id=\"df-3b50ef3a-b77c-41af-8c48-f83ae59da11f\">\n",
              "    <div class=\"colab-df-container\">\n",
              "      <div>\n",
              "<style scoped>\n",
              "    .dataframe tbody tr th:only-of-type {\n",
              "        vertical-align: middle;\n",
              "    }\n",
              "\n",
              "    .dataframe tbody tr th {\n",
              "        vertical-align: top;\n",
              "    }\n",
              "\n",
              "    .dataframe thead th {\n",
              "        text-align: right;\n",
              "    }\n",
              "</style>\n",
              "<table border=\"1\" class=\"dataframe\">\n",
              "  <thead>\n",
              "    <tr style=\"text-align: right;\">\n",
              "      <th></th>\n",
              "      <th>HDTH_(m)</th>\n",
              "      <th>TVD_(m)</th>\n",
              "      <th>STOR_(kN.m)</th>\n",
              "      <th>RPM_(c/min)</th>\n",
              "      <th>SPPA_(bar)</th>\n",
              "      <th>TFLO_(L/min)</th>\n",
              "    </tr>\n",
              "  </thead>\n",
              "  <tbody>\n",
              "    <tr>\n",
              "      <th>0</th>\n",
              "      <td>0.000000</td>\n",
              "      <td>0.0</td>\n",
              "      <td>-0.000001</td>\n",
              "      <td>-2.352359e-08</td>\n",
              "      <td>-0.000003</td>\n",
              "      <td>0.0</td>\n",
              "    </tr>\n",
              "    <tr>\n",
              "      <th>1</th>\n",
              "      <td>0.001961</td>\n",
              "      <td>0.0</td>\n",
              "      <td>-0.000001</td>\n",
              "      <td>-1.032297e-07</td>\n",
              "      <td>-0.000003</td>\n",
              "      <td>0.0</td>\n",
              "    </tr>\n",
              "    <tr>\n",
              "      <th>2</th>\n",
              "      <td>0.001961</td>\n",
              "      <td>0.0</td>\n",
              "      <td>-0.000001</td>\n",
              "      <td>-3.083189e-08</td>\n",
              "      <td>-0.000003</td>\n",
              "      <td>0.0</td>\n",
              "    </tr>\n",
              "    <tr>\n",
              "      <th>3</th>\n",
              "      <td>0.001961</td>\n",
              "      <td>0.0</td>\n",
              "      <td>-0.000001</td>\n",
              "      <td>-8.039129e-08</td>\n",
              "      <td>-0.000003</td>\n",
              "      <td>0.0</td>\n",
              "    </tr>\n",
              "    <tr>\n",
              "      <th>4</th>\n",
              "      <td>0.001961</td>\n",
              "      <td>0.0</td>\n",
              "      <td>-0.000001</td>\n",
              "      <td>-6.942884e-08</td>\n",
              "      <td>-0.000003</td>\n",
              "      <td>0.0</td>\n",
              "    </tr>\n",
              "    <tr>\n",
              "      <th>...</th>\n",
              "      <td>...</td>\n",
              "      <td>...</td>\n",
              "      <td>...</td>\n",
              "      <td>...</td>\n",
              "      <td>...</td>\n",
              "      <td>...</td>\n",
              "    </tr>\n",
              "    <tr>\n",
              "      <th>391244</th>\n",
              "      <td>0.000260</td>\n",
              "      <td>0.0</td>\n",
              "      <td>0.001156</td>\n",
              "      <td>-1.223683e-06</td>\n",
              "      <td>-0.000007</td>\n",
              "      <td>0.0</td>\n",
              "    </tr>\n",
              "    <tr>\n",
              "      <th>391245</th>\n",
              "      <td>0.000260</td>\n",
              "      <td>0.0</td>\n",
              "      <td>0.001156</td>\n",
              "      <td>-1.257484e-06</td>\n",
              "      <td>-0.000007</td>\n",
              "      <td>0.0</td>\n",
              "    </tr>\n",
              "    <tr>\n",
              "      <th>391246</th>\n",
              "      <td>0.000260</td>\n",
              "      <td>0.0</td>\n",
              "      <td>0.001155</td>\n",
              "      <td>-1.191481e-06</td>\n",
              "      <td>-0.000007</td>\n",
              "      <td>0.0</td>\n",
              "    </tr>\n",
              "    <tr>\n",
              "      <th>391247</th>\n",
              "      <td>0.000260</td>\n",
              "      <td>0.0</td>\n",
              "      <td>0.001155</td>\n",
              "      <td>-1.199475e-06</td>\n",
              "      <td>-0.000007</td>\n",
              "      <td>0.0</td>\n",
              "    </tr>\n",
              "    <tr>\n",
              "      <th>391248</th>\n",
              "      <td>0.000000</td>\n",
              "      <td>0.0</td>\n",
              "      <td>0.000000</td>\n",
              "      <td>0.000000e+00</td>\n",
              "      <td>0.000000</td>\n",
              "      <td>0.0</td>\n",
              "    </tr>\n",
              "  </tbody>\n",
              "</table>\n",
              "<p>391249 rows × 6 columns</p>\n",
              "</div>\n",
              "      <button class=\"colab-df-convert\" onclick=\"convertToInteractive('df-3b50ef3a-b77c-41af-8c48-f83ae59da11f')\"\n",
              "              title=\"Convert this dataframe to an interactive table.\"\n",
              "              style=\"display:none;\">\n",
              "        \n",
              "  <svg xmlns=\"http://www.w3.org/2000/svg\" height=\"24px\"viewBox=\"0 0 24 24\"\n",
              "       width=\"24px\">\n",
              "    <path d=\"M0 0h24v24H0V0z\" fill=\"none\"/>\n",
              "    <path d=\"M18.56 5.44l.94 2.06.94-2.06 2.06-.94-2.06-.94-.94-2.06-.94 2.06-2.06.94zm-11 1L8.5 8.5l.94-2.06 2.06-.94-2.06-.94L8.5 2.5l-.94 2.06-2.06.94zm10 10l.94 2.06.94-2.06 2.06-.94-2.06-.94-.94-2.06-.94 2.06-2.06.94z\"/><path d=\"M17.41 7.96l-1.37-1.37c-.4-.4-.92-.59-1.43-.59-.52 0-1.04.2-1.43.59L10.3 9.45l-7.72 7.72c-.78.78-.78 2.05 0 2.83L4 21.41c.39.39.9.59 1.41.59.51 0 1.02-.2 1.41-.59l7.78-7.78 2.81-2.81c.8-.78.8-2.07 0-2.86zM5.41 20L4 18.59l7.72-7.72 1.47 1.35L5.41 20z\"/>\n",
              "  </svg>\n",
              "      </button>\n",
              "      \n",
              "  <style>\n",
              "    .colab-df-container {\n",
              "      display:flex;\n",
              "      flex-wrap:wrap;\n",
              "      gap: 12px;\n",
              "    }\n",
              "\n",
              "    .colab-df-convert {\n",
              "      background-color: #E8F0FE;\n",
              "      border: none;\n",
              "      border-radius: 50%;\n",
              "      cursor: pointer;\n",
              "      display: none;\n",
              "      fill: #1967D2;\n",
              "      height: 32px;\n",
              "      padding: 0 0 0 0;\n",
              "      width: 32px;\n",
              "    }\n",
              "\n",
              "    .colab-df-convert:hover {\n",
              "      background-color: #E2EBFA;\n",
              "      box-shadow: 0px 1px 2px rgba(60, 64, 67, 0.3), 0px 1px 3px 1px rgba(60, 64, 67, 0.15);\n",
              "      fill: #174EA6;\n",
              "    }\n",
              "\n",
              "    [theme=dark] .colab-df-convert {\n",
              "      background-color: #3B4455;\n",
              "      fill: #D2E3FC;\n",
              "    }\n",
              "\n",
              "    [theme=dark] .colab-df-convert:hover {\n",
              "      background-color: #434B5C;\n",
              "      box-shadow: 0px 1px 3px 1px rgba(0, 0, 0, 0.15);\n",
              "      filter: drop-shadow(0px 1px 2px rgba(0, 0, 0, 0.3));\n",
              "      fill: #FFFFFF;\n",
              "    }\n",
              "  </style>\n",
              "\n",
              "      <script>\n",
              "        const buttonEl =\n",
              "          document.querySelector('#df-3b50ef3a-b77c-41af-8c48-f83ae59da11f button.colab-df-convert');\n",
              "        buttonEl.style.display =\n",
              "          google.colab.kernel.accessAllowed ? 'block' : 'none';\n",
              "\n",
              "        async function convertToInteractive(key) {\n",
              "          const element = document.querySelector('#df-3b50ef3a-b77c-41af-8c48-f83ae59da11f');\n",
              "          const dataTable =\n",
              "            await google.colab.kernel.invokeFunction('convertToInteractive',\n",
              "                                                     [key], {});\n",
              "          if (!dataTable) return;\n",
              "\n",
              "          const docLinkHtml = 'Like what you see? Visit the ' +\n",
              "            '<a target=\"_blank\" href=https://colab.research.google.com/notebooks/data_table.ipynb>data table notebook</a>'\n",
              "            + ' to learn more about interactive tables.';\n",
              "          element.innerHTML = '';\n",
              "          dataTable['output_type'] = 'display_data';\n",
              "          await google.colab.output.renderOutput(dataTable, element);\n",
              "          const docLink = document.createElement('div');\n",
              "          docLink.innerHTML = docLinkHtml;\n",
              "          element.appendChild(docLink);\n",
              "        }\n",
              "      </script>\n",
              "    </div>\n",
              "  </div>\n",
              "  "
            ]
          },
          "metadata": {}
        }
      ]
    },
    {
      "cell_type": "code",
      "source": [
        "names = train.columns\n",
        "\n",
        "d = train.to_numpy()\n",
        "d = np.transpose(d)\n",
        "\n",
        "for i in range(0,d.shape[0]):\n",
        "  d[i] = preprocessing.normalize([d[i]])\n",
        "\n",
        "train = pd.DataFrame(d)\n",
        "train = train.transpose()\n",
        "train.columns = names\n",
        "\n",
        "display(train)"
      ],
      "metadata": {
        "colab": {
          "base_uri": "https://localhost:8080/",
          "height": 424
        },
        "id": "csDehCLuzmcb",
        "outputId": "2c86b554-7474-466d-d578-976004ac9831"
      },
      "execution_count": null,
      "outputs": [
        {
          "output_type": "display_data",
          "data": {
            "text/plain": [
              "         HDTH_(m)  SPPA_(bar)  TFLO_(L/min)  STOR_(kN.m)   RPM_(c/min)  \\\n",
              "0        0.000009    0.000005           0.0    -0.001177  0.000000e+00   \n",
              "1        0.000009    0.000005           0.0    -0.001177  0.000000e+00   \n",
              "2        0.000009    0.000005           0.0    -0.001177  0.000000e+00   \n",
              "3        0.000009    0.000005           0.0    -0.001177  0.000000e+00   \n",
              "4        0.000009    0.000005           0.0    -0.001177  0.000000e+00   \n",
              "...           ...         ...           ...          ...           ...   \n",
              "1038485  0.001569    0.000010           0.0    -0.000013  3.055539e-07   \n",
              "1038486  0.001569    0.000010           0.0    -0.000013  3.067910e-07   \n",
              "1038487  0.001569    0.000010           0.0    -0.000013  3.327693e-07   \n",
              "1038488  0.001569    0.000010           0.0    -0.000013  3.241098e-07   \n",
              "1038489  0.001569    0.000010           0.0    -0.000013  2.993686e-07   \n",
              "\n",
              "          TVD_(m)  \n",
              "0        0.000000  \n",
              "1        0.000000  \n",
              "2        0.000000  \n",
              "3        0.000000  \n",
              "4        0.000000  \n",
              "...           ...  \n",
              "1038485  0.000198  \n",
              "1038486  0.000198  \n",
              "1038487  0.000198  \n",
              "1038488  0.000198  \n",
              "1038489  0.000198  \n",
              "\n",
              "[1038490 rows x 6 columns]"
            ],
            "text/html": [
              "\n",
              "  <div id=\"df-0b04ae20-3d18-4159-8b72-a1b30dbf7a78\">\n",
              "    <div class=\"colab-df-container\">\n",
              "      <div>\n",
              "<style scoped>\n",
              "    .dataframe tbody tr th:only-of-type {\n",
              "        vertical-align: middle;\n",
              "    }\n",
              "\n",
              "    .dataframe tbody tr th {\n",
              "        vertical-align: top;\n",
              "    }\n",
              "\n",
              "    .dataframe thead th {\n",
              "        text-align: right;\n",
              "    }\n",
              "</style>\n",
              "<table border=\"1\" class=\"dataframe\">\n",
              "  <thead>\n",
              "    <tr style=\"text-align: right;\">\n",
              "      <th></th>\n",
              "      <th>HDTH_(m)</th>\n",
              "      <th>SPPA_(bar)</th>\n",
              "      <th>TFLO_(L/min)</th>\n",
              "      <th>STOR_(kN.m)</th>\n",
              "      <th>RPM_(c/min)</th>\n",
              "      <th>TVD_(m)</th>\n",
              "    </tr>\n",
              "  </thead>\n",
              "  <tbody>\n",
              "    <tr>\n",
              "      <th>0</th>\n",
              "      <td>0.000009</td>\n",
              "      <td>0.000005</td>\n",
              "      <td>0.0</td>\n",
              "      <td>-0.001177</td>\n",
              "      <td>0.000000e+00</td>\n",
              "      <td>0.000000</td>\n",
              "    </tr>\n",
              "    <tr>\n",
              "      <th>1</th>\n",
              "      <td>0.000009</td>\n",
              "      <td>0.000005</td>\n",
              "      <td>0.0</td>\n",
              "      <td>-0.001177</td>\n",
              "      <td>0.000000e+00</td>\n",
              "      <td>0.000000</td>\n",
              "    </tr>\n",
              "    <tr>\n",
              "      <th>2</th>\n",
              "      <td>0.000009</td>\n",
              "      <td>0.000005</td>\n",
              "      <td>0.0</td>\n",
              "      <td>-0.001177</td>\n",
              "      <td>0.000000e+00</td>\n",
              "      <td>0.000000</td>\n",
              "    </tr>\n",
              "    <tr>\n",
              "      <th>3</th>\n",
              "      <td>0.000009</td>\n",
              "      <td>0.000005</td>\n",
              "      <td>0.0</td>\n",
              "      <td>-0.001177</td>\n",
              "      <td>0.000000e+00</td>\n",
              "      <td>0.000000</td>\n",
              "    </tr>\n",
              "    <tr>\n",
              "      <th>4</th>\n",
              "      <td>0.000009</td>\n",
              "      <td>0.000005</td>\n",
              "      <td>0.0</td>\n",
              "      <td>-0.001177</td>\n",
              "      <td>0.000000e+00</td>\n",
              "      <td>0.000000</td>\n",
              "    </tr>\n",
              "    <tr>\n",
              "      <th>...</th>\n",
              "      <td>...</td>\n",
              "      <td>...</td>\n",
              "      <td>...</td>\n",
              "      <td>...</td>\n",
              "      <td>...</td>\n",
              "      <td>...</td>\n",
              "    </tr>\n",
              "    <tr>\n",
              "      <th>1038485</th>\n",
              "      <td>0.001569</td>\n",
              "      <td>0.000010</td>\n",
              "      <td>0.0</td>\n",
              "      <td>-0.000013</td>\n",
              "      <td>3.055539e-07</td>\n",
              "      <td>0.000198</td>\n",
              "    </tr>\n",
              "    <tr>\n",
              "      <th>1038486</th>\n",
              "      <td>0.001569</td>\n",
              "      <td>0.000010</td>\n",
              "      <td>0.0</td>\n",
              "      <td>-0.000013</td>\n",
              "      <td>3.067910e-07</td>\n",
              "      <td>0.000198</td>\n",
              "    </tr>\n",
              "    <tr>\n",
              "      <th>1038487</th>\n",
              "      <td>0.001569</td>\n",
              "      <td>0.000010</td>\n",
              "      <td>0.0</td>\n",
              "      <td>-0.000013</td>\n",
              "      <td>3.327693e-07</td>\n",
              "      <td>0.000198</td>\n",
              "    </tr>\n",
              "    <tr>\n",
              "      <th>1038488</th>\n",
              "      <td>0.001569</td>\n",
              "      <td>0.000010</td>\n",
              "      <td>0.0</td>\n",
              "      <td>-0.000013</td>\n",
              "      <td>3.241098e-07</td>\n",
              "      <td>0.000198</td>\n",
              "    </tr>\n",
              "    <tr>\n",
              "      <th>1038489</th>\n",
              "      <td>0.001569</td>\n",
              "      <td>0.000010</td>\n",
              "      <td>0.0</td>\n",
              "      <td>-0.000013</td>\n",
              "      <td>2.993686e-07</td>\n",
              "      <td>0.000198</td>\n",
              "    </tr>\n",
              "  </tbody>\n",
              "</table>\n",
              "<p>1038490 rows × 6 columns</p>\n",
              "</div>\n",
              "      <button class=\"colab-df-convert\" onclick=\"convertToInteractive('df-0b04ae20-3d18-4159-8b72-a1b30dbf7a78')\"\n",
              "              title=\"Convert this dataframe to an interactive table.\"\n",
              "              style=\"display:none;\">\n",
              "        \n",
              "  <svg xmlns=\"http://www.w3.org/2000/svg\" height=\"24px\"viewBox=\"0 0 24 24\"\n",
              "       width=\"24px\">\n",
              "    <path d=\"M0 0h24v24H0V0z\" fill=\"none\"/>\n",
              "    <path d=\"M18.56 5.44l.94 2.06.94-2.06 2.06-.94-2.06-.94-.94-2.06-.94 2.06-2.06.94zm-11 1L8.5 8.5l.94-2.06 2.06-.94-2.06-.94L8.5 2.5l-.94 2.06-2.06.94zm10 10l.94 2.06.94-2.06 2.06-.94-2.06-.94-.94-2.06-.94 2.06-2.06.94z\"/><path d=\"M17.41 7.96l-1.37-1.37c-.4-.4-.92-.59-1.43-.59-.52 0-1.04.2-1.43.59L10.3 9.45l-7.72 7.72c-.78.78-.78 2.05 0 2.83L4 21.41c.39.39.9.59 1.41.59.51 0 1.02-.2 1.41-.59l7.78-7.78 2.81-2.81c.8-.78.8-2.07 0-2.86zM5.41 20L4 18.59l7.72-7.72 1.47 1.35L5.41 20z\"/>\n",
              "  </svg>\n",
              "      </button>\n",
              "      \n",
              "  <style>\n",
              "    .colab-df-container {\n",
              "      display:flex;\n",
              "      flex-wrap:wrap;\n",
              "      gap: 12px;\n",
              "    }\n",
              "\n",
              "    .colab-df-convert {\n",
              "      background-color: #E8F0FE;\n",
              "      border: none;\n",
              "      border-radius: 50%;\n",
              "      cursor: pointer;\n",
              "      display: none;\n",
              "      fill: #1967D2;\n",
              "      height: 32px;\n",
              "      padding: 0 0 0 0;\n",
              "      width: 32px;\n",
              "    }\n",
              "\n",
              "    .colab-df-convert:hover {\n",
              "      background-color: #E2EBFA;\n",
              "      box-shadow: 0px 1px 2px rgba(60, 64, 67, 0.3), 0px 1px 3px 1px rgba(60, 64, 67, 0.15);\n",
              "      fill: #174EA6;\n",
              "    }\n",
              "\n",
              "    [theme=dark] .colab-df-convert {\n",
              "      background-color: #3B4455;\n",
              "      fill: #D2E3FC;\n",
              "    }\n",
              "\n",
              "    [theme=dark] .colab-df-convert:hover {\n",
              "      background-color: #434B5C;\n",
              "      box-shadow: 0px 1px 3px 1px rgba(0, 0, 0, 0.15);\n",
              "      filter: drop-shadow(0px 1px 2px rgba(0, 0, 0, 0.3));\n",
              "      fill: #FFFFFF;\n",
              "    }\n",
              "  </style>\n",
              "\n",
              "      <script>\n",
              "        const buttonEl =\n",
              "          document.querySelector('#df-0b04ae20-3d18-4159-8b72-a1b30dbf7a78 button.colab-df-convert');\n",
              "        buttonEl.style.display =\n",
              "          google.colab.kernel.accessAllowed ? 'block' : 'none';\n",
              "\n",
              "        async function convertToInteractive(key) {\n",
              "          const element = document.querySelector('#df-0b04ae20-3d18-4159-8b72-a1b30dbf7a78');\n",
              "          const dataTable =\n",
              "            await google.colab.kernel.invokeFunction('convertToInteractive',\n",
              "                                                     [key], {});\n",
              "          if (!dataTable) return;\n",
              "\n",
              "          const docLinkHtml = 'Like what you see? Visit the ' +\n",
              "            '<a target=\"_blank\" href=https://colab.research.google.com/notebooks/data_table.ipynb>data table notebook</a>'\n",
              "            + ' to learn more about interactive tables.';\n",
              "          element.innerHTML = '';\n",
              "          dataTable['output_type'] = 'display_data';\n",
              "          await google.colab.output.renderOutput(dataTable, element);\n",
              "          const docLink = document.createElement('div');\n",
              "          docLink.innerHTML = docLinkHtml;\n",
              "          element.appendChild(docLink);\n",
              "        }\n",
              "      </script>\n",
              "    </div>\n",
              "  </div>\n",
              "  "
            ]
          },
          "metadata": {}
        }
      ]
    },
    {
      "cell_type": "code",
      "execution_count": null,
      "metadata": {
        "colab": {
          "base_uri": "https://localhost:8080/"
        },
        "id": "lWq5ULVksy-s",
        "outputId": "8cf54a94-aecb-4bdd-e543-3997cc893aef"
      },
      "outputs": [
        {
          "output_type": "stream",
          "name": "stderr",
          "text": [
            "[Parallel(n_jobs=-1)]: Using backend ThreadingBackend with 2 concurrent workers.\n",
            "[Parallel(n_jobs=-1)]: Done  46 tasks      | elapsed:   31.2s\n",
            "[Parallel(n_jobs=-1)]: Done 100 out of 100 | elapsed:  1.1min finished\n"
          ]
        },
        {
          "output_type": "execute_result",
          "data": {
            "text/plain": [
              "RandomForestClassifier(max_features='sqrt', n_jobs=-1, random_state=50,\n",
              "                       verbose=1)"
            ]
          },
          "metadata": {},
          "execution_count": 119
        }
      ],
      "source": [
        "# Create the model with 100 trees\n",
        "model = RandomForestClassifier(n_estimators=100, \n",
        "                               random_state=RSEED, \n",
        "                               max_features = 'sqrt',\n",
        "                               n_jobs=-1, verbose = 1)\n",
        "\n",
        "# Fit on training data\n",
        "model.fit(train, train_labels)"
      ]
    },
    {
      "cell_type": "code",
      "source": [
        "# Извлекаем значимость параметров\n",
        "fi = pd.DataFrame({'feature': list(train.columns),\n",
        "                   'importance': model.feature_importances_}).\\\n",
        "                    sort_values('importance', ascending = False)\n",
        "\n",
        "# Выводим значения\n",
        "display(fi)"
      ],
      "metadata": {
        "colab": {
          "base_uri": "https://localhost:8080/",
          "height": 237
        },
        "id": "saeF0AI4KMKJ",
        "outputId": "8aba584c-1034-4bf7-8727-d3a118ad63f0"
      },
      "execution_count": null,
      "outputs": [
        {
          "output_type": "display_data",
          "data": {
            "text/plain": [
              "        feature  importance\n",
              "5       TVD_(m)    0.313758\n",
              "2  TFLO_(L/min)    0.193517\n",
              "1    SPPA_(bar)    0.189400\n",
              "4   RPM_(c/min)    0.155873\n",
              "3   STOR_(kN.m)    0.099183\n",
              "0      HDTH_(m)    0.048268"
            ],
            "text/html": [
              "\n",
              "  <div id=\"df-3d969832-1f15-462a-83dc-3b5d00b07c68\">\n",
              "    <div class=\"colab-df-container\">\n",
              "      <div>\n",
              "<style scoped>\n",
              "    .dataframe tbody tr th:only-of-type {\n",
              "        vertical-align: middle;\n",
              "    }\n",
              "\n",
              "    .dataframe tbody tr th {\n",
              "        vertical-align: top;\n",
              "    }\n",
              "\n",
              "    .dataframe thead th {\n",
              "        text-align: right;\n",
              "    }\n",
              "</style>\n",
              "<table border=\"1\" class=\"dataframe\">\n",
              "  <thead>\n",
              "    <tr style=\"text-align: right;\">\n",
              "      <th></th>\n",
              "      <th>feature</th>\n",
              "      <th>importance</th>\n",
              "    </tr>\n",
              "  </thead>\n",
              "  <tbody>\n",
              "    <tr>\n",
              "      <th>5</th>\n",
              "      <td>TVD_(m)</td>\n",
              "      <td>0.313758</td>\n",
              "    </tr>\n",
              "    <tr>\n",
              "      <th>2</th>\n",
              "      <td>TFLO_(L/min)</td>\n",
              "      <td>0.193517</td>\n",
              "    </tr>\n",
              "    <tr>\n",
              "      <th>1</th>\n",
              "      <td>SPPA_(bar)</td>\n",
              "      <td>0.189400</td>\n",
              "    </tr>\n",
              "    <tr>\n",
              "      <th>4</th>\n",
              "      <td>RPM_(c/min)</td>\n",
              "      <td>0.155873</td>\n",
              "    </tr>\n",
              "    <tr>\n",
              "      <th>3</th>\n",
              "      <td>STOR_(kN.m)</td>\n",
              "      <td>0.099183</td>\n",
              "    </tr>\n",
              "    <tr>\n",
              "      <th>0</th>\n",
              "      <td>HDTH_(m)</td>\n",
              "      <td>0.048268</td>\n",
              "    </tr>\n",
              "  </tbody>\n",
              "</table>\n",
              "</div>\n",
              "      <button class=\"colab-df-convert\" onclick=\"convertToInteractive('df-3d969832-1f15-462a-83dc-3b5d00b07c68')\"\n",
              "              title=\"Convert this dataframe to an interactive table.\"\n",
              "              style=\"display:none;\">\n",
              "        \n",
              "  <svg xmlns=\"http://www.w3.org/2000/svg\" height=\"24px\"viewBox=\"0 0 24 24\"\n",
              "       width=\"24px\">\n",
              "    <path d=\"M0 0h24v24H0V0z\" fill=\"none\"/>\n",
              "    <path d=\"M18.56 5.44l.94 2.06.94-2.06 2.06-.94-2.06-.94-.94-2.06-.94 2.06-2.06.94zm-11 1L8.5 8.5l.94-2.06 2.06-.94-2.06-.94L8.5 2.5l-.94 2.06-2.06.94zm10 10l.94 2.06.94-2.06 2.06-.94-2.06-.94-.94-2.06-.94 2.06-2.06.94z\"/><path d=\"M17.41 7.96l-1.37-1.37c-.4-.4-.92-.59-1.43-.59-.52 0-1.04.2-1.43.59L10.3 9.45l-7.72 7.72c-.78.78-.78 2.05 0 2.83L4 21.41c.39.39.9.59 1.41.59.51 0 1.02-.2 1.41-.59l7.78-7.78 2.81-2.81c.8-.78.8-2.07 0-2.86zM5.41 20L4 18.59l7.72-7.72 1.47 1.35L5.41 20z\"/>\n",
              "  </svg>\n",
              "      </button>\n",
              "      \n",
              "  <style>\n",
              "    .colab-df-container {\n",
              "      display:flex;\n",
              "      flex-wrap:wrap;\n",
              "      gap: 12px;\n",
              "    }\n",
              "\n",
              "    .colab-df-convert {\n",
              "      background-color: #E8F0FE;\n",
              "      border: none;\n",
              "      border-radius: 50%;\n",
              "      cursor: pointer;\n",
              "      display: none;\n",
              "      fill: #1967D2;\n",
              "      height: 32px;\n",
              "      padding: 0 0 0 0;\n",
              "      width: 32px;\n",
              "    }\n",
              "\n",
              "    .colab-df-convert:hover {\n",
              "      background-color: #E2EBFA;\n",
              "      box-shadow: 0px 1px 2px rgba(60, 64, 67, 0.3), 0px 1px 3px 1px rgba(60, 64, 67, 0.15);\n",
              "      fill: #174EA6;\n",
              "    }\n",
              "\n",
              "    [theme=dark] .colab-df-convert {\n",
              "      background-color: #3B4455;\n",
              "      fill: #D2E3FC;\n",
              "    }\n",
              "\n",
              "    [theme=dark] .colab-df-convert:hover {\n",
              "      background-color: #434B5C;\n",
              "      box-shadow: 0px 1px 3px 1px rgba(0, 0, 0, 0.15);\n",
              "      filter: drop-shadow(0px 1px 2px rgba(0, 0, 0, 0.3));\n",
              "      fill: #FFFFFF;\n",
              "    }\n",
              "  </style>\n",
              "\n",
              "      <script>\n",
              "        const buttonEl =\n",
              "          document.querySelector('#df-3d969832-1f15-462a-83dc-3b5d00b07c68 button.colab-df-convert');\n",
              "        buttonEl.style.display =\n",
              "          google.colab.kernel.accessAllowed ? 'block' : 'none';\n",
              "\n",
              "        async function convertToInteractive(key) {\n",
              "          const element = document.querySelector('#df-3d969832-1f15-462a-83dc-3b5d00b07c68');\n",
              "          const dataTable =\n",
              "            await google.colab.kernel.invokeFunction('convertToInteractive',\n",
              "                                                     [key], {});\n",
              "          if (!dataTable) return;\n",
              "\n",
              "          const docLinkHtml = 'Like what you see? Visit the ' +\n",
              "            '<a target=\"_blank\" href=https://colab.research.google.com/notebooks/data_table.ipynb>data table notebook</a>'\n",
              "            + ' to learn more about interactive tables.';\n",
              "          element.innerHTML = '';\n",
              "          dataTable['output_type'] = 'display_data';\n",
              "          await google.colab.output.renderOutput(dataTable, element);\n",
              "          const docLink = document.createElement('div');\n",
              "          docLink.innerHTML = docLinkHtml;\n",
              "          element.appendChild(docLink);\n",
              "        }\n",
              "      </script>\n",
              "    </div>\n",
              "  </div>\n",
              "  "
            ]
          },
          "metadata": {}
        }
      ]
    },
    {
      "cell_type": "code",
      "execution_count": null,
      "metadata": {
        "colab": {
          "base_uri": "https://localhost:8080/"
        },
        "id": "L_6bFcywrdkF",
        "outputId": "b85937ad-a7d9-4e49-f48a-f7a288e3872e"
      },
      "outputs": [
        {
          "output_type": "stream",
          "name": "stderr",
          "text": [
            "/usr/local/lib/python3.7/dist-packages/sklearn/base.py:493: FutureWarning: The feature names should match those that were passed during fit. Starting version 1.2, an error will be raised.\n",
            "Feature names must be in the same order as they were in fit.\n",
            "\n",
            "  warnings.warn(message, FutureWarning)\n",
            "[Parallel(n_jobs=2)]: Using backend ThreadingBackend with 2 concurrent workers.\n",
            "[Parallel(n_jobs=2)]: Done  46 tasks      | elapsed:    0.7s\n",
            "[Parallel(n_jobs=2)]: Done 100 out of 100 | elapsed:    1.4s finished\n",
            "/usr/local/lib/python3.7/dist-packages/sklearn/base.py:493: FutureWarning: The feature names should match those that were passed during fit. Starting version 1.2, an error will be raised.\n",
            "Feature names must be in the same order as they were in fit.\n",
            "\n",
            "  warnings.warn(message, FutureWarning)\n",
            "[Parallel(n_jobs=2)]: Using backend ThreadingBackend with 2 concurrent workers.\n",
            "[Parallel(n_jobs=2)]: Done  46 tasks      | elapsed:    0.7s\n"
          ]
        },
        {
          "output_type": "stream",
          "name": "stdout",
          "text": [
            "[1. 1. 1. ... 1. 1. 1.]\n",
            "[1. 1. 1. ... 1. 1. 1.]\n"
          ]
        },
        {
          "output_type": "stream",
          "name": "stderr",
          "text": [
            "[Parallel(n_jobs=2)]: Done 100 out of 100 | elapsed:    1.5s finished\n"
          ]
        }
      ],
      "source": [
        "# Действующая классификация\n",
        "rf_predictions = model.predict(test)\n",
        "# Вероятности для каждого класса\n",
        "rf_probs = model.predict_proba(test)[:, 1]\n",
        "print(rf_predictions)\n",
        "print(rf_probs)"
      ]
    },
    {
      "cell_type": "code",
      "source": [
        "np.unique(rf_predictions)"
      ],
      "metadata": {
        "colab": {
          "base_uri": "https://localhost:8080/"
        },
        "id": "ZV7Pf1Fxc25i",
        "outputId": "aa06f230-d6bf-435a-a86d-ee7f26493a0e"
      },
      "execution_count": null,
      "outputs": [
        {
          "output_type": "execute_result",
          "data": {
            "text/plain": [
              "array([1.])"
            ]
          },
          "metadata": {},
          "execution_count": 122
        }
      ]
    },
    {
      "cell_type": "code",
      "execution_count": null,
      "metadata": {
        "colab": {
          "base_uri": "https://localhost:8080/"
        },
        "id": "v8avfq2m8Myy",
        "outputId": "cdcccd2d-a9d8-49d3-8d89-16865cc065db"
      },
      "outputs": [
        {
          "output_type": "stream",
          "name": "stdout",
          "text": [
            "0.5549578197461085\n"
          ]
        }
      ],
      "source": [
        "from sklearn.metrics import roc_auc_score\n",
        "\n",
        "# Рассчитываем roc auc\n",
        "roc_value = roc_auc_score(test_labels, rf_probs)\n",
        "print(roc_value)"
      ]
    },
    {
      "cell_type": "code",
      "source": [
        "from matplotlib.ticker import LinearLocator\n",
        "X = time\n",
        "fig, ax = plt.subplots(figsize=(18,3))\n",
        "ax.xaxis.set_major_locator(LinearLocator(10))\n",
        "plt.suptitle('Предсказание 241')\n",
        "plt.scatter(X,rf_predictions,s=5)\n",
        "\n",
        "plt.show()"
      ],
      "metadata": {
        "colab": {
          "base_uri": "https://localhost:8080/"
        },
        "id": "GlpsP9b0Yny-",
        "outputId": "a10bf0f5-bcb4-45fe-8b9c-1eed97de957c"
      },
      "execution_count": null,
      "outputs": [
        {
          "output_type": "display_data",
          "data": {
            "text/plain": [
              "<Figure size 1296x216 with 1 Axes>"
            ],
            "image/png": "[encoded data removed]"
          },
          "metadata": {
            "needs_background": "light"
          }
        }
      ]
    },
    {
      "cell_type": "code",
      "source": [
        "from matplotlib.ticker import LinearLocator\n",
        "\n",
        "X = time\n",
        "fig, ax = plt.subplots(figsize=(18,3))\n",
        "ax.xaxis.set_major_locator(LinearLocator(10))\n",
        "plt.suptitle('Эталон 241')\n",
        "plt.scatter(X, test_labels,color='red',s=5)\n",
        "\n",
        "plt.show()"
      ],
      "metadata": {
        "colab": {
          "base_uri": "https://localhost:8080/",
          "height": 233
        },
        "id": "Rrwxu47PZmyP",
        "outputId": "efe1b78e-16e4-4bc0-9b97-ff25e5745239"
      },
      "execution_count": null,
      "outputs": [
        {
          "output_type": "display_data",
          "data": {
            "text/plain": [
              "<Figure size 1296x216 with 1 Axes>"
            ],
            "image/png": "[encoded data removed]"
          },
          "metadata": {
            "needs_background": "light"
          }
        }
      ]
    },
    {
      "cell_type": "code",
      "source": [
        "from matplotlib.ticker import LinearLocator\n",
        "\n",
        "X = time\n",
        "fig, ax = plt.subplots(figsize=(18,3))\n",
        "ax.xaxis.set_major_locator(LinearLocator(10))\n",
        "plt.suptitle('вероятность классификации 241')\n",
        "\n",
        "plt.plot(X, rf_probs)\n",
        "\n",
        "plt.show()"
      ],
      "metadata": {
        "colab": {
          "base_uri": "https://localhost:8080/",
          "height": 233
        },
        "id": "DvfRw8Cbdlui",
        "outputId": "66858f40-cc49-4245-b46c-869cca41e1a2"
      },
      "execution_count": null,
      "outputs": [
        {
          "output_type": "display_data",
          "data": {
            "text/plain": [
              "<Figure size 1296x216 with 1 Axes>"
            ],
            "image/png": "[encoded data removed]"
          },
          "metadata": {
            "needs_background": "light"
          }
        }
      ]
    },
    {
      "cell_type": "markdown",
      "source": [
        "как было: треин - 248, 276, 220; тест - 220 или 241"
      ],
      "metadata": {
        "id": "KqG2Tw2z8hl8"
      }
    },
    {
      "cell_type": "code",
      "source": [
        "#нормализация\n",
        "from sklearn import preprocessing\n",
        "\n",
        "d = preprocessing.normalize(test)\n",
        "names = test.columns\n",
        "d=d.transpose()\n",
        "print(d.shape)"
      ],
      "metadata": {
        "colab": {
          "base_uri": "https://localhost:8080/"
        },
        "id": "zOOQct1oBJcm",
        "outputId": "547f80cf-13a6-418e-ed59-e0217607cfdd"
      },
      "execution_count": null,
      "outputs": [
        {
          "output_type": "stream",
          "name": "stdout",
          "text": [
            "(6, 391249)\n"
          ]
        }
      ]
    },
    {
      "cell_type": "code",
      "source": [
        "from matplotlib import legend\n",
        "from matplotlib.ticker import LinearLocator\n",
        "\n",
        "X = time\n",
        "fig, ax = plt.subplots(figsize=(18,6))\n",
        "ax.xaxis.set_major_locator(LinearLocator(10))\n",
        "plt.suptitle('Данные 220')\n",
        "for i in range(0,arr_test.shape[0]):\n",
        "  plt.plot(X, arr_test[i], label=names[i])\n",
        "plt.legend()\n",
        "plt.show()"
      ],
      "metadata": {
        "colab": {
          "base_uri": "https://localhost:8080/",
          "height": 417
        },
        "id": "P3DtQ5I_a3Zg",
        "outputId": "89258b8f-4dc8-4067-e502-3ef3475d07c5"
      },
      "execution_count": null,
      "outputs": [
        {
          "output_type": "display_data",
          "data": {
            "text/plain": [
              "<Figure size 1296x432 with 1 Axes>"
            ],
            "image/png": "[encoded data removed]"
          },
          "metadata": {
            "needs_background": "light"
          }
        }
      ]
    }
  ],
  "metadata": {
    "colab": {
      "collapsed_sections": [],
      "name": "Anomaly_Detection.ipynb",
      "provenance": []
    },
    "kernelspec": {
      "display_name": "Python 3.6.5 64-bit ('neptuneai')",
      "language": "python",
      "name": "python36564bitneptuneai560400dafb7943c8bf0f7cec281db636"
    },
    "language_info": {
      "codemirror_mode": {
        "name": "ipython",
        "version": 3
      },
      "file_extension": ".py",
      "mimetype": "text/x-python",
      "name": "python",
      "nbconvert_exporter": "python",
      "pygments_lexer": "ipython3",
      "version": "3.6.5"
    },
    "neptune": {
      "notebookId": "49ba1752-fc3a-4abb-b35f-0e2ea4fd4afa"
    }
  },
  "nbformat": 4,
  "nbformat_minor": 0
}