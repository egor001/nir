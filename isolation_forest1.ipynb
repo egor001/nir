{
  "nbformat": 4,
  "nbformat_minor": 0,
  "metadata": {
    "colab": {
      "name": "isolation forest1.ipynb",
      "provenance": [],
      "collapsed_sections": []
    },
    "kernelspec": {
      "name": "python3",
      "display_name": "Python 3"
    },
    "language_info": {
      "name": "python"
    }
  },
  "cells": [
    {
      "cell_type": "code",
      "execution_count": 1,
      "metadata": {
        "id": "ExxZqvuY5YCf"
      },
      "outputs": [],
      "source": [
        "import pandas as pd\n",
        "import numpy as np\n",
        "from pandas._libs import index\n",
        "import matplotlib.pyplot as plt\n",
        "from sklearn.model_selection import train_test_split\n",
        "from pandas.core.frame import DataFrame\n",
        "from pandas._libs import index\n",
        "from sklearn.preprocessing import StandardScaler\n",
        "from sklearn.decomposition import PCA\n",
        "from sklearn.ensemble import IsolationForest\n",
        "from sklearn import preprocessing"
      ]
    },
    {
      "cell_type": "code",
      "source": [
        "from google.colab import drive\n",
        "drive.mount('/content/drive')"
      ],
      "metadata": {
        "colab": {
          "base_uri": "https://localhost:8080/"
        },
        "id": "QgWMQSGf5lF-",
        "outputId": "8fa04c25-4a5d-4b17-8760-d62e5384ab90"
      },
      "execution_count": 2,
      "outputs": [
        {
          "output_type": "stream",
          "name": "stdout",
          "text": [
            "Drive already mounted at /content/drive; to attempt to forcibly remount, call drive.mount(\"/content/drive\", force_remount=True).\n"
          ]
        }
      ]
    },
    {
      "cell_type": "code",
      "source": [
        "def normalize(a):\n",
        "  names = a.columns\n",
        "  d = a.to_numpy()\n",
        "  d = np.transpose(d)\n",
        "  for i in range(0,d.shape[0]):\n",
        "    d[i] = preprocessing.normalize([d[i]])\n",
        "  a = pd.DataFrame(d)\n",
        "  a = a.transpose()\n",
        "  a.columns = names\n",
        "  return a"
      ],
      "metadata": {
        "id": "WQRaVcTs_UcZ"
      },
      "execution_count": 3,
      "outputs": []
    },
    {
      "cell_type": "code",
      "source": [
        "def preparetion_dataset(temp):\n",
        "  temp.drop('TIME_(s)', axis=1, inplace=True)\n",
        "  temp.drop('DEPTH_(m)',axis=1,inplace=True)\n",
        "  #temp.drop('ROP5_(m/h)',axis=1,inplace=True)\n",
        "  #temp.drop('HKLA_(1000 kgf)',axis=1,inplace=True)\n",
        "  temp.drop('SWOB_(1000 kgf)',axis=1,inplace=True)\n",
        "  temp.drop('BLKP_(m)',axis=1,inplace=True)\n",
        "\n",
        "  temp.drop('TVD_(m)',axis=1,inplace=True)\n",
        "  temp.drop('HDTH_(m)',axis=1,inplace=True)\n",
        "  temp.drop('TFLO_(L/min)',axis=1,inplace=True)\n",
        "  temp.drop('SPPA_(bar)',axis=1,inplace=True)\n",
        "  #temp.drop('RPM_(c/min)',axis=1,inplace=True)\n",
        "\n",
        "\n",
        "\n",
        "  temp.loc[(temp.labels == 'success' ), 'labels'] = 1\n",
        "  temp.loc[(temp.labels == 'Pack-off' ), 'labels'] = 0\n",
        "\n",
        "  temp = temp.replace({'Not Available': np.nan})\n",
        "\n",
        "\n",
        "  # Iterate through the columns\n",
        "  for col in list(temp.columns):\n",
        "    # Select columns that should be numeric\n",
        "    if ( 'TVD_(m)' in col or 'DEPTH_(m)' in col or 'HDTH_(m)' in \n",
        "        col or 'BLKP_(m)' in col or 'HKLA_(1000 kgf)' in col or 'ROP5_(m/h)' in col or 'RPM_(c/min)' in col or 'STOR_(kN.m)' in col or 'SWOB_(1000 kgf)' in col or 'TFLO_(L/min)' in col or 'SPPA_(bar)' in col or 'labels' in col):\n",
        "        # Convert the data type to float\n",
        "        temp[col] = temp[col].astype(float)\n",
        "\n",
        "  temp = temp.fillna(0)\n",
        "  \n",
        "  return temp"
      ],
      "metadata": {
        "id": "k_2R1Tex_VxH"
      },
      "execution_count": 4,
      "outputs": []
    },
    {
      "cell_type": "code",
      "source": [
        "def trash(temp):\n",
        "  names = temp.columns\n",
        "  for j in range(0,len(names)):\n",
        "    for i in [names[j]]:\n",
        "      q75,q25 = np.percentile(temp.loc[:,i],[75,25])\n",
        "      intr_qr = q75-q25\n",
        "\n",
        "      max = q75+(1.5*intr_qr)\n",
        "      min = q25-(1.5*intr_qr)\n",
        "\n",
        "      temp.loc[temp[i] < min,i] = np.nan\n",
        "      temp.loc[temp[i] > max,i] = np.nan\n",
        "  temp = temp.fillna(0)\n",
        "  return temp"
      ],
      "metadata": {
        "id": "pk3-3_zY_gBa"
      },
      "execution_count": 5,
      "outputs": []
    },
    {
      "cell_type": "code",
      "source": [
        "from pandas.core.frame import DataFrame\n",
        "\n",
        "temp_arr = np.array([\n",
        "                      '/content/drive/MyDrive/Colab Notebooks/Annotated/248_1.csv',\n",
        "                     '/content/drive/MyDrive/Colab Notebooks/Annotated/248_2.csv',\n",
        "                     '/content/drive/MyDrive/Colab Notebooks/Annotated/248_3.csv',\n",
        "                     '/content/drive/MyDrive/Colab Notebooks/Annotated/248_4.csv',\n",
        "                     '/content/drive/MyDrive/Colab Notebooks/Annotated/248_5.csv'\n",
        "                     ])\n",
        "df1 = pd.DataFrame()\n",
        "test_labels = []\n",
        "time = []\n",
        "for i in range(0,len(temp_arr)):\n",
        "  temp = pd.read_csv(temp_arr[i],delimiter=';')\n",
        "\n",
        "  time = np.append(time,(temp['TIME_(s)']))\n",
        "\n",
        "  temp = preparetion_dataset(temp)\n",
        "  temp = trash(temp)\n",
        "\n",
        "  test_labels_temp = np.array(temp.pop('labels'))\n",
        "  test_labels = np.append(test_labels,test_labels_temp)\n",
        "\n",
        "  #df1 = pd.concat([df1,normalize(temp)],ignore_index=True)\n",
        "  df1 = pd.concat([df1,normalize(temp)],ignore_index=True)"
      ],
      "metadata": {
        "id": "TG-SS1bU_Jj4"
      },
      "execution_count": 24,
      "outputs": []
    },
    {
      "cell_type": "code",
      "source": [
        "test = df1"
      ],
      "metadata": {
        "id": "3VF3nD-e_tl5"
      },
      "execution_count": 25,
      "outputs": []
    },
    {
      "cell_type": "code",
      "source": [
        "outliers_fraction = float(.01)"
      ],
      "metadata": {
        "id": "IvYLe3y8_45o"
      },
      "execution_count": 26,
      "outputs": []
    },
    {
      "cell_type": "code",
      "source": [
        "# train isolation forest\n",
        "model =  IsolationForest(contamination=outliers_fraction)\n",
        "model.fit(test)"
      ],
      "metadata": {
        "colab": {
          "base_uri": "https://localhost:8080/"
        },
        "id": "xAqrThN2_xEq",
        "outputId": "86d72393-f37b-4aab-c4c4-7404b306fa42"
      },
      "execution_count": 27,
      "outputs": [
        {
          "output_type": "stream",
          "name": "stderr",
          "text": [
            "/usr/local/lib/python3.7/dist-packages/sklearn/base.py:451: UserWarning: X does not have valid feature names, but IsolationForest was fitted with feature names\n",
            "  \"X does not have valid feature names, but\"\n"
          ]
        },
        {
          "output_type": "execute_result",
          "data": {
            "text/plain": [
              "IsolationForest(contamination=0.01)"
            ]
          },
          "metadata": {},
          "execution_count": 27
        }
      ]
    },
    {
      "cell_type": "code",
      "source": [
        "test['anomalies'] = model.predict(test)"
      ],
      "metadata": {
        "id": "tL1EjBxs_9jY"
      },
      "execution_count": 28,
      "outputs": []
    },
    {
      "cell_type": "code",
      "source": [
        "display(test)"
      ],
      "metadata": {
        "colab": {
          "base_uri": "https://localhost:8080/",
          "height": 424
        },
        "id": "u-YSvR-GAWT7",
        "outputId": "ec8c5cb3-ca5a-4a1d-fd71-9ac5833761bf"
      },
      "execution_count": 29,
      "outputs": [
        {
          "output_type": "display_data",
          "data": {
            "text/plain": [
              "        ROP5_(m/h)  STOR_(kN.m)   RPM_(c/min)  HKLA_(1000 kgf)  anomalies\n",
              "0              0.0    -0.000030 -5.359234e-07         0.001069          1\n",
              "1              0.0    -0.000030 -5.900405e-07         0.001080          1\n",
              "2              0.0    -0.000030 -5.290357e-07         0.001080          1\n",
              "3              0.0    -0.000030 -5.641299e-07         0.001080          1\n",
              "4              0.0    -0.000030 -6.254626e-07         0.001190          1\n",
              "...            ...          ...           ...              ...        ...\n",
              "510508         0.0    -0.000025  7.973324e-07         0.001171          1\n",
              "510509         0.0    -0.000025  8.005604e-07         0.001169          1\n",
              "510510         0.0    -0.000025  8.683498e-07         0.001168          1\n",
              "510511         0.0    -0.000026  8.457534e-07         0.001171          1\n",
              "510512         0.0    -0.000026  7.811920e-07         0.001171          1\n",
              "\n",
              "[510513 rows x 5 columns]"
            ],
            "text/html": [
              "\n",
              "  <div id=\"df-d50bf132-f363-4f53-ad41-7b837e1454bb\">\n",
              "    <div class=\"colab-df-container\">\n",
              "      <div>\n",
              "<style scoped>\n",
              "    .dataframe tbody tr th:only-of-type {\n",
              "        vertical-align: middle;\n",
              "    }\n",
              "\n",
              "    .dataframe tbody tr th {\n",
              "        vertical-align: top;\n",
              "    }\n",
              "\n",
              "    .dataframe thead th {\n",
              "        text-align: right;\n",
              "    }\n",
              "</style>\n",
              "<table border=\"1\" class=\"dataframe\">\n",
              "  <thead>\n",
              "    <tr style=\"text-align: right;\">\n",
              "      <th></th>\n",
              "      <th>ROP5_(m/h)</th>\n",
              "      <th>STOR_(kN.m)</th>\n",
              "      <th>RPM_(c/min)</th>\n",
              "      <th>HKLA_(1000 kgf)</th>\n",
              "      <th>anomalies</th>\n",
              "    </tr>\n",
              "  </thead>\n",
              "  <tbody>\n",
              "    <tr>\n",
              "      <th>0</th>\n",
              "      <td>0.0</td>\n",
              "      <td>-0.000030</td>\n",
              "      <td>-5.359234e-07</td>\n",
              "      <td>0.001069</td>\n",
              "      <td>1</td>\n",
              "    </tr>\n",
              "    <tr>\n",
              "      <th>1</th>\n",
              "      <td>0.0</td>\n",
              "      <td>-0.000030</td>\n",
              "      <td>-5.900405e-07</td>\n",
              "      <td>0.001080</td>\n",
              "      <td>1</td>\n",
              "    </tr>\n",
              "    <tr>\n",
              "      <th>2</th>\n",
              "      <td>0.0</td>\n",
              "      <td>-0.000030</td>\n",
              "      <td>-5.290357e-07</td>\n",
              "      <td>0.001080</td>\n",
              "      <td>1</td>\n",
              "    </tr>\n",
              "    <tr>\n",
              "      <th>3</th>\n",
              "      <td>0.0</td>\n",
              "      <td>-0.000030</td>\n",
              "      <td>-5.641299e-07</td>\n",
              "      <td>0.001080</td>\n",
              "      <td>1</td>\n",
              "    </tr>\n",
              "    <tr>\n",
              "      <th>4</th>\n",
              "      <td>0.0</td>\n",
              "      <td>-0.000030</td>\n",
              "      <td>-6.254626e-07</td>\n",
              "      <td>0.001190</td>\n",
              "      <td>1</td>\n",
              "    </tr>\n",
              "    <tr>\n",
              "      <th>...</th>\n",
              "      <td>...</td>\n",
              "      <td>...</td>\n",
              "      <td>...</td>\n",
              "      <td>...</td>\n",
              "      <td>...</td>\n",
              "    </tr>\n",
              "    <tr>\n",
              "      <th>510508</th>\n",
              "      <td>0.0</td>\n",
              "      <td>-0.000025</td>\n",
              "      <td>7.973324e-07</td>\n",
              "      <td>0.001171</td>\n",
              "      <td>1</td>\n",
              "    </tr>\n",
              "    <tr>\n",
              "      <th>510509</th>\n",
              "      <td>0.0</td>\n",
              "      <td>-0.000025</td>\n",
              "      <td>8.005604e-07</td>\n",
              "      <td>0.001169</td>\n",
              "      <td>1</td>\n",
              "    </tr>\n",
              "    <tr>\n",
              "      <th>510510</th>\n",
              "      <td>0.0</td>\n",
              "      <td>-0.000025</td>\n",
              "      <td>8.683498e-07</td>\n",
              "      <td>0.001168</td>\n",
              "      <td>1</td>\n",
              "    </tr>\n",
              "    <tr>\n",
              "      <th>510511</th>\n",
              "      <td>0.0</td>\n",
              "      <td>-0.000026</td>\n",
              "      <td>8.457534e-07</td>\n",
              "      <td>0.001171</td>\n",
              "      <td>1</td>\n",
              "    </tr>\n",
              "    <tr>\n",
              "      <th>510512</th>\n",
              "      <td>0.0</td>\n",
              "      <td>-0.000026</td>\n",
              "      <td>7.811920e-07</td>\n",
              "      <td>0.001171</td>\n",
              "      <td>1</td>\n",
              "    </tr>\n",
              "  </tbody>\n",
              "</table>\n",
              "<p>510513 rows × 5 columns</p>\n",
              "</div>\n",
              "      <button class=\"colab-df-convert\" onclick=\"convertToInteractive('df-d50bf132-f363-4f53-ad41-7b837e1454bb')\"\n",
              "              title=\"Convert this dataframe to an interactive table.\"\n",
              "              style=\"display:none;\">\n",
              "        \n",
              "  <svg xmlns=\"http://www.w3.org/2000/svg\" height=\"24px\"viewBox=\"0 0 24 24\"\n",
              "       width=\"24px\">\n",
              "    <path d=\"M0 0h24v24H0V0z\" fill=\"none\"/>\n",
              "    <path d=\"M18.56 5.44l.94 2.06.94-2.06 2.06-.94-2.06-.94-.94-2.06-.94 2.06-2.06.94zm-11 1L8.5 8.5l.94-2.06 2.06-.94-2.06-.94L8.5 2.5l-.94 2.06-2.06.94zm10 10l.94 2.06.94-2.06 2.06-.94-2.06-.94-.94-2.06-.94 2.06-2.06.94z\"/><path d=\"M17.41 7.96l-1.37-1.37c-.4-.4-.92-.59-1.43-.59-.52 0-1.04.2-1.43.59L10.3 9.45l-7.72 7.72c-.78.78-.78 2.05 0 2.83L4 21.41c.39.39.9.59 1.41.59.51 0 1.02-.2 1.41-.59l7.78-7.78 2.81-2.81c.8-.78.8-2.07 0-2.86zM5.41 20L4 18.59l7.72-7.72 1.47 1.35L5.41 20z\"/>\n",
              "  </svg>\n",
              "      </button>\n",
              "      \n",
              "  <style>\n",
              "    .colab-df-container {\n",
              "      display:flex;\n",
              "      flex-wrap:wrap;\n",
              "      gap: 12px;\n",
              "    }\n",
              "\n",
              "    .colab-df-convert {\n",
              "      background-color: #E8F0FE;\n",
              "      border: none;\n",
              "      border-radius: 50%;\n",
              "      cursor: pointer;\n",
              "      display: none;\n",
              "      fill: #1967D2;\n",
              "      height: 32px;\n",
              "      padding: 0 0 0 0;\n",
              "      width: 32px;\n",
              "    }\n",
              "\n",
              "    .colab-df-convert:hover {\n",
              "      background-color: #E2EBFA;\n",
              "      box-shadow: 0px 1px 2px rgba(60, 64, 67, 0.3), 0px 1px 3px 1px rgba(60, 64, 67, 0.15);\n",
              "      fill: #174EA6;\n",
              "    }\n",
              "\n",
              "    [theme=dark] .colab-df-convert {\n",
              "      background-color: #3B4455;\n",
              "      fill: #D2E3FC;\n",
              "    }\n",
              "\n",
              "    [theme=dark] .colab-df-convert:hover {\n",
              "      background-color: #434B5C;\n",
              "      box-shadow: 0px 1px 3px 1px rgba(0, 0, 0, 0.15);\n",
              "      filter: drop-shadow(0px 1px 2px rgba(0, 0, 0, 0.3));\n",
              "      fill: #FFFFFF;\n",
              "    }\n",
              "  </style>\n",
              "\n",
              "      <script>\n",
              "        const buttonEl =\n",
              "          document.querySelector('#df-d50bf132-f363-4f53-ad41-7b837e1454bb button.colab-df-convert');\n",
              "        buttonEl.style.display =\n",
              "          google.colab.kernel.accessAllowed ? 'block' : 'none';\n",
              "\n",
              "        async function convertToInteractive(key) {\n",
              "          const element = document.querySelector('#df-d50bf132-f363-4f53-ad41-7b837e1454bb');\n",
              "          const dataTable =\n",
              "            await google.colab.kernel.invokeFunction('convertToInteractive',\n",
              "                                                     [key], {});\n",
              "          if (!dataTable) return;\n",
              "\n",
              "          const docLinkHtml = 'Like what you see? Visit the ' +\n",
              "            '<a target=\"_blank\" href=https://colab.research.google.com/notebooks/data_table.ipynb>data table notebook</a>'\n",
              "            + ' to learn more about interactive tables.';\n",
              "          element.innerHTML = '';\n",
              "          dataTable['output_type'] = 'display_data';\n",
              "          await google.colab.output.renderOutput(dataTable, element);\n",
              "          const docLink = document.createElement('div');\n",
              "          docLink.innerHTML = docLinkHtml;\n",
              "          element.appendChild(docLink);\n",
              "        }\n",
              "      </script>\n",
              "    </div>\n",
              "  </div>\n",
              "  "
            ]
          },
          "metadata": {}
        }
      ]
    },
    {
      "cell_type": "code",
      "source": [
        "anomaly=df1.loc[df1['anomalies']==-1]\n",
        "anomaly_index=list(anomaly.index)\n",
        "print(anomaly)"
      ],
      "metadata": {
        "colab": {
          "base_uri": "https://localhost:8080/"
        },
        "id": "ijPPExN7BX-0",
        "outputId": "9f4e0a89-67ce-47e5-924b-62d7d6b5cecd"
      },
      "execution_count": 30,
      "outputs": [
        {
          "output_type": "stream",
          "name": "stdout",
          "text": [
            "        ROP5_(m/h)  STOR_(kN.m)  RPM_(c/min)  HKLA_(1000 kgf)  anomalies\n",
            "285820    0.010332     0.003716     0.004058         0.004687         -1\n",
            "285822    0.010718     0.004478     0.004018         0.004538         -1\n",
            "285823    0.010350     0.004189     0.004018         0.004549         -1\n",
            "285824    0.010413     0.003959     0.004058         0.004567         -1\n",
            "285825    0.010557     0.004255     0.004018         0.004569         -1\n",
            "...            ...          ...          ...              ...        ...\n",
            "351360    0.000000    -0.000961    -0.008716         0.006052         -1\n",
            "351399    0.000000    -0.000961    -0.008716         0.006030         -1\n",
            "351404    0.000000    -0.000961    -0.008716         0.006027         -1\n",
            "351405    0.000000    -0.000961    -0.008716         0.006033         -1\n",
            "351407    0.000000    -0.000961    -0.008716         0.006118         -1\n",
            "\n",
            "[5099 rows x 5 columns]\n"
          ]
        }
      ]
    },
    {
      "cell_type": "code",
      "source": [
        "from matplotlib.ticker import LinearLocator\n",
        "\n",
        "X = time\n",
        "fig, ax = plt.subplots(figsize=(18,3))\n",
        "ax.xaxis.set_major_locator(LinearLocator(10))\n",
        "plt.suptitle('Эталон 248 при раздельной нормализации и с 4 параметрами')\n",
        "plt.scatter(X, test_labels,color='red',s=5)\n",
        "\n",
        "plt.show()"
      ],
      "metadata": {
        "colab": {
          "base_uri": "https://localhost:8080/",
          "height": 233
        },
        "id": "_53kDJlqCBdn",
        "outputId": "efcf2ef7-0ee3-49ac-9876-516a493f2152"
      },
      "execution_count": 31,
      "outputs": [
        {
          "output_type": "display_data",
          "data": {
            "text/plain": [
              "<Figure size 1296x216 with 1 Axes>"
            ],
            "image/png": "[encoded data removed]"
          },
          "metadata": {
            "needs_background": "light"
          }
        }
      ]
    },
    {
      "cell_type": "code",
      "source": [
        "from matplotlib.ticker import LinearLocator\n",
        "\n",
        "X = time\n",
        "fig, ax = plt.subplots(figsize=(18,3))\n",
        "ax.xaxis.set_major_locator(LinearLocator(10))\n",
        "plt.suptitle('Предсказание 248 при раздельной нормализации и с 4 параметрами')\n",
        "plt.scatter(X, df1['anomalies'],color='red',s=5)\n",
        "\n",
        "plt.show()"
      ],
      "metadata": {
        "colab": {
          "base_uri": "https://localhost:8080/",
          "height": 233
        },
        "id": "R0GtPp0EDlbF",
        "outputId": "b222c130-992e-42e3-e217-14d0a65a312a"
      },
      "execution_count": 33,
      "outputs": [
        {
          "output_type": "display_data",
          "data": {
            "text/plain": [
              "<Figure size 1296x216 with 1 Axes>"
            ],
            "image/png": "[encoded data removed]"
          },
          "metadata": {
            "needs_background": "light"
          }
        }
      ]
    },
    {
      "cell_type": "markdown",
      "source": [
        "# Скорость изменения "
      ],
      "metadata": {
        "id": "MM7xZNFjScmx"
      }
    },
    {
      "cell_type": "code",
      "source": [
        "def speed(temp):\n",
        "  names = temp.columns\n",
        "  speed_temp = np.array(temp)\n",
        "  speed_temp = np.transpose(speed_temp)\n",
        "  for j in range(0,speed_temp.shape[0]):\n",
        "    temp_arr = []\n",
        "    for i in range(1,len(speed_temp[j])):\n",
        "      temp_arr.append(speed_temp[j][i]-speed_temp[j][i-1])\n",
        "    temp_arr.append(0)\n",
        "    speed_temp[j] = temp_arr\n",
        "  temp = pd.DataFrame(speed_temp)\n",
        "  temp = temp.transpose()\n",
        "  temp.columns = names\n",
        "  \n",
        "  return temp"
      ],
      "metadata": {
        "id": "q-iG7LeyShZo"
      },
      "execution_count": null,
      "outputs": []
    },
    {
      "cell_type": "code",
      "source": [
        "speed(df1)"
      ],
      "metadata": {
        "colab": {
          "base_uri": "https://localhost:8080/",
          "height": 424
        },
        "id": "UfabvY51Ur26",
        "outputId": "d04bd620-dfa7-43ed-c072-ddc7438574da"
      },
      "execution_count": null,
      "outputs": [
        {
          "output_type": "execute_result",
          "data": {
            "text/plain": [
              "        HKLA_(1000 kgf)  ROP5_(m/h)  RPM_(c/min)   STOR_(kN.m)\n",
              "0               0.00727         0.0     -0.00017 -4.068000e-05\n",
              "1              -0.11886         0.0      0.00101 -7.000000e-09\n",
              "2              -0.22377         0.0     -0.00090 -1.762740e-04\n",
              "3               0.88503         0.0      0.00118  5.288400e-04\n",
              "4              -0.52173         0.0     -0.00129 -2.169600e-04\n",
              "...                 ...         ...          ...           ...\n",
              "125929         -0.06190         0.0     -0.00118  4.881600e-04\n",
              "125930          0.00212         0.0      0.00325  3.796800e-04\n",
              "125931         -0.02573         0.0     -0.00201 -1.491620e-03\n",
              "125932          0.01370         0.0     -0.00036  9.492200e-04\n",
              "125933          0.00000         0.0      0.00000  0.000000e+00\n",
              "\n",
              "[125934 rows x 4 columns]"
            ],
            "text/html": [
              "\n",
              "  <div id=\"df-4b384fed-8033-463f-9088-1277436c1393\">\n",
              "    <div class=\"colab-df-container\">\n",
              "      <div>\n",
              "<style scoped>\n",
              "    .dataframe tbody tr th:only-of-type {\n",
              "        vertical-align: middle;\n",
              "    }\n",
              "\n",
              "    .dataframe tbody tr th {\n",
              "        vertical-align: top;\n",
              "    }\n",
              "\n",
              "    .dataframe thead th {\n",
              "        text-align: right;\n",
              "    }\n",
              "</style>\n",
              "<table border=\"1\" class=\"dataframe\">\n",
              "  <thead>\n",
              "    <tr style=\"text-align: right;\">\n",
              "      <th></th>\n",
              "      <th>HKLA_(1000 kgf)</th>\n",
              "      <th>ROP5_(m/h)</th>\n",
              "      <th>RPM_(c/min)</th>\n",
              "      <th>STOR_(kN.m)</th>\n",
              "    </tr>\n",
              "  </thead>\n",
              "  <tbody>\n",
              "    <tr>\n",
              "      <th>0</th>\n",
              "      <td>0.00727</td>\n",
              "      <td>0.0</td>\n",
              "      <td>-0.00017</td>\n",
              "      <td>-4.068000e-05</td>\n",
              "    </tr>\n",
              "    <tr>\n",
              "      <th>1</th>\n",
              "      <td>-0.11886</td>\n",
              "      <td>0.0</td>\n",
              "      <td>0.00101</td>\n",
              "      <td>-7.000000e-09</td>\n",
              "    </tr>\n",
              "    <tr>\n",
              "      <th>2</th>\n",
              "      <td>-0.22377</td>\n",
              "      <td>0.0</td>\n",
              "      <td>-0.00090</td>\n",
              "      <td>-1.762740e-04</td>\n",
              "    </tr>\n",
              "    <tr>\n",
              "      <th>3</th>\n",
              "      <td>0.88503</td>\n",
              "      <td>0.0</td>\n",
              "      <td>0.00118</td>\n",
              "      <td>5.288400e-04</td>\n",
              "    </tr>\n",
              "    <tr>\n",
              "      <th>4</th>\n",
              "      <td>-0.52173</td>\n",
              "      <td>0.0</td>\n",
              "      <td>-0.00129</td>\n",
              "      <td>-2.169600e-04</td>\n",
              "    </tr>\n",
              "    <tr>\n",
              "      <th>...</th>\n",
              "      <td>...</td>\n",
              "      <td>...</td>\n",
              "      <td>...</td>\n",
              "      <td>...</td>\n",
              "    </tr>\n",
              "    <tr>\n",
              "      <th>125929</th>\n",
              "      <td>-0.06190</td>\n",
              "      <td>0.0</td>\n",
              "      <td>-0.00118</td>\n",
              "      <td>4.881600e-04</td>\n",
              "    </tr>\n",
              "    <tr>\n",
              "      <th>125930</th>\n",
              "      <td>0.00212</td>\n",
              "      <td>0.0</td>\n",
              "      <td>0.00325</td>\n",
              "      <td>3.796800e-04</td>\n",
              "    </tr>\n",
              "    <tr>\n",
              "      <th>125931</th>\n",
              "      <td>-0.02573</td>\n",
              "      <td>0.0</td>\n",
              "      <td>-0.00201</td>\n",
              "      <td>-1.491620e-03</td>\n",
              "    </tr>\n",
              "    <tr>\n",
              "      <th>125932</th>\n",
              "      <td>0.01370</td>\n",
              "      <td>0.0</td>\n",
              "      <td>-0.00036</td>\n",
              "      <td>9.492200e-04</td>\n",
              "    </tr>\n",
              "    <tr>\n",
              "      <th>125933</th>\n",
              "      <td>0.00000</td>\n",
              "      <td>0.0</td>\n",
              "      <td>0.00000</td>\n",
              "      <td>0.000000e+00</td>\n",
              "    </tr>\n",
              "  </tbody>\n",
              "</table>\n",
              "<p>125934 rows × 4 columns</p>\n",
              "</div>\n",
              "      <button class=\"colab-df-convert\" onclick=\"convertToInteractive('df-4b384fed-8033-463f-9088-1277436c1393')\"\n",
              "              title=\"Convert this dataframe to an interactive table.\"\n",
              "              style=\"display:none;\">\n",
              "        \n",
              "  <svg xmlns=\"http://www.w3.org/2000/svg\" height=\"24px\"viewBox=\"0 0 24 24\"\n",
              "       width=\"24px\">\n",
              "    <path d=\"M0 0h24v24H0V0z\" fill=\"none\"/>\n",
              "    <path d=\"M18.56 5.44l.94 2.06.94-2.06 2.06-.94-2.06-.94-.94-2.06-.94 2.06-2.06.94zm-11 1L8.5 8.5l.94-2.06 2.06-.94-2.06-.94L8.5 2.5l-.94 2.06-2.06.94zm10 10l.94 2.06.94-2.06 2.06-.94-2.06-.94-.94-2.06-.94 2.06-2.06.94z\"/><path d=\"M17.41 7.96l-1.37-1.37c-.4-.4-.92-.59-1.43-.59-.52 0-1.04.2-1.43.59L10.3 9.45l-7.72 7.72c-.78.78-.78 2.05 0 2.83L4 21.41c.39.39.9.59 1.41.59.51 0 1.02-.2 1.41-.59l7.78-7.78 2.81-2.81c.8-.78.8-2.07 0-2.86zM5.41 20L4 18.59l7.72-7.72 1.47 1.35L5.41 20z\"/>\n",
              "  </svg>\n",
              "      </button>\n",
              "      \n",
              "  <style>\n",
              "    .colab-df-container {\n",
              "      display:flex;\n",
              "      flex-wrap:wrap;\n",
              "      gap: 12px;\n",
              "    }\n",
              "\n",
              "    .colab-df-convert {\n",
              "      background-color: #E8F0FE;\n",
              "      border: none;\n",
              "      border-radius: 50%;\n",
              "      cursor: pointer;\n",
              "      display: none;\n",
              "      fill: #1967D2;\n",
              "      height: 32px;\n",
              "      padding: 0 0 0 0;\n",
              "      width: 32px;\n",
              "    }\n",
              "\n",
              "    .colab-df-convert:hover {\n",
              "      background-color: #E2EBFA;\n",
              "      box-shadow: 0px 1px 2px rgba(60, 64, 67, 0.3), 0px 1px 3px 1px rgba(60, 64, 67, 0.15);\n",
              "      fill: #174EA6;\n",
              "    }\n",
              "\n",
              "    [theme=dark] .colab-df-convert {\n",
              "      background-color: #3B4455;\n",
              "      fill: #D2E3FC;\n",
              "    }\n",
              "\n",
              "    [theme=dark] .colab-df-convert:hover {\n",
              "      background-color: #434B5C;\n",
              "      box-shadow: 0px 1px 3px 1px rgba(0, 0, 0, 0.15);\n",
              "      filter: drop-shadow(0px 1px 2px rgba(0, 0, 0, 0.3));\n",
              "      fill: #FFFFFF;\n",
              "    }\n",
              "  </style>\n",
              "\n",
              "      <script>\n",
              "        const buttonEl =\n",
              "          document.querySelector('#df-4b384fed-8033-463f-9088-1277436c1393 button.colab-df-convert');\n",
              "        buttonEl.style.display =\n",
              "          google.colab.kernel.accessAllowed ? 'block' : 'none';\n",
              "\n",
              "        async function convertToInteractive(key) {\n",
              "          const element = document.querySelector('#df-4b384fed-8033-463f-9088-1277436c1393');\n",
              "          const dataTable =\n",
              "            await google.colab.kernel.invokeFunction('convertToInteractive',\n",
              "                                                     [key], {});\n",
              "          if (!dataTable) return;\n",
              "\n",
              "          const docLinkHtml = 'Like what you see? Visit the ' +\n",
              "            '<a target=\"_blank\" href=https://colab.research.google.com/notebooks/data_table.ipynb>data table notebook</a>'\n",
              "            + ' to learn more about interactive tables.';\n",
              "          element.innerHTML = '';\n",
              "          dataTable['output_type'] = 'display_data';\n",
              "          await google.colab.output.renderOutput(dataTable, element);\n",
              "          const docLink = document.createElement('div');\n",
              "          docLink.innerHTML = docLinkHtml;\n",
              "          element.appendChild(docLink);\n",
              "        }\n",
              "      </script>\n",
              "    </div>\n",
              "  </div>\n",
              "  "
            ]
          },
          "metadata": {},
          "execution_count": 96
        }
      ]
    },
    {
      "cell_type": "code",
      "source": [
        "from pandas.core.frame import DataFrame\n",
        "\n",
        "temp_arr = np.array([\n",
        "                      '/content/drive/MyDrive/Colab Notebooks/Annotated/220_1.csv',\n",
        "                     \n",
        "                     ])\n",
        "df1 = pd.DataFrame()\n",
        "test_labels = []\n",
        "time = []\n",
        "for i in range(0,len(temp_arr)):\n",
        "  temp = pd.read_csv(temp_arr[i],delimiter=';')\n",
        "\n",
        "  time = np.append(time,(temp['TIME_(s)']))\n",
        "\n",
        "  temp = preparetion_dataset(temp)\n",
        "  temp = trash(temp)\n",
        "\n",
        "  test_labels_temp = np.array(temp.pop('labels'))\n",
        "  test_labels = np.append(test_labels,test_labels_temp)\n",
        "\n",
        "  df1 = pd.concat([df1,speed(temp)],ignore_index=True)"
      ],
      "metadata": {
        "id": "TnvUvu64UAMu"
      },
      "execution_count": null,
      "outputs": []
    },
    {
      "cell_type": "code",
      "source": [
        "test = df1"
      ],
      "metadata": {
        "id": "rC7X9lClWgBA"
      },
      "execution_count": null,
      "outputs": []
    },
    {
      "cell_type": "code",
      "source": [
        "outliers_fraction = float(.01)"
      ],
      "metadata": {
        "id": "QGRJH5FwWj1Z"
      },
      "execution_count": null,
      "outputs": []
    },
    {
      "cell_type": "code",
      "source": [
        "# train isolation forest\n",
        "model =  IsolationForest(contamination=outliers_fraction)\n",
        "model.fit(test)"
      ],
      "metadata": {
        "colab": {
          "base_uri": "https://localhost:8080/"
        },
        "id": "uGFdfUe5WkpH",
        "outputId": "d478df86-9c0c-4e92-d8e1-ed4743a671f5"
      },
      "execution_count": null,
      "outputs": [
        {
          "output_type": "stream",
          "name": "stderr",
          "text": [
            "/usr/local/lib/python3.7/dist-packages/sklearn/base.py:451: UserWarning: X does not have valid feature names, but IsolationForest was fitted with feature names\n",
            "  \"X does not have valid feature names, but\"\n"
          ]
        },
        {
          "output_type": "execute_result",
          "data": {
            "text/plain": [
              "IsolationForest(contamination=0.01)"
            ]
          },
          "metadata": {},
          "execution_count": 107
        }
      ]
    },
    {
      "cell_type": "code",
      "source": [
        "test['anomalies'] = model.predict(test)"
      ],
      "metadata": {
        "id": "yMJG_Q-6WoX4"
      },
      "execution_count": null,
      "outputs": []
    },
    {
      "cell_type": "code",
      "source": [
        "from matplotlib.ticker import LinearLocator\n",
        "\n",
        "X = time\n",
        "fig, ax = plt.subplots(figsize=(18,3))\n",
        "ax.xaxis.set_major_locator(LinearLocator(10))\n",
        "plt.suptitle('Эталон 220 при раздельной нормализации и с 4 параметрами')\n",
        "plt.scatter(X, test_labels,color='red',s=5)\n",
        "\n",
        "plt.show()"
      ],
      "metadata": {
        "colab": {
          "base_uri": "https://localhost:8080/",
          "height": 233
        },
        "id": "wlZtoXrlWrvO",
        "outputId": "7830562d-edcd-44e0-90b8-b80b4c853a50"
      },
      "execution_count": null,
      "outputs": [
        {
          "output_type": "display_data",
          "data": {
            "text/plain": [
              "<Figure size 1296x216 with 1 Axes>"
            ],
            "image/png": "[encoded data removed]"
          },
          "metadata": {
            "needs_background": "light"
          }
        }
      ]
    },
    {
      "cell_type": "code",
      "source": [
        "from matplotlib.ticker import LinearLocator\n",
        "\n",
        "X = time\n",
        "fig, ax = plt.subplots(figsize=(18,3))\n",
        "ax.xaxis.set_major_locator(LinearLocator(10))\n",
        "plt.suptitle('Предсказание 220 при раздельной нормализации и с 4 параметрами')\n",
        "plt.scatter(X, df1['anomalies'],color='red',s=5)\n",
        "\n",
        "plt.show()"
      ],
      "metadata": {
        "colab": {
          "base_uri": "https://localhost:8080/",
          "height": 233
        },
        "id": "BluSQA8QWyHr",
        "outputId": "18991dfc-8aeb-442f-d513-d437e5825978"
      },
      "execution_count": null,
      "outputs": [
        {
          "output_type": "display_data",
          "data": {
            "text/plain": [
              "<Figure size 1296x216 with 1 Axes>"
            ],
            "image/png": "[encoded data removed]"
          },
          "metadata": {
            "needs_background": "light"
          }
        }
      ]
    }
  ]
}