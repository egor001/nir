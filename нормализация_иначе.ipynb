{
  "cells": [
    {
      "cell_type": "markdown",
      "metadata": {
        "id": "09zZfodnrotd"
      },
      "source": [
        "# Random forest"
      ]
    },
    {
      "cell_type": "code",
      "execution_count": null,
      "metadata": {
        "id": "Y_EXpdmlrTzt"
      },
      "outputs": [],
      "source": [
        "import pandas as pd\n",
        "import numpy as np\n",
        "import matplotlib.pyplot as plt\n",
        "from sklearn.model_selection import train_test_split\n",
        "from sklearn.ensemble import RandomForestClassifier"
      ]
    },
    {
      "cell_type": "code",
      "execution_count": null,
      "metadata": {
        "colab": {
          "base_uri": "https://localhost:8080/"
        },
        "id": "kyhQbfbMWR54",
        "outputId": "ae928a96-b28d-45e0-c333-efaea57d1025"
      },
      "outputs": [
        {
          "output_type": "stream",
          "name": "stdout",
          "text": [
            "Mounted at /content/drive\n"
          ]
        }
      ],
      "source": [
        "from google.colab import drive\n",
        "drive.mount('/content/drive')"
      ]
    },
    {
      "cell_type": "code",
      "execution_count": null,
      "metadata": {
        "id": "OlRESp97rnCj"
      },
      "outputs": [],
      "source": [
        "RSEED = 50"
      ]
    },
    {
      "cell_type": "markdown",
      "source": [
        "запись всех файлов"
      ],
      "metadata": {
        "id": "e61gq_3VMOLM"
      }
    },
    {
      "cell_type": "code",
      "source": [
        "def normalize(a):\n",
        "  names = a.columns\n",
        "  d = a.to_numpy()\n",
        "  d = np.transpose(d)\n",
        "  for i in range(0,d.shape[0]):\n",
        "    d[i] = preprocessing.normalize([d[i]])\n",
        "  a = pd.DataFrame(d)\n",
        "  a = a.transpose()\n",
        "  a.columns = names\n",
        "  return a"
      ],
      "metadata": {
        "id": "G9H3UDlITqJv"
      },
      "execution_count": null,
      "outputs": []
    },
    {
      "cell_type": "code",
      "source": [
        "def normalize2(a):\n",
        "  names = a.columns\n",
        "  d = a.to_numpy()\n",
        "  \n",
        "  for i in range(0,d.shape[0]):\n",
        "    d[i] = preprocessing.normalize([d[i]])\n",
        "  a = pd.DataFrame(d)\n",
        "  a.columns = names\n",
        "  return a"
      ],
      "metadata": {
        "id": "x9XH1WEnk-k2"
      },
      "execution_count": null,
      "outputs": []
    },
    {
      "cell_type": "code",
      "source": [
        "normalize2(df1)"
      ],
      "metadata": {
        "id": "F-bB2a1rlpbx"
      },
      "execution_count": null,
      "outputs": []
    },
    {
      "cell_type": "code",
      "source": [
        "def preparetion_dataset(temp):\n",
        "  temp.drop('TIME_(s)', axis=1, inplace=True)\n",
        "  temp.drop('DEPTH_(m)',axis=1,inplace=True)\n",
        "  #temp.drop('ROP5_(m/h)',axis=1,inplace=True)\n",
        "  #temp.drop('HKLA_(1000 kgf)',axis=1,inplace=True)\n",
        "  temp.drop('SWOB_(1000 kgf)',axis=1,inplace=True)\n",
        "  temp.drop('BLKP_(m)',axis=1,inplace=True)\n",
        "\n",
        "  temp.drop('TVD_(m)',axis=1,inplace=True)\n",
        "  temp.drop('HDTH_(m)',axis=1,inplace=True)\n",
        "  temp.drop('TFLO_(L/min)',axis=1,inplace=True)\n",
        "  temp.drop('SPPA_(bar)',axis=1,inplace=True)\n",
        "\n",
        "\n",
        "\n",
        "\n",
        "  temp.loc[(temp.labels == 'success' ), 'labels'] = 1\n",
        "  temp.loc[(temp.labels == 'Pack-off' ), 'labels'] = 0\n",
        "\n",
        "  temp = temp.replace({'Not Available': np.nan})\n",
        "\n",
        "\n",
        "  # Iterate through the columns\n",
        "  for col in list(temp.columns):\n",
        "    # Select columns that should be numeric\n",
        "    if ( 'TVD_(m)' in col or 'DEPTH_(m)' in col or 'HDTH_(m)' in \n",
        "        col or 'BLKP_(m)' in col or 'HKLA_(1000 kgf)' in col or 'ROP5_(m/h)' in col or 'RPM_(c/min)' in col or 'STOR_(kN.m)' in col or 'SWOB_(1000 kgf)' in col or 'TFLO_(L/min)' in col or 'SPPA_(bar)' in col or 'labels' in col):\n",
        "        # Convert the data type to float\n",
        "        temp[col] = temp[col].astype(float)\n",
        "\n",
        "  temp = temp.fillna(0)\n",
        "  \n",
        "  return temp\n"
      ],
      "metadata": {
        "id": "oSxqDuH4WErA"
      },
      "execution_count": null,
      "outputs": []
    },
    {
      "cell_type": "code",
      "source": [
        "def trash(temp):\n",
        "  names = temp.columns\n",
        "  for j in range(0,len(names)):\n",
        "    for i in [names[j]]:\n",
        "      q75,q25 = np.percentile(temp.loc[:,i],[75,25])\n",
        "      intr_qr = q75-q25\n",
        "\n",
        "      max = q75+(1.5*intr_qr)\n",
        "      min = q25-(1.5*intr_qr)\n",
        "\n",
        "      temp.loc[temp[i] < min,i] = np.nan\n",
        "      temp.loc[temp[i] > max,i] = np.nan\n",
        "  temp = temp.fillna(0)\n",
        "  return temp"
      ],
      "metadata": {
        "id": "2XM8udP72gWs"
      },
      "execution_count": null,
      "outputs": []
    },
    {
      "cell_type": "code",
      "source": [
        "from pandas.core.frame import DataFrame\n",
        "\n",
        "temp_arr = np.array([\n",
        "                      \n",
        "                    '/content/drive/MyDrive/Colab Notebooks/Annotated/276_SMNG_276_Механический_Каротаж_200403-200411_Режим_записи.csv',\n",
        "                      \n",
        "                      '/content/drive/MyDrive/Colab Notebooks/Annotated/243_1.csv',\n",
        "                     '/content/drive/MyDrive/Colab Notebooks/Annotated/243_2.csv',\n",
        "                     '/content/drive/MyDrive/Colab Notebooks/Annotated/243_3.csv',\n",
        "                     '/content/drive/MyDrive/Colab Notebooks/Annotated/243_4.csv',\n",
        "                     '/content/drive/MyDrive/Colab Notebooks/Annotated/243_5.csv',\n",
        "                      \n",
        "                      '/content/drive/MyDrive/Colab Notebooks/Annotated/248_1.csv',\n",
        "                     '/content/drive/MyDrive/Colab Notebooks/Annotated/248_2.csv',\n",
        "                     '/content/drive/MyDrive/Colab Notebooks/Annotated/248_3.csv',\n",
        "                     '/content/drive/MyDrive/Colab Notebooks/Annotated/248_4.csv',\n",
        "                     '/content/drive/MyDrive/Colab Notebooks/Annotated/248_5.csv',\n",
        "                     \n",
        "                     ])\n",
        "df = pd.DataFrame()\n",
        "train_labels =[]\n",
        "for i in range(0,len(temp_arr)):\n",
        "  temp = pd.read_csv(temp_arr[i],delimiter=';')\n",
        "  temp = preparetion_dataset(temp)\n",
        "  temp = trash(temp)\n",
        "\n",
        "  train_labels_temp = np.array(temp.pop('labels'))\n",
        "  train_labels = np.append(train_labels,train_labels_temp)\n",
        "  \n",
        "  df = pd.concat([df,normalize(temp)],ignore_index=True)\n",
        "  "
      ],
      "metadata": {
        "id": "x2u7SGvjrXoU"
      },
      "execution_count": null,
      "outputs": []
    },
    {
      "cell_type": "code",
      "source": [
        "display(df)"
      ],
      "metadata": {
        "colab": {
          "base_uri": "https://localhost:8080/",
          "height": 424
        },
        "id": "sHYRuGfEXel_",
        "outputId": "3dca507c-e86a-4eb5-cda0-9e9d0f56e90c"
      },
      "execution_count": null,
      "outputs": [
        {
          "output_type": "display_data",
          "data": {
            "text/plain": [
              "         ROP5_(m/h)  STOR_(kN.m)   RPM_(c/min)  HKLA_(1000 kgf)\n",
              "0               0.0     0.000000  0.000000e+00         0.000000\n",
              "1               0.0     0.000000  0.000000e+00         0.000000\n",
              "2               0.0     0.000000  0.000000e+00         0.000000\n",
              "3               0.0     0.000000  0.000000e+00         0.000000\n",
              "4               0.0     0.000000  0.000000e+00         0.000000\n",
              "...             ...          ...           ...              ...\n",
              "1038485         0.0    -0.000025  7.973324e-07         0.001171\n",
              "1038486         0.0    -0.000025  8.005604e-07         0.001169\n",
              "1038487         0.0    -0.000025  8.683498e-07         0.001168\n",
              "1038488         0.0    -0.000026  8.457534e-07         0.001171\n",
              "1038489         0.0    -0.000026  7.811920e-07         0.001171\n",
              "\n",
              "[1038490 rows x 4 columns]"
            ],
            "text/html": [
              "\n",
              "  <div id=\"df-6d0f73e6-9edd-4cb3-b1de-46e45df52777\">\n",
              "    <div class=\"colab-df-container\">\n",
              "      <div>\n",
              "<style scoped>\n",
              "    .dataframe tbody tr th:only-of-type {\n",
              "        vertical-align: middle;\n",
              "    }\n",
              "\n",
              "    .dataframe tbody tr th {\n",
              "        vertical-align: top;\n",
              "    }\n",
              "\n",
              "    .dataframe thead th {\n",
              "        text-align: right;\n",
              "    }\n",
              "</style>\n",
              "<table border=\"1\" class=\"dataframe\">\n",
              "  <thead>\n",
              "    <tr style=\"text-align: right;\">\n",
              "      <th></th>\n",
              "      <th>ROP5_(m/h)</th>\n",
              "      <th>STOR_(kN.m)</th>\n",
              "      <th>RPM_(c/min)</th>\n",
              "      <th>HKLA_(1000 kgf)</th>\n",
              "    </tr>\n",
              "  </thead>\n",
              "  <tbody>\n",
              "    <tr>\n",
              "      <th>0</th>\n",
              "      <td>0.0</td>\n",
              "      <td>0.000000</td>\n",
              "      <td>0.000000e+00</td>\n",
              "      <td>0.000000</td>\n",
              "    </tr>\n",
              "    <tr>\n",
              "      <th>1</th>\n",
              "      <td>0.0</td>\n",
              "      <td>0.000000</td>\n",
              "      <td>0.000000e+00</td>\n",
              "      <td>0.000000</td>\n",
              "    </tr>\n",
              "    <tr>\n",
              "      <th>2</th>\n",
              "      <td>0.0</td>\n",
              "      <td>0.000000</td>\n",
              "      <td>0.000000e+00</td>\n",
              "      <td>0.000000</td>\n",
              "    </tr>\n",
              "    <tr>\n",
              "      <th>3</th>\n",
              "      <td>0.0</td>\n",
              "      <td>0.000000</td>\n",
              "      <td>0.000000e+00</td>\n",
              "      <td>0.000000</td>\n",
              "    </tr>\n",
              "    <tr>\n",
              "      <th>4</th>\n",
              "      <td>0.0</td>\n",
              "      <td>0.000000</td>\n",
              "      <td>0.000000e+00</td>\n",
              "      <td>0.000000</td>\n",
              "    </tr>\n",
              "    <tr>\n",
              "      <th>...</th>\n",
              "      <td>...</td>\n",
              "      <td>...</td>\n",
              "      <td>...</td>\n",
              "      <td>...</td>\n",
              "    </tr>\n",
              "    <tr>\n",
              "      <th>1038485</th>\n",
              "      <td>0.0</td>\n",
              "      <td>-0.000025</td>\n",
              "      <td>7.973324e-07</td>\n",
              "      <td>0.001171</td>\n",
              "    </tr>\n",
              "    <tr>\n",
              "      <th>1038486</th>\n",
              "      <td>0.0</td>\n",
              "      <td>-0.000025</td>\n",
              "      <td>8.005604e-07</td>\n",
              "      <td>0.001169</td>\n",
              "    </tr>\n",
              "    <tr>\n",
              "      <th>1038487</th>\n",
              "      <td>0.0</td>\n",
              "      <td>-0.000025</td>\n",
              "      <td>8.683498e-07</td>\n",
              "      <td>0.001168</td>\n",
              "    </tr>\n",
              "    <tr>\n",
              "      <th>1038488</th>\n",
              "      <td>0.0</td>\n",
              "      <td>-0.000026</td>\n",
              "      <td>8.457534e-07</td>\n",
              "      <td>0.001171</td>\n",
              "    </tr>\n",
              "    <tr>\n",
              "      <th>1038489</th>\n",
              "      <td>0.0</td>\n",
              "      <td>-0.000026</td>\n",
              "      <td>7.811920e-07</td>\n",
              "      <td>0.001171</td>\n",
              "    </tr>\n",
              "  </tbody>\n",
              "</table>\n",
              "<p>1038490 rows × 4 columns</p>\n",
              "</div>\n",
              "      <button class=\"colab-df-convert\" onclick=\"convertToInteractive('df-6d0f73e6-9edd-4cb3-b1de-46e45df52777')\"\n",
              "              title=\"Convert this dataframe to an interactive table.\"\n",
              "              style=\"display:none;\">\n",
              "        \n",
              "  <svg xmlns=\"http://www.w3.org/2000/svg\" height=\"24px\"viewBox=\"0 0 24 24\"\n",
              "       width=\"24px\">\n",
              "    <path d=\"M0 0h24v24H0V0z\" fill=\"none\"/>\n",
              "    <path d=\"M18.56 5.44l.94 2.06.94-2.06 2.06-.94-2.06-.94-.94-2.06-.94 2.06-2.06.94zm-11 1L8.5 8.5l.94-2.06 2.06-.94-2.06-.94L8.5 2.5l-.94 2.06-2.06.94zm10 10l.94 2.06.94-2.06 2.06-.94-2.06-.94-.94-2.06-.94 2.06-2.06.94z\"/><path d=\"M17.41 7.96l-1.37-1.37c-.4-.4-.92-.59-1.43-.59-.52 0-1.04.2-1.43.59L10.3 9.45l-7.72 7.72c-.78.78-.78 2.05 0 2.83L4 21.41c.39.39.9.59 1.41.59.51 0 1.02-.2 1.41-.59l7.78-7.78 2.81-2.81c.8-.78.8-2.07 0-2.86zM5.41 20L4 18.59l7.72-7.72 1.47 1.35L5.41 20z\"/>\n",
              "  </svg>\n",
              "      </button>\n",
              "      \n",
              "  <style>\n",
              "    .colab-df-container {\n",
              "      display:flex;\n",
              "      flex-wrap:wrap;\n",
              "      gap: 12px;\n",
              "    }\n",
              "\n",
              "    .colab-df-convert {\n",
              "      background-color: #E8F0FE;\n",
              "      border: none;\n",
              "      border-radius: 50%;\n",
              "      cursor: pointer;\n",
              "      display: none;\n",
              "      fill: #1967D2;\n",
              "      height: 32px;\n",
              "      padding: 0 0 0 0;\n",
              "      width: 32px;\n",
              "    }\n",
              "\n",
              "    .colab-df-convert:hover {\n",
              "      background-color: #E2EBFA;\n",
              "      box-shadow: 0px 1px 2px rgba(60, 64, 67, 0.3), 0px 1px 3px 1px rgba(60, 64, 67, 0.15);\n",
              "      fill: #174EA6;\n",
              "    }\n",
              "\n",
              "    [theme=dark] .colab-df-convert {\n",
              "      background-color: #3B4455;\n",
              "      fill: #D2E3FC;\n",
              "    }\n",
              "\n",
              "    [theme=dark] .colab-df-convert:hover {\n",
              "      background-color: #434B5C;\n",
              "      box-shadow: 0px 1px 3px 1px rgba(0, 0, 0, 0.15);\n",
              "      filter: drop-shadow(0px 1px 2px rgba(0, 0, 0, 0.3));\n",
              "      fill: #FFFFFF;\n",
              "    }\n",
              "  </style>\n",
              "\n",
              "      <script>\n",
              "        const buttonEl =\n",
              "          document.querySelector('#df-6d0f73e6-9edd-4cb3-b1de-46e45df52777 button.colab-df-convert');\n",
              "        buttonEl.style.display =\n",
              "          google.colab.kernel.accessAllowed ? 'block' : 'none';\n",
              "\n",
              "        async function convertToInteractive(key) {\n",
              "          const element = document.querySelector('#df-6d0f73e6-9edd-4cb3-b1de-46e45df52777');\n",
              "          const dataTable =\n",
              "            await google.colab.kernel.invokeFunction('convertToInteractive',\n",
              "                                                     [key], {});\n",
              "          if (!dataTable) return;\n",
              "\n",
              "          const docLinkHtml = 'Like what you see? Visit the ' +\n",
              "            '<a target=\"_blank\" href=https://colab.research.google.com/notebooks/data_table.ipynb>data table notebook</a>'\n",
              "            + ' to learn more about interactive tables.';\n",
              "          element.innerHTML = '';\n",
              "          dataTable['output_type'] = 'display_data';\n",
              "          await google.colab.output.renderOutput(dataTable, element);\n",
              "          const docLink = document.createElement('div');\n",
              "          docLink.innerHTML = docLinkHtml;\n",
              "          element.appendChild(docLink);\n",
              "        }\n",
              "      </script>\n",
              "    </div>\n",
              "  </div>\n",
              "  "
            ]
          },
          "metadata": {}
        }
      ]
    },
    {
      "cell_type": "code",
      "execution_count": null,
      "metadata": {
        "id": "XTvlJYLpmXns"
      },
      "outputs": [],
      "source": [
        "from pandas.core.frame import DataFrame\n",
        "\n",
        "temp_arr = np.array([\n",
        "                      '/content/drive/MyDrive/Colab Notebooks/Annotated/241_1.csv',\n",
        "                     '/content/drive/MyDrive/Colab Notebooks/Annotated/241_2.csv',\n",
        "                     '/content/drive/MyDrive/Colab Notebooks/Annotated/241_3.csv',\n",
        "                     '/content/drive/MyDrive/Colab Notebooks/Annotated/241_4.csv'\n",
        "                     ])\n",
        "df1 = pd.DataFrame()\n",
        "test_labels = []\n",
        "time = []\n",
        "for i in range(0,len(temp_arr)):\n",
        "  temp = pd.read_csv(temp_arr[i],delimiter=';')\n",
        "\n",
        "  time = np.append(time,(temp['TIME_(s)']))\n",
        "\n",
        "  temp = preparetion_dataset(temp)\n",
        "  temp = trash(temp)\n",
        "\n",
        "  test_labels_temp = np.array(temp.pop('labels'))\n",
        "  test_labels = np.append(test_labels,test_labels_temp)\n",
        "\n",
        "  #df1 = pd.concat([df1,normalize(temp)],ignore_index=True)\n",
        "  df1 = pd.concat([df1,normalize(temp)],ignore_index=True)"
      ]
    },
    {
      "cell_type": "code",
      "source": [
        "train = df\n",
        "test = df1"
      ],
      "metadata": {
        "id": "CzU3orCneO4k"
      },
      "execution_count": null,
      "outputs": []
    },
    {
      "cell_type": "code",
      "source": [
        "print(test_labels,train_labels)"
      ],
      "metadata": {
        "colab": {
          "base_uri": "https://localhost:8080/"
        },
        "id": "Ih7yqtOPeaZg",
        "outputId": "a0cb8912-3dec-45dc-e195-98941683ade8"
      },
      "execution_count": null,
      "outputs": [
        {
          "output_type": "stream",
          "name": "stdout",
          "text": [
            "[1. 1. 1. ... 1. 1. 1.] [1. 1. 1. ... 1. 1. 1.]\n"
          ]
        }
      ]
    },
    {
      "cell_type": "markdown",
      "source": [
        "# удаление выбросов"
      ],
      "metadata": {
        "id": "tt7IWa_Cp45F"
      }
    },
    {
      "cell_type": "code",
      "source": [
        "test.boxplot()"
      ],
      "metadata": {
        "colab": {
          "base_uri": "https://localhost:8080/",
          "height": 284
        },
        "id": "PXGEk5nCp7bu",
        "outputId": "5df9a97b-cd95-4fbf-cee7-8dfec1c7b9b2"
      },
      "execution_count": null,
      "outputs": [
        {
          "output_type": "execute_result",
          "data": {
            "text/plain": [
              "<matplotlib.axes._subplots.AxesSubplot at 0x7f02db1fb8d0>"
            ]
          },
          "metadata": {},
          "execution_count": 16
        },
        {
          "output_type": "display_data",
          "data": {
            "text/plain": [
              "<Figure size 432x288 with 1 Axes>"
            ],
            "image/png": "[encoded data removed]"
          },
          "metadata": {
            "needs_background": "light"
          }
        }
      ]
    },
    {
      "cell_type": "code",
      "source": [
        "names = test.columns\n",
        "for j in range(0,len(names)):\n",
        "  for i in [names[j]]:\n",
        "      q75,q25 = np.percentile(test.loc[:,i],[75,25])\n",
        "      intr_qr = q75-q25\n",
        "\n",
        "      max = q75+(1.5*intr_qr)\n",
        "      min = q25-(1.5*intr_qr)\n",
        "\n",
        "      test.loc[test[i] < min,i] = np.nan\n",
        "      test.loc[test[i] > max,i] = np.nan\n"
      ],
      "metadata": {
        "id": "SJgps19Dq_GF"
      },
      "execution_count": null,
      "outputs": []
    },
    {
      "cell_type": "code",
      "source": [
        "test.isnull().sum()\n"
      ],
      "metadata": {
        "colab": {
          "base_uri": "https://localhost:8080/"
        },
        "id": "kU_1kO2prl1M",
        "outputId": "f7e996d7-3bb1-4994-cfde-a3fabf761765"
      },
      "execution_count": null,
      "outputs": [
        {
          "output_type": "execute_result",
          "data": {
            "text/plain": [
              "HDTH_(m)            0\n",
              "TVD_(m)         12704\n",
              "STOR_(kN.m)      3624\n",
              "RPM_(c/min)        96\n",
              "SPPA_(bar)          0\n",
              "TFLO_(L/min)        0\n",
              "dtype: int64"
            ]
          },
          "metadata": {},
          "execution_count": 18
        }
      ]
    },
    {
      "cell_type": "code",
      "source": [
        "test = test.fillna(0)"
      ],
      "metadata": {
        "id": "aAqGI5_CsHN2"
      },
      "execution_count": null,
      "outputs": []
    },
    {
      "cell_type": "code",
      "source": [
        "test.isnull().sum()\n"
      ],
      "metadata": {
        "colab": {
          "base_uri": "https://localhost:8080/"
        },
        "id": "jLf0fi2OsKzu",
        "outputId": "72bfa3ab-06c9-4cb8-a018-7debd138a030"
      },
      "execution_count": null,
      "outputs": [
        {
          "output_type": "execute_result",
          "data": {
            "text/plain": [
              "HDTH_(m)        0\n",
              "TVD_(m)         0\n",
              "STOR_(kN.m)     0\n",
              "RPM_(c/min)     0\n",
              "SPPA_(bar)      0\n",
              "TFLO_(L/min)    0\n",
              "dtype: int64"
            ]
          },
          "metadata": {},
          "execution_count": 20
        }
      ]
    },
    {
      "cell_type": "code",
      "source": [
        "train.boxplot()"
      ],
      "metadata": {
        "colab": {
          "base_uri": "https://localhost:8080/",
          "height": 283
        },
        "id": "q0YxsaSMtJJg",
        "outputId": "f808b625-e753-46a0-ad38-a8138c7de9cf"
      },
      "execution_count": null,
      "outputs": [
        {
          "output_type": "execute_result",
          "data": {
            "text/plain": [
              "<matplotlib.axes._subplots.AxesSubplot at 0x7f02de1ed090>"
            ]
          },
          "metadata": {},
          "execution_count": 21
        },
        {
          "output_type": "display_data",
          "data": {
            "text/plain": [
              "<Figure size 432x288 with 1 Axes>"
            ],
            "image/png": "[encoded data removed]"
          },
          "metadata": {
            "needs_background": "light"
          }
        }
      ]
    },
    {
      "cell_type": "code",
      "source": [
        "names = train.columns\n",
        "for j in range(0,len(names)):\n",
        "  for i in [names[j]]:\n",
        "      q75,q25 = np.percentile(train.loc[:,i],[75,25])\n",
        "      intr_qr = q75-q25\n",
        "\n",
        "      max = q75+(1.5*intr_qr)\n",
        "      min = q25-(1.5*intr_qr)\n",
        "\n",
        "      train.loc[train[i] < min,i] = np.nan\n",
        "      train.loc[train[i] > max,i] = np.nan"
      ],
      "metadata": {
        "id": "6ValEt5sttfX"
      },
      "execution_count": null,
      "outputs": []
    },
    {
      "cell_type": "code",
      "source": [
        "train.isnull().sum()\n"
      ],
      "metadata": {
        "colab": {
          "base_uri": "https://localhost:8080/"
        },
        "id": "tpUegs_Bt_NZ",
        "outputId": "afb6c35f-d50d-4dd3-875d-ab59d17ec011"
      },
      "execution_count": null,
      "outputs": [
        {
          "output_type": "execute_result",
          "data": {
            "text/plain": [
              "HDTH_(m)           0\n",
              "SPPA_(bar)        24\n",
              "TFLO_(L/min)       1\n",
              "STOR_(kN.m)     6739\n",
              "RPM_(c/min)     3408\n",
              "TVD_(m)            0\n",
              "dtype: int64"
            ]
          },
          "metadata": {},
          "execution_count": 23
        }
      ]
    },
    {
      "cell_type": "code",
      "source": [
        "train = train.fillna(0)"
      ],
      "metadata": {
        "id": "HoNQOP6CuFZq"
      },
      "execution_count": null,
      "outputs": []
    },
    {
      "cell_type": "code",
      "source": [
        "train.isnull().sum()\n"
      ],
      "metadata": {
        "colab": {
          "base_uri": "https://localhost:8080/"
        },
        "id": "_1jLuicouQGn",
        "outputId": "76220193-51ed-4ab3-d6a8-6405b87aea60"
      },
      "execution_count": null,
      "outputs": [
        {
          "output_type": "execute_result",
          "data": {
            "text/plain": [
              "HDTH_(m)        0\n",
              "SPPA_(bar)      0\n",
              "TFLO_(L/min)    0\n",
              "STOR_(kN.m)     0\n",
              "RPM_(c/min)     0\n",
              "TVD_(m)         0\n",
              "dtype: int64"
            ]
          },
          "metadata": {},
          "execution_count": 25
        }
      ]
    },
    {
      "cell_type": "markdown",
      "source": [
        "# нормализация данных"
      ],
      "metadata": {
        "id": "UGcD9GW6ysz_"
      }
    },
    {
      "cell_type": "code",
      "source": [
        "from sklearn import preprocessing"
      ],
      "metadata": {
        "id": "KauyTMa0zKCf"
      },
      "execution_count": null,
      "outputs": []
    },
    {
      "cell_type": "code",
      "source": [
        "names = test.columns\n",
        "\n",
        "d = test.to_numpy()\n",
        "d = np.transpose(d)\n",
        "\n",
        "for i in range(0,d.shape[0]):\n",
        "  d[i] = preprocessing.normalize([d[i]])\n",
        "\n",
        "test = pd.DataFrame(d)\n",
        "test = test.transpose()\n",
        "test.columns = names\n",
        "\n",
        "display(test)"
      ],
      "metadata": {
        "id": "hPWdLDTuyr5P"
      },
      "execution_count": null,
      "outputs": []
    },
    {
      "cell_type": "code",
      "source": [
        "names = train.columns\n",
        "\n",
        "d = train.to_numpy()\n",
        "d = np.transpose(d)\n",
        "\n",
        "for i in range(0,d.shape[0]):\n",
        "  d[i] = preprocessing.normalize([d[i]])\n",
        "\n",
        "train = pd.DataFrame(d)\n",
        "train = train.transpose()\n",
        "train.columns = names\n",
        "\n",
        "display(train)"
      ],
      "metadata": {
        "id": "csDehCLuzmcb"
      },
      "execution_count": null,
      "outputs": []
    },
    {
      "cell_type": "markdown",
      "source": [
        "# обучение"
      ],
      "metadata": {
        "id": "d2kouR53dS5r"
      }
    },
    {
      "cell_type": "code",
      "source": [
        "# Create the model with 100 trees\n",
        "model = RandomForestClassifier(n_estimators=100, \n",
        "                               random_state=RSEED, \n",
        "                               max_features = 'sqrt',\n",
        "                               n_jobs=-1, class_weight='balanced',verbose = 1)\n",
        "\n",
        "# Fit on training data\n",
        "model.fit(train, train_labels)"
      ],
      "metadata": {
        "colab": {
          "base_uri": "https://localhost:8080/"
        },
        "id": "T7TEeq7DdqtG",
        "outputId": "2c823f08-9905-40e4-df82-416540c5429b"
      },
      "execution_count": null,
      "outputs": [
        {
          "output_type": "stream",
          "name": "stderr",
          "text": [
            "[Parallel(n_jobs=-1)]: Using backend ThreadingBackend with 2 concurrent workers.\n",
            "[Parallel(n_jobs=-1)]: Done  46 tasks      | elapsed:   35.2s\n",
            "[Parallel(n_jobs=-1)]: Done 100 out of 100 | elapsed:  1.3min finished\n"
          ]
        },
        {
          "output_type": "execute_result",
          "data": {
            "text/plain": [
              "RandomForestClassifier(class_weight='balanced', max_features='sqrt', n_jobs=-1,\n",
              "                       random_state=50, verbose=1)"
            ]
          },
          "metadata": {},
          "execution_count": 201
        }
      ]
    },
    {
      "cell_type": "code",
      "source": [
        "# Извлекаем значимость параметров\n",
        "fi = pd.DataFrame({'feature': list(train.columns),\n",
        "                   'importance': model.feature_importances_}).\\\n",
        "                    sort_values('importance', ascending = False)\n",
        "\n",
        "# Выводим значения\n",
        "display(fi)"
      ],
      "metadata": {
        "colab": {
          "base_uri": "https://localhost:8080/",
          "height": 175
        },
        "id": "saeF0AI4KMKJ",
        "outputId": "b02cddb4-14a5-4119-e045-5949b463ba4f"
      },
      "execution_count": null,
      "outputs": [
        {
          "output_type": "display_data",
          "data": {
            "text/plain": [
              "           feature  importance\n",
              "2      RPM_(c/min)    0.459898\n",
              "1      STOR_(kN.m)    0.335491\n",
              "3  HKLA_(1000 kgf)    0.188583\n",
              "0       ROP5_(m/h)    0.016028"
            ],
            "text/html": [
              "\n",
              "  <div id=\"df-ea03da8e-f6ba-4804-bd15-033e52797281\">\n",
              "    <div class=\"colab-df-container\">\n",
              "      <div>\n",
              "<style scoped>\n",
              "    .dataframe tbody tr th:only-of-type {\n",
              "        vertical-align: middle;\n",
              "    }\n",
              "\n",
              "    .dataframe tbody tr th {\n",
              "        vertical-align: top;\n",
              "    }\n",
              "\n",
              "    .dataframe thead th {\n",
              "        text-align: right;\n",
              "    }\n",
              "</style>\n",
              "<table border=\"1\" class=\"dataframe\">\n",
              "  <thead>\n",
              "    <tr style=\"text-align: right;\">\n",
              "      <th></th>\n",
              "      <th>feature</th>\n",
              "      <th>importance</th>\n",
              "    </tr>\n",
              "  </thead>\n",
              "  <tbody>\n",
              "    <tr>\n",
              "      <th>2</th>\n",
              "      <td>RPM_(c/min)</td>\n",
              "      <td>0.459898</td>\n",
              "    </tr>\n",
              "    <tr>\n",
              "      <th>1</th>\n",
              "      <td>STOR_(kN.m)</td>\n",
              "      <td>0.335491</td>\n",
              "    </tr>\n",
              "    <tr>\n",
              "      <th>3</th>\n",
              "      <td>HKLA_(1000 kgf)</td>\n",
              "      <td>0.188583</td>\n",
              "    </tr>\n",
              "    <tr>\n",
              "      <th>0</th>\n",
              "      <td>ROP5_(m/h)</td>\n",
              "      <td>0.016028</td>\n",
              "    </tr>\n",
              "  </tbody>\n",
              "</table>\n",
              "</div>\n",
              "      <button class=\"colab-df-convert\" onclick=\"convertToInteractive('df-ea03da8e-f6ba-4804-bd15-033e52797281')\"\n",
              "              title=\"Convert this dataframe to an interactive table.\"\n",
              "              style=\"display:none;\">\n",
              "        \n",
              "  <svg xmlns=\"http://www.w3.org/2000/svg\" height=\"24px\"viewBox=\"0 0 24 24\"\n",
              "       width=\"24px\">\n",
              "    <path d=\"M0 0h24v24H0V0z\" fill=\"none\"/>\n",
              "    <path d=\"M18.56 5.44l.94 2.06.94-2.06 2.06-.94-2.06-.94-.94-2.06-.94 2.06-2.06.94zm-11 1L8.5 8.5l.94-2.06 2.06-.94-2.06-.94L8.5 2.5l-.94 2.06-2.06.94zm10 10l.94 2.06.94-2.06 2.06-.94-2.06-.94-.94-2.06-.94 2.06-2.06.94z\"/><path d=\"M17.41 7.96l-1.37-1.37c-.4-.4-.92-.59-1.43-.59-.52 0-1.04.2-1.43.59L10.3 9.45l-7.72 7.72c-.78.78-.78 2.05 0 2.83L4 21.41c.39.39.9.59 1.41.59.51 0 1.02-.2 1.41-.59l7.78-7.78 2.81-2.81c.8-.78.8-2.07 0-2.86zM5.41 20L4 18.59l7.72-7.72 1.47 1.35L5.41 20z\"/>\n",
              "  </svg>\n",
              "      </button>\n",
              "      \n",
              "  <style>\n",
              "    .colab-df-container {\n",
              "      display:flex;\n",
              "      flex-wrap:wrap;\n",
              "      gap: 12px;\n",
              "    }\n",
              "\n",
              "    .colab-df-convert {\n",
              "      background-color: #E8F0FE;\n",
              "      border: none;\n",
              "      border-radius: 50%;\n",
              "      cursor: pointer;\n",
              "      display: none;\n",
              "      fill: #1967D2;\n",
              "      height: 32px;\n",
              "      padding: 0 0 0 0;\n",
              "      width: 32px;\n",
              "    }\n",
              "\n",
              "    .colab-df-convert:hover {\n",
              "      background-color: #E2EBFA;\n",
              "      box-shadow: 0px 1px 2px rgba(60, 64, 67, 0.3), 0px 1px 3px 1px rgba(60, 64, 67, 0.15);\n",
              "      fill: #174EA6;\n",
              "    }\n",
              "\n",
              "    [theme=dark] .colab-df-convert {\n",
              "      background-color: #3B4455;\n",
              "      fill: #D2E3FC;\n",
              "    }\n",
              "\n",
              "    [theme=dark] .colab-df-convert:hover {\n",
              "      background-color: #434B5C;\n",
              "      box-shadow: 0px 1px 3px 1px rgba(0, 0, 0, 0.15);\n",
              "      filter: drop-shadow(0px 1px 2px rgba(0, 0, 0, 0.3));\n",
              "      fill: #FFFFFF;\n",
              "    }\n",
              "  </style>\n",
              "\n",
              "      <script>\n",
              "        const buttonEl =\n",
              "          document.querySelector('#df-ea03da8e-f6ba-4804-bd15-033e52797281 button.colab-df-convert');\n",
              "        buttonEl.style.display =\n",
              "          google.colab.kernel.accessAllowed ? 'block' : 'none';\n",
              "\n",
              "        async function convertToInteractive(key) {\n",
              "          const element = document.querySelector('#df-ea03da8e-f6ba-4804-bd15-033e52797281');\n",
              "          const dataTable =\n",
              "            await google.colab.kernel.invokeFunction('convertToInteractive',\n",
              "                                                     [key], {});\n",
              "          if (!dataTable) return;\n",
              "\n",
              "          const docLinkHtml = 'Like what you see? Visit the ' +\n",
              "            '<a target=\"_blank\" href=https://colab.research.google.com/notebooks/data_table.ipynb>data table notebook</a>'\n",
              "            + ' to learn more about interactive tables.';\n",
              "          element.innerHTML = '';\n",
              "          dataTable['output_type'] = 'display_data';\n",
              "          await google.colab.output.renderOutput(dataTable, element);\n",
              "          const docLink = document.createElement('div');\n",
              "          docLink.innerHTML = docLinkHtml;\n",
              "          element.appendChild(docLink);\n",
              "        }\n",
              "      </script>\n",
              "    </div>\n",
              "  </div>\n",
              "  "
            ]
          },
          "metadata": {}
        }
      ]
    },
    {
      "cell_type": "code",
      "execution_count": null,
      "metadata": {
        "colab": {
          "base_uri": "https://localhost:8080/"
        },
        "id": "L_6bFcywrdkF",
        "outputId": "963504f2-7504-463e-f5ab-a60972af9cb5"
      },
      "outputs": [
        {
          "output_type": "stream",
          "name": "stderr",
          "text": [
            "/usr/local/lib/python3.7/dist-packages/sklearn/base.py:493: FutureWarning: The feature names should match those that were passed during fit. Starting version 1.2, an error will be raised.\n",
            "Feature names must be in the same order as they were in fit.\n",
            "\n",
            "  warnings.warn(message, FutureWarning)\n",
            "[Parallel(n_jobs=2)]: Using backend ThreadingBackend with 2 concurrent workers.\n",
            "[Parallel(n_jobs=2)]: Done  46 tasks      | elapsed:    0.9s\n",
            "[Parallel(n_jobs=2)]: Done 100 out of 100 | elapsed:    1.8s finished\n",
            "/usr/local/lib/python3.7/dist-packages/sklearn/base.py:493: FutureWarning: The feature names should match those that were passed during fit. Starting version 1.2, an error will be raised.\n",
            "Feature names must be in the same order as they were in fit.\n",
            "\n",
            "  warnings.warn(message, FutureWarning)\n",
            "[Parallel(n_jobs=2)]: Using backend ThreadingBackend with 2 concurrent workers.\n",
            "[Parallel(n_jobs=2)]: Done  46 tasks      | elapsed:    0.8s\n"
          ]
        },
        {
          "output_type": "stream",
          "name": "stdout",
          "text": [
            "[1. 1. 1. ... 1. 1. 1.]\n",
            "[0.99976506 1.         1.         ... 1.         1.         0.99976506]\n"
          ]
        },
        {
          "output_type": "stream",
          "name": "stderr",
          "text": [
            "[Parallel(n_jobs=2)]: Done 100 out of 100 | elapsed:    1.8s finished\n"
          ]
        }
      ],
      "source": [
        "# Действующая классификация\n",
        "rf_predictions = model.predict(test)\n",
        "# Вероятности для каждого класса\n",
        "rf_probs = model.predict_proba(test)[:, 1]\n",
        "print(rf_predictions)\n",
        "print(rf_probs)"
      ]
    },
    {
      "cell_type": "code",
      "source": [
        "np.unique(rf_predictions)"
      ],
      "metadata": {
        "colab": {
          "base_uri": "https://localhost:8080/"
        },
        "id": "ZV7Pf1Fxc25i",
        "outputId": "40c89361-76ae-4541-e91b-3f9b839013b8"
      },
      "execution_count": null,
      "outputs": [
        {
          "output_type": "execute_result",
          "data": {
            "text/plain": [
              "array([0., 1.])"
            ]
          },
          "metadata": {},
          "execution_count": 204
        }
      ]
    },
    {
      "cell_type": "code",
      "execution_count": null,
      "metadata": {
        "colab": {
          "base_uri": "https://localhost:8080/"
        },
        "id": "v8avfq2m8Myy",
        "outputId": "dc1cdb2a-776c-40fe-8228-81ae1ec8ef78"
      },
      "outputs": [
        {
          "output_type": "stream",
          "name": "stdout",
          "text": [
            "0.5780880570223228\n"
          ]
        }
      ],
      "source": [
        "from sklearn.metrics import roc_auc_score\n",
        "\n",
        "# Рассчитываем roc auc\n",
        "roc_value = roc_auc_score(test_labels, rf_probs)\n",
        "print(roc_value)"
      ]
    },
    {
      "cell_type": "code",
      "source": [
        "from matplotlib.ticker import LinearLocator\n",
        "X = time\n",
        "fig, ax = plt.subplots(figsize=(18,3))\n",
        "ax.xaxis.set_major_locator(LinearLocator(10))\n",
        "plt.suptitle('Предсказание 248 при раздельной нормализации и с 4 параметрами')\n",
        "plt.scatter(X,rf_predictions,s=5)\n",
        "\n",
        "plt.show()"
      ],
      "metadata": {
        "colab": {
          "base_uri": "https://localhost:8080/",
          "height": 233
        },
        "id": "GlpsP9b0Yny-",
        "outputId": "95c5fc7b-7901-42b3-bf86-2a57b8125cd0"
      },
      "execution_count": null,
      "outputs": [
        {
          "output_type": "display_data",
          "data": {
            "text/plain": [
              "<Figure size 1296x216 with 1 Axes>"
            ],
            "image/png": "[encoded data removed]"
          },
          "metadata": {
            "needs_background": "light"
          }
        }
      ]
    },
    {
      "cell_type": "code",
      "source": [
        "from matplotlib.ticker import LinearLocator\n",
        "\n",
        "X = time\n",
        "fig, ax = plt.subplots(figsize=(18,3))\n",
        "ax.xaxis.set_major_locator(LinearLocator(10))\n",
        "plt.suptitle('Эталон 248 при раздельной нормализации и с 4 параметрами')\n",
        "plt.scatter(X, test_labels,color='red',s=5)\n",
        "\n",
        "plt.show()"
      ],
      "metadata": {
        "colab": {
          "base_uri": "https://localhost:8080/",
          "height": 233
        },
        "id": "Rrwxu47PZmyP",
        "outputId": "36d9f1f7-3566-4e3a-d55c-df0fa8cd2d26"
      },
      "execution_count": null,
      "outputs": [
        {
          "output_type": "display_data",
          "data": {
            "text/plain": [
              "<Figure size 1296x216 with 1 Axes>"
            ],
            "image/png": "[encoded data removed]"
          },
          "metadata": {
            "needs_background": "light"
          }
        }
      ]
    },
    {
      "cell_type": "code",
      "source": [
        "from matplotlib.ticker import LinearLocator\n",
        "\n",
        "X = time\n",
        "fig, ax = plt.subplots(figsize=(18,3))\n",
        "ax.xaxis.set_major_locator(LinearLocator(10))\n",
        "plt.suptitle('вероятность классификации 248 при раздельной нормализации и с 4 параметрами')\n",
        "\n",
        "plt.plot(X, rf_probs)\n",
        "\n",
        "plt.show()"
      ],
      "metadata": {
        "colab": {
          "base_uri": "https://localhost:8080/",
          "height": 233
        },
        "id": "DvfRw8Cbdlui",
        "outputId": "4c43ed27-e1e6-4272-d96a-0f84eb5c46ed"
      },
      "execution_count": null,
      "outputs": [
        {
          "output_type": "display_data",
          "data": {
            "text/plain": [
              "<Figure size 1296x216 with 1 Axes>"
            ],
            "image/png": "[encoded data removed]"
          },
          "metadata": {
            "needs_background": "light"
          }
        }
      ]
    }
  ],
  "metadata": {
    "colab": {
      "collapsed_sections": [
        "tt7IWa_Cp45F"
      ],
      "name": "нормализация иначе",
      "provenance": []
    },
    "kernelspec": {
      "display_name": "Python 3.6.5 64-bit ('neptuneai')",
      "language": "python",
      "name": "python36564bitneptuneai560400dafb7943c8bf0f7cec281db636"
    },
    "language_info": {
      "codemirror_mode": {
        "name": "ipython",
        "version": 3
      },
      "file_extension": ".py",
      "mimetype": "text/x-python",
      "name": "python",
      "nbconvert_exporter": "python",
      "pygments_lexer": "ipython3",
      "version": "3.6.5"
    },
    "neptune": {
      "notebookId": "49ba1752-fc3a-4abb-b35f-0e2ea4fd4afa"
    }
  },
  "nbformat": 4,
  "nbformat_minor": 0
}