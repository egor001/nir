{
  "nbformat": 4,
  "nbformat_minor": 0,
  "metadata": {
    "colab": {
      "name": "orion.ipynb",
      "provenance": [],
      "collapsed_sections": []
    },
    "kernelspec": {
      "name": "python3",
      "display_name": "Python 3"
    },
    "language_info": {
      "name": "python"
    }
  },
  "cells": [
    {
      "cell_type": "code",
      "execution_count": null,
      "metadata": {
        "id": "iLI-gHVGy_R6"
      },
      "outputs": [],
      "source": [
        "import numpy as np\n",
        "import pandas as pd\n",
        "import matplotlib.pyplot as plt\n",
        "import seaborn as sns"
      ]
    },
    {
      "cell_type": "code",
      "source": [
        "!pip install orion-ml"
      ],
      "metadata": {
        "id": "l2g-Hn4Qnq0y",
        "colab": {
          "base_uri": "https://localhost:8080/",
          "height": 1000
        },
        "outputId": "1822a93c-b630-4219-86db-b2631e3cc5f6"
      },
      "execution_count": null,
      "outputs": [
        {
          "output_type": "stream",
          "name": "stdout",
          "text": [
            "Collecting orion-ml\n",
            "  Downloading orion_ml-0.3.1-py2.py3-none-any.whl (106 kB)\n",
            "\u001b[?25l\r\u001b[K     |███                             | 10 kB 20.6 MB/s eta 0:00:01\r\u001b[K     |██████▏                         | 20 kB 12.6 MB/s eta 0:00:01\r\u001b[K     |█████████▏                      | 30 kB 6.5 MB/s eta 0:00:01\r\u001b[K     |████████████▎                   | 40 kB 5.7 MB/s eta 0:00:01\r\u001b[K     |███████████████▍                | 51 kB 3.7 MB/s eta 0:00:01\r\u001b[K     |██████████████████▍             | 61 kB 4.4 MB/s eta 0:00:01\r\u001b[K     |█████████████████████▌          | 71 kB 4.9 MB/s eta 0:00:01\r\u001b[K     |████████████████████████▋       | 81 kB 4.8 MB/s eta 0:00:01\r\u001b[K     |███████████████████████████▋    | 92 kB 5.3 MB/s eta 0:00:01\r\u001b[K     |██████████████████████████████▊ | 102 kB 5.2 MB/s eta 0:00:01\r\u001b[K     |████████████████████████████████| 106 kB 5.2 MB/s \n",
            "\u001b[?25hCollecting s3fs<0.5,>=0.2.2\n",
            "  Downloading s3fs-0.4.2-py3-none-any.whl (19 kB)\n",
            "Requirement already satisfied: tabulate<0.9,>=0.8.3 in /usr/local/lib/python3.7/dist-packages (from orion-ml) (0.8.9)\n",
            "Collecting pyts<0.11,>=0.9\n",
            "  Downloading pyts-0.10.0-py3-none-any.whl (2.5 MB)\n",
            "\u001b[K     |████████████████████████████████| 2.5 MB 18.6 MB/s \n",
            "\u001b[?25hCollecting Keras<2.4,>=2.1.6\n",
            "  Downloading Keras-2.3.1-py2.py3-none-any.whl (377 kB)\n",
            "\u001b[K     |████████████████████████████████| 377 kB 45.9 MB/s \n",
            "\u001b[?25hCollecting mlprimitives<0.3,>=0.2.2\n",
            "  Downloading mlprimitives-0.2.5-py2.py3-none-any.whl (180 kB)\n",
            "\u001b[K     |████████████████████████████████| 180 kB 51.0 MB/s \n",
            "\u001b[?25hCollecting mlblocks<0.4,>=0.3.3\n",
            "  Downloading mlblocks-0.3.4-py2.py3-none-any.whl (26 kB)\n",
            "Requirement already satisfied: numba<0.52,>=0.48 in /usr/local/lib/python3.7/dist-packages (from orion-ml) (0.51.2)\n",
            "Collecting azure-cognitiveservices-anomalydetector<0.4,>=0.3\n",
            "  Downloading azure_cognitiveservices_anomalydetector-0.3.0-py2.py3-none-any.whl (15 kB)\n",
            "Collecting pandas<0.25,>=0.23.4\n",
            "  Downloading pandas-0.24.2-cp37-cp37m-manylinux1_x86_64.whl (10.1 MB)\n",
            "\u001b[K     |████████████████████████████████| 10.1 MB 10.9 MB/s \n",
            "\u001b[?25hCollecting scikit-learn<0.21,>=0.20.1\n",
            "  Downloading scikit_learn-0.20.4-cp37-cp37m-manylinux1_x86_64.whl (5.4 MB)\n",
            "\u001b[K     |████████████████████████████████| 5.4 MB 30.9 MB/s \n",
            "\u001b[?25hCollecting xlsxwriter>=1.3.6<1.4\n",
            "  Downloading XlsxWriter-3.0.3-py3-none-any.whl (149 kB)\n",
            "\u001b[K     |████████████████████████████████| 149 kB 52.0 MB/s \n",
            "\u001b[?25hCollecting h5py<2.11.0,>=2.10.0\n",
            "  Downloading h5py-2.10.0-cp37-cp37m-manylinux1_x86_64.whl (2.9 MB)\n",
            "\u001b[K     |████████████████████████████████| 2.9 MB 7.7 MB/s \n",
            "\u001b[?25hCollecting numpy<1.17,>=1.16\n",
            "  Downloading numpy-1.16.6-cp37-cp37m-manylinux1_x86_64.whl (17.3 MB)\n",
            "\u001b[K     |████████████████████████████████| 17.3 MB 367 kB/s \n",
            "\u001b[?25hCollecting azure-common~=1.1\n",
            "  Downloading azure_common-1.1.28-py2.py3-none-any.whl (14 kB)\n",
            "Collecting msrest>=0.5.0\n",
            "  Downloading msrest-0.6.21-py2.py3-none-any.whl (85 kB)\n",
            "\u001b[K     |████████████████████████████████| 85 kB 2.6 MB/s \n",
            "\u001b[?25hRequirement already satisfied: six in /usr/local/lib/python3.7/dist-packages (from h5py<2.11.0,>=2.10.0->orion-ml) (1.15.0)\n",
            "Requirement already satisfied: keras-preprocessing>=1.0.5 in /usr/local/lib/python3.7/dist-packages (from Keras<2.4,>=2.1.6->orion-ml) (1.1.2)\n",
            "Requirement already satisfied: scipy>=0.14 in /usr/local/lib/python3.7/dist-packages (from Keras<2.4,>=2.1.6->orion-ml) (1.4.1)\n",
            "Requirement already satisfied: pyyaml in /usr/local/lib/python3.7/dist-packages (from Keras<2.4,>=2.1.6->orion-ml) (3.13)\n",
            "Collecting keras-applications>=1.0.6\n",
            "  Downloading Keras_Applications-1.0.8-py3-none-any.whl (50 kB)\n",
            "\u001b[K     |████████████████████████████████| 50 kB 5.8 MB/s \n",
            "\u001b[?25hRequirement already satisfied: statsmodels<1,>=0.9.0 in /usr/local/lib/python3.7/dist-packages (from mlprimitives<0.3,>=0.2.2->orion-ml) (0.10.2)\n",
            "Collecting nltk<4,>=3.3\n",
            "  Downloading nltk-3.7-py3-none-any.whl (1.5 MB)\n",
            "\u001b[K     |████████████████████████████████| 1.5 MB 42.8 MB/s \n",
            "\u001b[?25hRequirement already satisfied: setuptools>=41.0.0 in /usr/local/lib/python3.7/dist-packages (from mlprimitives<0.3,>=0.2.2->orion-ml) (57.4.0)\n",
            "Collecting iso639<0.2,>=0.1.4\n",
            "  Downloading iso639-0.1.4.tar.gz (11 kB)\n",
            "Collecting lightfm<2,>=1.15\n",
            "  Downloading lightfm-1.16.tar.gz (310 kB)\n",
            "\u001b[K     |████████████████████████████████| 310 kB 38.8 MB/s \n",
            "\u001b[?25hRequirement already satisfied: opencv-python<5,>=3.4.0.12 in /usr/local/lib/python3.7/dist-packages (from mlprimitives<0.3,>=0.2.2->orion-ml) (4.1.2.30)\n",
            "Collecting featuretools<0.12,>=0.6.1\n",
            "  Downloading featuretools-0.11.0-py3-none-any.whl (240 kB)\n",
            "\u001b[K     |████████████████████████████████| 240 kB 40.8 MB/s \n",
            "\u001b[?25hCollecting scikit-image!=0.14.3,<0.15,>=0.13.1\n",
            "  Downloading scikit_image-0.14.5-cp37-cp37m-manylinux1_x86_64.whl (25.4 MB)\n",
            "\u001b[K     |████████████████████████████████| 25.4 MB 69 kB/s \n",
            "\u001b[?25hRequirement already satisfied: networkx<3,>=2.0 in /usr/local/lib/python3.7/dist-packages (from mlprimitives<0.3,>=0.2.2->orion-ml) (2.6.3)\n",
            "Collecting langdetect<2,>=1.0.7\n",
            "  Downloading langdetect-1.0.9.tar.gz (981 kB)\n",
            "\u001b[K     |████████████████████████████████| 981 kB 45.9 MB/s \n",
            "\u001b[?25hRequirement already satisfied: xgboost<1,>=0.72.1 in /usr/local/lib/python3.7/dist-packages (from mlprimitives<0.3,>=0.2.2->orion-ml) (0.90)\n",
            "Collecting tensorflow<2,>=1.11.0\n",
            "  Downloading tensorflow-1.15.5-cp37-cp37m-manylinux2010_x86_64.whl (110.5 MB)\n",
            "\u001b[K     |████████████████████████████████| 110.5 MB 1.7 kB/s \n",
            "\u001b[?25hCollecting python-louvain<0.14,>=0.10\n",
            "  Downloading python-louvain-0.13.tar.gz (18 kB)\n",
            "Collecting docutils<0.16,>=0.10\n",
            "  Downloading docutils-0.15.2-py3-none-any.whl (547 kB)\n",
            "\u001b[K     |████████████████████████████████| 547 kB 59.4 MB/s \n",
            "\u001b[?25hRequirement already satisfied: smart-open>=1.8.4 in /usr/local/lib/python3.7/dist-packages (from featuretools<0.12,>=0.6.1->mlprimitives<0.3,>=0.2.2->orion-ml) (6.0.0)\n",
            "Requirement already satisfied: tqdm>=4.32.0 in /usr/local/lib/python3.7/dist-packages (from featuretools<0.12,>=0.6.1->mlprimitives<0.3,>=0.2.2->orion-ml) (4.64.0)\n",
            "Requirement already satisfied: dask>=1.1.0 in /usr/local/lib/python3.7/dist-packages (from featuretools<0.12,>=0.6.1->mlprimitives<0.3,>=0.2.2->orion-ml) (2.12.0)\n",
            "Requirement already satisfied: future>=0.16.0 in /usr/local/lib/python3.7/dist-packages (from featuretools<0.12,>=0.6.1->mlprimitives<0.3,>=0.2.2->orion-ml) (0.16.0)\n",
            "Requirement already satisfied: distributed>=1.24.2 in /usr/local/lib/python3.7/dist-packages (from featuretools<0.12,>=0.6.1->mlprimitives<0.3,>=0.2.2->orion-ml) (1.25.3)\n",
            "Requirement already satisfied: cloudpickle>=0.4.0 in /usr/local/lib/python3.7/dist-packages (from featuretools<0.12,>=0.6.1->mlprimitives<0.3,>=0.2.2->orion-ml) (1.3.0)\n",
            "Requirement already satisfied: click>=7.0.0 in /usr/local/lib/python3.7/dist-packages (from featuretools<0.12,>=0.6.1->mlprimitives<0.3,>=0.2.2->orion-ml) (7.1.2)\n",
            "Requirement already satisfied: psutil>=5.4.8 in /usr/local/lib/python3.7/dist-packages (from featuretools<0.12,>=0.6.1->mlprimitives<0.3,>=0.2.2->orion-ml) (5.4.8)\n",
            "Requirement already satisfied: toolz>=0.7.4 in /usr/local/lib/python3.7/dist-packages (from distributed>=1.24.2->featuretools<0.12,>=0.6.1->mlprimitives<0.3,>=0.2.2->orion-ml) (0.11.2)\n",
            "Requirement already satisfied: zict>=0.1.3 in /usr/local/lib/python3.7/dist-packages (from distributed>=1.24.2->featuretools<0.12,>=0.6.1->mlprimitives<0.3,>=0.2.2->orion-ml) (2.2.0)\n",
            "Requirement already satisfied: tornado>=4.5.1 in /usr/local/lib/python3.7/dist-packages (from distributed>=1.24.2->featuretools<0.12,>=0.6.1->mlprimitives<0.3,>=0.2.2->orion-ml) (5.1.1)\n",
            "Requirement already satisfied: tblib in /usr/local/lib/python3.7/dist-packages (from distributed>=1.24.2->featuretools<0.12,>=0.6.1->mlprimitives<0.3,>=0.2.2->orion-ml) (1.7.0)\n",
            "Requirement already satisfied: sortedcontainers!=2.0.0,!=2.0.1 in /usr/local/lib/python3.7/dist-packages (from distributed>=1.24.2->featuretools<0.12,>=0.6.1->mlprimitives<0.3,>=0.2.2->orion-ml) (2.4.0)\n",
            "Requirement already satisfied: msgpack in /usr/local/lib/python3.7/dist-packages (from distributed>=1.24.2->featuretools<0.12,>=0.6.1->mlprimitives<0.3,>=0.2.2->orion-ml) (1.0.3)\n",
            "Requirement already satisfied: requests in /usr/local/lib/python3.7/dist-packages (from lightfm<2,>=1.15->mlprimitives<0.3,>=0.2.2->orion-ml) (2.23.0)\n",
            "Collecting isodate>=0.6.0\n",
            "  Downloading isodate-0.6.1-py2.py3-none-any.whl (41 kB)\n",
            "\u001b[K     |████████████████████████████████| 41 kB 625 kB/s \n",
            "\u001b[?25hRequirement already satisfied: requests-oauthlib>=0.5.0 in /usr/local/lib/python3.7/dist-packages (from msrest>=0.5.0->azure-cognitiveservices-anomalydetector<0.4,>=0.3->orion-ml) (1.3.1)\n",
            "Requirement already satisfied: certifi>=2017.4.17 in /usr/local/lib/python3.7/dist-packages (from msrest>=0.5.0->azure-cognitiveservices-anomalydetector<0.4,>=0.3->orion-ml) (2021.10.8)\n",
            "Collecting regex>=2021.8.3\n",
            "  Downloading regex-2022.4.24-cp37-cp37m-manylinux_2_17_x86_64.manylinux2014_x86_64.whl (749 kB)\n",
            "\u001b[K     |████████████████████████████████| 749 kB 54.7 MB/s \n",
            "\u001b[?25hRequirement already satisfied: joblib in /usr/local/lib/python3.7/dist-packages (from nltk<4,>=3.3->mlprimitives<0.3,>=0.2.2->orion-ml) (1.1.0)\n",
            "Requirement already satisfied: llvmlite<0.35,>=0.34.0.dev0 in /usr/local/lib/python3.7/dist-packages (from numba<0.52,>=0.48->orion-ml) (0.34.0)\n",
            "Requirement already satisfied: python-dateutil>=2.5.0 in /usr/local/lib/python3.7/dist-packages (from pandas<0.25,>=0.23.4->orion-ml) (2.8.2)\n",
            "Requirement already satisfied: pytz>=2011k in /usr/local/lib/python3.7/dist-packages (from pandas<0.25,>=0.23.4->orion-ml) (2022.1)\n",
            "Requirement already satisfied: chardet<4,>=3.0.2 in /usr/local/lib/python3.7/dist-packages (from requests->lightfm<2,>=1.15->mlprimitives<0.3,>=0.2.2->orion-ml) (3.0.4)\n",
            "Requirement already satisfied: urllib3!=1.25.0,!=1.25.1,<1.26,>=1.21.1 in /usr/local/lib/python3.7/dist-packages (from requests->lightfm<2,>=1.15->mlprimitives<0.3,>=0.2.2->orion-ml) (1.24.3)\n",
            "Requirement already satisfied: idna<3,>=2.5 in /usr/local/lib/python3.7/dist-packages (from requests->lightfm<2,>=1.15->mlprimitives<0.3,>=0.2.2->orion-ml) (2.10)\n",
            "Requirement already satisfied: oauthlib>=3.0.0 in /usr/local/lib/python3.7/dist-packages (from requests-oauthlib>=0.5.0->msrest>=0.5.0->azure-cognitiveservices-anomalydetector<0.4,>=0.3->orion-ml) (3.2.0)\n",
            "Collecting botocore>=1.12.91\n",
            "  Downloading botocore-1.25.11-py3-none-any.whl (8.7 MB)\n",
            "\u001b[K     |████████████████████████████████| 8.7 MB 38.2 MB/s \n",
            "\u001b[?25hCollecting fsspec>=0.6.0\n",
            "  Downloading fsspec-2022.3.0-py3-none-any.whl (136 kB)\n",
            "\u001b[K     |████████████████████████████████| 136 kB 74.5 MB/s \n",
            "\u001b[?25hCollecting jmespath<2.0.0,>=0.7.1\n",
            "  Downloading jmespath-1.0.0-py3-none-any.whl (23 kB)\n",
            "Collecting urllib3!=1.25.0,!=1.25.1,<1.26,>=1.21.1\n",
            "  Downloading urllib3-1.25.11-py2.py3-none-any.whl (127 kB)\n",
            "\u001b[K     |████████████████████████████████| 127 kB 70.6 MB/s \n",
            "\u001b[?25hRequirement already satisfied: matplotlib>=2.0.0 in /usr/local/lib/python3.7/dist-packages (from scikit-image!=0.14.3,<0.15,>=0.13.1->mlprimitives<0.3,>=0.2.2->orion-ml) (3.2.2)\n",
            "Requirement already satisfied: PyWavelets>=0.4.0 in /usr/local/lib/python3.7/dist-packages (from scikit-image!=0.14.3,<0.15,>=0.13.1->mlprimitives<0.3,>=0.2.2->orion-ml) (1.3.0)\n",
            "Requirement already satisfied: pillow>=4.3.0 in /usr/local/lib/python3.7/dist-packages (from scikit-image!=0.14.3,<0.15,>=0.13.1->mlprimitives<0.3,>=0.2.2->orion-ml) (7.1.2)\n",
            "Requirement already satisfied: pyparsing!=2.0.4,!=2.1.2,!=2.1.6,>=2.0.1 in /usr/local/lib/python3.7/dist-packages (from matplotlib>=2.0.0->scikit-image!=0.14.3,<0.15,>=0.13.1->mlprimitives<0.3,>=0.2.2->orion-ml) (3.0.8)\n",
            "Requirement already satisfied: cycler>=0.10 in /usr/local/lib/python3.7/dist-packages (from matplotlib>=2.0.0->scikit-image!=0.14.3,<0.15,>=0.13.1->mlprimitives<0.3,>=0.2.2->orion-ml) (0.11.0)\n",
            "Requirement already satisfied: kiwisolver>=1.0.1 in /usr/local/lib/python3.7/dist-packages (from matplotlib>=2.0.0->scikit-image!=0.14.3,<0.15,>=0.13.1->mlprimitives<0.3,>=0.2.2->orion-ml) (1.4.2)\n",
            "Requirement already satisfied: typing-extensions in /usr/local/lib/python3.7/dist-packages (from kiwisolver>=1.0.1->matplotlib>=2.0.0->scikit-image!=0.14.3,<0.15,>=0.13.1->mlprimitives<0.3,>=0.2.2->orion-ml) (4.2.0)\n",
            "Collecting PyWavelets>=0.4.0\n",
            "  Downloading PyWavelets-1.2.0-cp37-cp37m-manylinux_2_5_x86_64.manylinux1_x86_64.whl (6.1 MB)\n",
            "\u001b[K     |████████████████████████████████| 6.1 MB 20.1 MB/s \n",
            "\u001b[?25h  Downloading PyWavelets-1.1.1-cp37-cp37m-manylinux1_x86_64.whl (4.4 MB)\n",
            "\u001b[K     |████████████████████████████████| 4.4 MB 50.8 MB/s \n",
            "\u001b[?25hRequirement already satisfied: patsy>=0.4.0 in /usr/local/lib/python3.7/dist-packages (from statsmodels<1,>=0.9.0->mlprimitives<0.3,>=0.2.2->orion-ml) (0.5.2)\n",
            "Requirement already satisfied: absl-py>=0.7.0 in /usr/local/lib/python3.7/dist-packages (from tensorflow<2,>=1.11.0->mlprimitives<0.3,>=0.2.2->orion-ml) (1.0.0)\n",
            "Requirement already satisfied: opt-einsum>=2.3.2 in /usr/local/lib/python3.7/dist-packages (from tensorflow<2,>=1.11.0->mlprimitives<0.3,>=0.2.2->orion-ml) (3.3.0)\n",
            "Collecting tensorboard<1.16.0,>=1.15.0\n",
            "  Downloading tensorboard-1.15.0-py3-none-any.whl (3.8 MB)\n",
            "\u001b[K     |████████████████████████████████| 3.8 MB 46.3 MB/s \n",
            "\u001b[?25hCollecting gast==0.2.2\n",
            "  Downloading gast-0.2.2.tar.gz (10 kB)\n",
            "Requirement already satisfied: protobuf>=3.6.1 in /usr/local/lib/python3.7/dist-packages (from tensorflow<2,>=1.11.0->mlprimitives<0.3,>=0.2.2->orion-ml) (3.17.3)\n",
            "Requirement already satisfied: grpcio>=1.8.6 in /usr/local/lib/python3.7/dist-packages (from tensorflow<2,>=1.11.0->mlprimitives<0.3,>=0.2.2->orion-ml) (1.44.0)\n",
            "Requirement already satisfied: wheel>=0.26 in /usr/local/lib/python3.7/dist-packages (from tensorflow<2,>=1.11.0->mlprimitives<0.3,>=0.2.2->orion-ml) (0.37.1)\n",
            "Collecting tensorflow-estimator==1.15.1\n",
            "  Downloading tensorflow_estimator-1.15.1-py2.py3-none-any.whl (503 kB)\n",
            "\u001b[K     |████████████████████████████████| 503 kB 30.4 MB/s \n",
            "\u001b[?25hRequirement already satisfied: wrapt>=1.11.1 in /usr/local/lib/python3.7/dist-packages (from tensorflow<2,>=1.11.0->mlprimitives<0.3,>=0.2.2->orion-ml) (1.14.0)\n",
            "Requirement already satisfied: astor>=0.6.0 in /usr/local/lib/python3.7/dist-packages (from tensorflow<2,>=1.11.0->mlprimitives<0.3,>=0.2.2->orion-ml) (0.8.1)\n",
            "Requirement already satisfied: google-pasta>=0.1.6 in /usr/local/lib/python3.7/dist-packages (from tensorflow<2,>=1.11.0->mlprimitives<0.3,>=0.2.2->orion-ml) (0.2.0)\n",
            "Requirement already satisfied: termcolor>=1.1.0 in /usr/local/lib/python3.7/dist-packages (from tensorflow<2,>=1.11.0->mlprimitives<0.3,>=0.2.2->orion-ml) (1.1.0)\n",
            "Requirement already satisfied: markdown>=2.6.8 in /usr/local/lib/python3.7/dist-packages (from tensorboard<1.16.0,>=1.15.0->tensorflow<2,>=1.11.0->mlprimitives<0.3,>=0.2.2->orion-ml) (3.3.6)\n",
            "Requirement already satisfied: werkzeug>=0.11.15 in /usr/local/lib/python3.7/dist-packages (from tensorboard<1.16.0,>=1.15.0->tensorflow<2,>=1.11.0->mlprimitives<0.3,>=0.2.2->orion-ml) (1.0.1)\n",
            "Requirement already satisfied: importlib-metadata>=4.4 in /usr/local/lib/python3.7/dist-packages (from markdown>=2.6.8->tensorboard<1.16.0,>=1.15.0->tensorflow<2,>=1.11.0->mlprimitives<0.3,>=0.2.2->orion-ml) (4.11.3)\n",
            "Requirement already satisfied: zipp>=0.5 in /usr/local/lib/python3.7/dist-packages (from importlib-metadata>=4.4->markdown>=2.6.8->tensorboard<1.16.0,>=1.15.0->tensorflow<2,>=1.11.0->mlprimitives<0.3,>=0.2.2->orion-ml) (3.8.0)\n",
            "Requirement already satisfied: heapdict in /usr/local/lib/python3.7/dist-packages (from zict>=0.1.3->distributed>=1.24.2->featuretools<0.12,>=0.6.1->mlprimitives<0.3,>=0.2.2->orion-ml) (1.0.1)\n",
            "Building wheels for collected packages: iso639, langdetect, lightfm, python-louvain, gast\n",
            "  Building wheel for iso639 (setup.py) ... \u001b[?25l\u001b[?25hdone\n",
            "  Created wheel for iso639: filename=iso639-0.1.4-py3-none-any.whl size=11191 sha256=2119533372aa904db5bd5ad07ec2c5718ca7533ac49219f22c29079be21c0573\n",
            "  Stored in directory: /root/.cache/pip/wheels/22/0c/79/0f1e37567fba2eed11c6323b06c07480ad0881d2735fa1c98c\n",
            "  Building wheel for langdetect (setup.py) ... \u001b[?25l\u001b[?25hdone\n",
            "  Created wheel for langdetect: filename=langdetect-1.0.9-py3-none-any.whl size=993242 sha256=48990079c2ed7038cd569e475c4c5b921f1b79a6591aee4b0145fd81034c1df1\n",
            "  Stored in directory: /root/.cache/pip/wheels/c5/96/8a/f90c59ed25d75e50a8c10a1b1c2d4c402e4dacfa87f3aff36a\n",
            "  Building wheel for lightfm (setup.py) ... \u001b[?25l\u001b[?25hdone\n",
            "  Created wheel for lightfm: filename=lightfm-1.16-cp37-cp37m-linux_x86_64.whl size=705381 sha256=a5ffa180051f3e7379ee6f32b48f126c2470a554177cb80f88ee1aac3e1f0201\n",
            "  Stored in directory: /root/.cache/pip/wheels/f8/56/28/5772a3bd3413d65f03aa452190b00898b680b10028a1021914\n",
            "  Building wheel for python-louvain (setup.py) ... \u001b[?25l\u001b[?25hdone\n",
            "  Created wheel for python-louvain: filename=python_louvain-0.13-py3-none-any.whl size=9238 sha256=24da690579d9e9a6c98311851591192eb86c4cc1bb59c39646afac1f12771de2\n",
            "  Stored in directory: /root/.cache/pip/wheels/dd/6b/3b/87539deabac63a68ec34be2867308907d0544e11ba4d4e728d\n",
            "  Building wheel for gast (setup.py) ... \u001b[?25l\u001b[?25hdone\n",
            "  Created wheel for gast: filename=gast-0.2.2-py3-none-any.whl size=7554 sha256=36296bae7ff1c0d42f19b47162e331896e92934c4335102f37cdf57942465c72\n",
            "  Stored in directory: /root/.cache/pip/wheels/21/7f/02/420f32a803f7d0967b48dd823da3f558c5166991bfd204eef3\n",
            "Successfully built iso639 langdetect lightfm python-louvain gast\n",
            "Installing collected packages: urllib3, numpy, jmespath, h5py, fsspec, botocore, tensorflow-estimator, tensorboard, scikit-learn, s3fs, regex, PyWavelets, pandas, keras-applications, isodate, gast, tensorflow, scikit-image, python-louvain, nltk, msrest, mlblocks, lightfm, langdetect, Keras, iso639, featuretools, docutils, azure-common, xlsxwriter, pyts, mlprimitives, azure-cognitiveservices-anomalydetector, orion-ml\n",
            "  Attempting uninstall: urllib3\n",
            "    Found existing installation: urllib3 1.24.3\n",
            "    Uninstalling urllib3-1.24.3:\n",
            "      Successfully uninstalled urllib3-1.24.3\n",
            "  Attempting uninstall: numpy\n",
            "    Found existing installation: numpy 1.21.6\n",
            "    Uninstalling numpy-1.21.6:\n",
            "      Successfully uninstalled numpy-1.21.6\n",
            "  Attempting uninstall: h5py\n",
            "    Found existing installation: h5py 3.1.0\n",
            "    Uninstalling h5py-3.1.0:\n",
            "      Successfully uninstalled h5py-3.1.0\n",
            "  Attempting uninstall: tensorflow-estimator\n",
            "    Found existing installation: tensorflow-estimator 2.8.0\n",
            "    Uninstalling tensorflow-estimator-2.8.0:\n",
            "      Successfully uninstalled tensorflow-estimator-2.8.0\n",
            "  Attempting uninstall: tensorboard\n",
            "    Found existing installation: tensorboard 2.8.0\n",
            "    Uninstalling tensorboard-2.8.0:\n",
            "      Successfully uninstalled tensorboard-2.8.0\n",
            "  Attempting uninstall: scikit-learn\n",
            "    Found existing installation: scikit-learn 1.0.2\n",
            "    Uninstalling scikit-learn-1.0.2:\n",
            "      Successfully uninstalled scikit-learn-1.0.2\n",
            "  Attempting uninstall: regex\n",
            "    Found existing installation: regex 2019.12.20\n",
            "    Uninstalling regex-2019.12.20:\n",
            "      Successfully uninstalled regex-2019.12.20\n",
            "  Attempting uninstall: PyWavelets\n",
            "    Found existing installation: PyWavelets 1.3.0\n",
            "    Uninstalling PyWavelets-1.3.0:\n",
            "      Successfully uninstalled PyWavelets-1.3.0\n",
            "  Attempting uninstall: pandas\n",
            "    Found existing installation: pandas 1.3.5\n",
            "    Uninstalling pandas-1.3.5:\n",
            "      Successfully uninstalled pandas-1.3.5\n",
            "  Attempting uninstall: gast\n",
            "    Found existing installation: gast 0.5.3\n",
            "    Uninstalling gast-0.5.3:\n",
            "      Successfully uninstalled gast-0.5.3\n",
            "  Attempting uninstall: tensorflow\n",
            "    Found existing installation: tensorflow 2.8.0\n",
            "    Uninstalling tensorflow-2.8.0:\n",
            "      Successfully uninstalled tensorflow-2.8.0\n",
            "  Attempting uninstall: scikit-image\n",
            "    Found existing installation: scikit-image 0.18.3\n",
            "    Uninstalling scikit-image-0.18.3:\n",
            "      Successfully uninstalled scikit-image-0.18.3\n",
            "  Attempting uninstall: python-louvain\n",
            "    Found existing installation: python-louvain 0.16\n",
            "    Uninstalling python-louvain-0.16:\n",
            "      Successfully uninstalled python-louvain-0.16\n",
            "  Attempting uninstall: nltk\n",
            "    Found existing installation: nltk 3.2.5\n",
            "    Uninstalling nltk-3.2.5:\n",
            "      Successfully uninstalled nltk-3.2.5\n",
            "  Attempting uninstall: Keras\n",
            "    Found existing installation: keras 2.8.0\n",
            "    Uninstalling keras-2.8.0:\n",
            "      Successfully uninstalled keras-2.8.0\n",
            "  Attempting uninstall: docutils\n",
            "    Found existing installation: docutils 0.17.1\n",
            "    Uninstalling docutils-0.17.1:\n",
            "      Successfully uninstalled docutils-0.17.1\n",
            "\u001b[31mERROR: pip's dependency resolver does not currently take into account all the packages that are installed. This behaviour is the source of the following dependency conflicts.\n",
            "yellowbrick 1.4 requires scikit-learn>=1.0.0, but you have scikit-learn 0.20.4 which is incompatible.\n",
            "xarray 0.18.2 requires numpy>=1.17, but you have numpy 1.16.6 which is incompatible.\n",
            "xarray 0.18.2 requires pandas>=1.0, but you have pandas 0.24.2 which is incompatible.\n",
            "tensorflow-probability 0.16.0 requires gast>=0.3.2, but you have gast 0.2.2 which is incompatible.\n",
            "tables 3.7.0 requires numpy>=1.19.0, but you have numpy 1.16.6 which is incompatible.\n",
            "pyerfa 2.0.0.1 requires numpy>=1.17, but you have numpy 1.16.6 which is incompatible.\n",
            "plotnine 0.6.0 requires pandas>=0.25.0, but you have pandas 0.24.2 which is incompatible.\n",
            "mizani 0.6.0 requires pandas>=0.25.0, but you have pandas 0.24.2 which is incompatible.\n",
            "kapre 0.3.7 requires numpy>=1.18.5, but you have numpy 1.16.6 which is incompatible.\n",
            "kapre 0.3.7 requires tensorflow>=2.0.0, but you have tensorflow 1.15.5 which is incompatible.\n",
            "jaxlib 0.3.7+cuda11.cudnn805 requires numpy>=1.19, but you have numpy 1.16.6 which is incompatible.\n",
            "jax 0.3.8 requires numpy>=1.19, but you have numpy 1.16.6 which is incompatible.\n",
            "imbalanced-learn 0.8.1 requires scikit-learn>=0.24, but you have scikit-learn 0.20.4 which is incompatible.\n",
            "google-colab 1.0.0 requires pandas>=1.1.0; python_version >= \"3.0\", but you have pandas 0.24.2 which is incompatible.\n",
            "fbprophet 0.7.1 requires pandas>=1.0.4, but you have pandas 0.24.2 which is incompatible.\n",
            "datascience 0.10.6 requires folium==0.2.1, but you have folium 0.8.3 which is incompatible.\n",
            "astropy 4.3.1 requires numpy>=1.17, but you have numpy 1.16.6 which is incompatible.\n",
            "albumentations 0.1.12 requires imgaug<0.2.7,>=0.2.5, but you have imgaug 0.2.9 which is incompatible.\u001b[0m\n",
            "Successfully installed Keras-2.3.1 PyWavelets-1.1.1 azure-cognitiveservices-anomalydetector-0.3.0 azure-common-1.1.28 botocore-1.25.11 docutils-0.15.2 featuretools-0.11.0 fsspec-2022.3.0 gast-0.2.2 h5py-2.10.0 iso639-0.1.4 isodate-0.6.1 jmespath-1.0.0 keras-applications-1.0.8 langdetect-1.0.9 lightfm-1.16 mlblocks-0.3.4 mlprimitives-0.2.5 msrest-0.6.21 nltk-3.7 numpy-1.16.6 orion-ml-0.3.1 pandas-0.24.2 python-louvain-0.13 pyts-0.10.0 regex-2022.4.24 s3fs-0.4.2 scikit-image-0.14.5 scikit-learn-0.20.4 tensorboard-1.15.0 tensorflow-1.15.5 tensorflow-estimator-1.15.1 urllib3-1.25.11 xlsxwriter-3.0.3\n"
          ]
        },
        {
          "output_type": "display_data",
          "data": {
            "application/vnd.colab-display-data+json": {
              "pip_warning": {
                "packages": [
                  "numpy",
                  "pandas"
                ]
              }
            }
          },
          "metadata": {}
        }
      ]
    },
    {
      "cell_type": "code",
      "source": [
        "from orion.data import load_signal\n",
        "\n",
        "train_data = load_signal('S-1-train')\n",
        "print(train_data.info)\n",
        "train_data.head(5)"
      ],
      "metadata": {
        "id": "wIV7dT8XkF-1"
      },
      "execution_count": null,
      "outputs": []
    },
    {
      "cell_type": "code",
      "source": [
        "from orion import Orion\n",
        "orion = Orion()\n",
        "hyperparameters = {'keras.Sequential.LSTMTimeSeriesRegressor#1':{'epochs': 1}}"
      ],
      "metadata": {
        "id": "eNjoR_Kir6Ar",
        "colab": {
          "base_uri": "https://localhost:8080/"
        },
        "outputId": "2d5e533b-e1f5-4a69-b1b2-2749db2fdee4"
      },
      "execution_count": null,
      "outputs": [
        {
          "output_type": "stream",
          "name": "stderr",
          "text": [
            "Using TensorFlow backend.\n"
          ]
        }
      ]
    },
    {
      "cell_type": "code",
      "source": [
        "train = pd.read_csv('/content/drive/MyDrive/Colab Notebooks/Annotated/220_1.csv', delimiter=';')\n",
        "train = train.drop(columns=['TVD_(m)','DEPTH_(m)','HDTH_(m)','BLKP_(m)','ROP5_(m/h)','RPM_(c/min)','STOR_(kN.m)','SWOB_(1000 kgf)','TFLO_(L/min)','SPPA_(bar)','labels'])\n",
        "test = train.tail(45935)\n",
        "train = train.head(76945)\n",
        "train['TIME_(s)']=[int(round(pd.to_datetime(train['TIME_(s)'][i]).timestamp())) for i in range(0,len(train['TIME_(s)']))]\n",
        "train.rename(columns={'TIME_(s)' : 'timestamp','HKLA_(1000 kgf)' : 'value'}, inplace=True)\n",
        "test['TIME_(s)']=[int(round(pd.to_datetime(test['TIME_(s)'][i]).timestamp())) for i in range(79999,125934)]\n",
        "test.rename(columns={'TIME_(s)' : 'timestamp', 'HKLA_(1000 kgf)' : 'value'}, inplace=True)\n",
        "print(train)"
      ],
      "metadata": {
        "id": "QmoC1e3HJIvV",
        "colab": {
          "base_uri": "https://localhost:8080/"
        },
        "outputId": "8418533b-87b1-4a29-90d9-6c8bb1295d56"
      },
      "execution_count": null,
      "outputs": [
        {
          "output_type": "stream",
          "name": "stdout",
          "text": [
            "        timestamp     value\n",
            "0      1430208000  28.64885\n",
            "1      1430208010  28.63197\n",
            "2      1430208020  28.62236\n",
            "3      1430208030  28.49389\n",
            "4      1430208040  28.14165\n",
            "5      1430208050  28.67444\n",
            "6      1430208060  28.68550\n",
            "7      1430208070  28.69009\n",
            "8      1430208080  28.67782\n",
            "9      1430208090  28.24729\n",
            "10     1430208100  29.43719\n",
            "11     1430208110  28.53477\n",
            "12     1430208120  25.40531\n",
            "13     1430208130  25.36630\n",
            "14     1430208140  25.39939\n",
            "15     1430208150  25.35983\n",
            "16     1430208160  25.36030\n",
            "17     1430208170  25.39094\n",
            "18     1430208180  25.38301\n",
            "19     1430208190  25.41487\n",
            "20     1430208200  25.40277\n",
            "21     1430208210  25.42361\n",
            "22     1430208220  25.35258\n",
            "23     1430208230  25.39313\n",
            "24     1430208240  25.36462\n",
            "25     1430208250  25.39419\n",
            "26     1430208260  25.40773\n",
            "27     1430208270  25.39005\n",
            "28     1430208280  25.32739\n",
            "29     1430208290  25.38122\n",
            "...           ...       ...\n",
            "76915  1430977150  51.91228\n",
            "76916  1430977160  51.88413\n",
            "76917  1430977170  51.47350\n",
            "76918  1430977180  51.46175\n",
            "76919  1430977190  51.25103\n",
            "76920  1430977200  51.03169\n",
            "76921  1430977210  51.04849\n",
            "76922  1430977220  50.90860\n",
            "76923  1430977230  50.94780\n",
            "76924  1430977240  50.86499\n",
            "76925  1430977250  50.95767\n",
            "76926  1430977260  50.80486\n",
            "76927  1430977270  50.80029\n",
            "76928  1430977280  50.91440\n",
            "76929  1430977290  50.94262\n",
            "76930  1430977300  50.68458\n",
            "76931  1430977310  50.70630\n",
            "76932  1430977320  51.11874\n",
            "76933  1430977330  51.48997\n",
            "76934  1430977340  51.93998\n",
            "76935  1430977350  52.09439\n",
            "76936  1430977360  52.10822\n",
            "76937  1430977370  52.19934\n",
            "76938  1430977380  53.13945\n",
            "76939  1430977390  54.18586\n",
            "76940  1430977400  54.67868\n",
            "76941  1430977410  55.22960\n",
            "76942  1430977420  55.33833\n",
            "76943  1430977430  55.13491\n",
            "76944  1430977440  54.88962\n",
            "\n",
            "[76945 rows x 2 columns]\n"
          ]
        }
      ]
    },
    {
      "cell_type": "code",
      "source": [
        "train_2 = train.head(2819)\n",
        "train_2['value']= np.linspace(-1,1,len(train_2))\n",
        "print(train_2)"
      ],
      "metadata": {
        "id": "P8QKOcYXzXRQ"
      },
      "execution_count": null,
      "outputs": []
    },
    {
      "cell_type": "code",
      "source": [
        "train"
      ],
      "metadata": {
        "id": "U7O7B8OnGtB9"
      },
      "execution_count": null,
      "outputs": []
    },
    {
      "cell_type": "code",
      "source": [
        "from orion import Orion\n",
        "\n",
        "hyperparameters = {\n",
        "    \"mlprimitives.custom.timeseries_preprocessing.time_segments_aggregate#1\": {\n",
        "        \"interval\": 10\n",
        "    },\n",
        "    \"mlprimitives.custom.timeseries_preprocessing.rolling_window_sequences#1\": {\n",
        "        \"window_size\": 100\n",
        "    },\n",
        "    \"keras.Sequential.LSTMTimeSeriesRegressor#1\": {\n",
        "        \"epochs\": 3,\n",
        "        \"verbose\": True\n",
        "    }\n",
        "}\n",
        "\n",
        "orion = Orion(\n",
        "    pipeline='lstm_dynamic_threshold',\n",
        "    hyperparameters=hyperparameters\n",
        ")\n",
        "\n",
        "\n",
        "orion.fit(train)\n"
      ],
      "metadata": {
        "colab": {
          "base_uri": "https://localhost:8080/",
          "height": 557
        },
        "id": "k5d-SVYe-d5I",
        "outputId": "0deac380-9016-49b1-ec33-aba29b747e17"
      },
      "execution_count": null,
      "outputs": [
        {
          "output_type": "stream",
          "name": "stderr",
          "text": [
            "Using TensorFlow backend.\n"
          ]
        },
        {
          "output_type": "stream",
          "name": "stdout",
          "text": [
            "WARNING:tensorflow:From /usr/local/lib/python3.7/dist-packages/tensorflow_core/python/ops/resource_variable_ops.py:1630: calling BaseResourceVariable.__init__ (from tensorflow.python.ops.resource_variable_ops) with constraint is deprecated and will be removed in a future version.\n",
            "Instructions for updating:\n",
            "If using Keras pass *_constraint arguments to layers.\n",
            "WARNING:tensorflow:From /usr/local/lib/python3.7/dist-packages/keras/backend/tensorflow_backend.py:422: The name tf.global_variables is deprecated. Please use tf.compat.v1.global_variables instead.\n",
            "\n",
            "Train on 61476 samples, validate on 15369 samples\n",
            "Epoch 1/3\n",
            "61476/61476 [==============================] - 317s 5ms/step - loss: 0.0121 - mse: 0.0121 - val_loss: 0.0047 - val_mse: 0.0047\n",
            "Epoch 2/3\n",
            " 2816/61476 [>.............................] - ETA: 4:40 - loss: 0.0069 - mse: 0.0069"
          ]
        },
        {
          "output_type": "error",
          "ename": "KeyboardInterrupt",
          "evalue": "ignored",
          "traceback": [
            "\u001b[0;31m---------------------------------------------------------------------------\u001b[0m",
            "\u001b[0;31mKeyboardInterrupt\u001b[0m                         Traceback (most recent call last)",
            "\u001b[0;32m<ipython-input-4-d0fa1ed7a8f1>\u001b[0m in \u001b[0;36m<module>\u001b[0;34m()\u001b[0m\n\u001b[1;32m     20\u001b[0m \u001b[0;34m\u001b[0m\u001b[0m\n\u001b[1;32m     21\u001b[0m \u001b[0;34m\u001b[0m\u001b[0m\n\u001b[0;32m---> 22\u001b[0;31m \u001b[0morion\u001b[0m\u001b[0;34m.\u001b[0m\u001b[0mfit\u001b[0m\u001b[0;34m(\u001b[0m\u001b[0mtrain\u001b[0m\u001b[0;34m)\u001b[0m\u001b[0;34m\u001b[0m\u001b[0;34m\u001b[0m\u001b[0m\n\u001b[0m",
            "\u001b[0;32m/usr/local/lib/python3.7/dist-packages/orion/core.py\u001b[0m in \u001b[0;36mfit\u001b[0;34m(self, data, **kwargs)\u001b[0m\n\u001b[1;32m     84\u001b[0m             \u001b[0mself\u001b[0m\u001b[0;34m.\u001b[0m\u001b[0m_mlpipeline\u001b[0m \u001b[0;34m=\u001b[0m \u001b[0mself\u001b[0m\u001b[0;34m.\u001b[0m\u001b[0m_get_mlpipeline\u001b[0m\u001b[0;34m(\u001b[0m\u001b[0;34m)\u001b[0m\u001b[0;34m\u001b[0m\u001b[0;34m\u001b[0m\u001b[0m\n\u001b[1;32m     85\u001b[0m \u001b[0;34m\u001b[0m\u001b[0m\n\u001b[0;32m---> 86\u001b[0;31m         \u001b[0mself\u001b[0m\u001b[0;34m.\u001b[0m\u001b[0m_mlpipeline\u001b[0m\u001b[0;34m.\u001b[0m\u001b[0mfit\u001b[0m\u001b[0;34m(\u001b[0m\u001b[0mdata\u001b[0m\u001b[0;34m,\u001b[0m \u001b[0;34m**\u001b[0m\u001b[0mkwargs\u001b[0m\u001b[0;34m)\u001b[0m\u001b[0;34m\u001b[0m\u001b[0;34m\u001b[0m\u001b[0m\n\u001b[0m\u001b[1;32m     87\u001b[0m         \u001b[0mself\u001b[0m\u001b[0;34m.\u001b[0m\u001b[0m_fitted\u001b[0m \u001b[0;34m=\u001b[0m \u001b[0;32mTrue\u001b[0m\u001b[0;34m\u001b[0m\u001b[0;34m\u001b[0m\u001b[0m\n\u001b[1;32m     88\u001b[0m \u001b[0;34m\u001b[0m\u001b[0m\n",
            "\u001b[0;32m/usr/local/lib/python3.7/dist-packages/mlblocks/mlpipeline.py\u001b[0m in \u001b[0;36mfit\u001b[0;34m(self, X, y, output_, start_, **kwargs)\u001b[0m\n\u001b[1;32m    647\u001b[0m                     \u001b[0;32mcontinue\u001b[0m\u001b[0;34m\u001b[0m\u001b[0;34m\u001b[0m\u001b[0m\n\u001b[1;32m    648\u001b[0m \u001b[0;34m\u001b[0m\u001b[0m\n\u001b[0;32m--> 649\u001b[0;31m             \u001b[0mself\u001b[0m\u001b[0;34m.\u001b[0m\u001b[0m_fit_block\u001b[0m\u001b[0;34m(\u001b[0m\u001b[0mblock\u001b[0m\u001b[0;34m,\u001b[0m \u001b[0mblock_name\u001b[0m\u001b[0;34m,\u001b[0m \u001b[0mcontext\u001b[0m\u001b[0;34m)\u001b[0m\u001b[0;34m\u001b[0m\u001b[0;34m\u001b[0m\u001b[0m\n\u001b[0m\u001b[1;32m    650\u001b[0m \u001b[0;34m\u001b[0m\u001b[0m\n\u001b[1;32m    651\u001b[0m             \u001b[0;32mif\u001b[0m \u001b[0;34m(\u001b[0m\u001b[0mblock_name\u001b[0m \u001b[0;34m!=\u001b[0m \u001b[0mself\u001b[0m\u001b[0;34m.\u001b[0m\u001b[0m_last_block_name\u001b[0m\u001b[0;34m)\u001b[0m \u001b[0;32mor\u001b[0m \u001b[0;34m(\u001b[0m\u001b[0mblock_name\u001b[0m \u001b[0;32min\u001b[0m \u001b[0moutput_blocks\u001b[0m\u001b[0;34m)\u001b[0m\u001b[0;34m:\u001b[0m\u001b[0;34m\u001b[0m\u001b[0;34m\u001b[0m\u001b[0m\n",
            "\u001b[0;32m/usr/local/lib/python3.7/dist-packages/mlblocks/mlpipeline.py\u001b[0m in \u001b[0;36m_fit_block\u001b[0;34m(self, block, block_name, context)\u001b[0m\n\u001b[1;32m    547\u001b[0m         \u001b[0;32mtry\u001b[0m\u001b[0;34m:\u001b[0m\u001b[0;34m\u001b[0m\u001b[0;34m\u001b[0m\u001b[0m\n\u001b[1;32m    548\u001b[0m             \u001b[0mfit_args\u001b[0m \u001b[0;34m=\u001b[0m \u001b[0mself\u001b[0m\u001b[0;34m.\u001b[0m\u001b[0m_get_block_args\u001b[0m\u001b[0;34m(\u001b[0m\u001b[0mblock_name\u001b[0m\u001b[0;34m,\u001b[0m \u001b[0mblock\u001b[0m\u001b[0;34m.\u001b[0m\u001b[0mfit_args\u001b[0m\u001b[0;34m,\u001b[0m \u001b[0mcontext\u001b[0m\u001b[0;34m)\u001b[0m\u001b[0;34m\u001b[0m\u001b[0;34m\u001b[0m\u001b[0m\n\u001b[0;32m--> 549\u001b[0;31m             \u001b[0mblock\u001b[0m\u001b[0;34m.\u001b[0m\u001b[0mfit\u001b[0m\u001b[0;34m(\u001b[0m\u001b[0;34m**\u001b[0m\u001b[0mfit_args\u001b[0m\u001b[0;34m)\u001b[0m\u001b[0;34m\u001b[0m\u001b[0;34m\u001b[0m\u001b[0m\n\u001b[0m\u001b[1;32m    550\u001b[0m         \u001b[0;32mexcept\u001b[0m \u001b[0mException\u001b[0m\u001b[0;34m:\u001b[0m\u001b[0;34m\u001b[0m\u001b[0;34m\u001b[0m\u001b[0m\n\u001b[1;32m    551\u001b[0m             \u001b[0;32mif\u001b[0m \u001b[0mself\u001b[0m\u001b[0;34m.\u001b[0m\u001b[0mverbose\u001b[0m\u001b[0;34m:\u001b[0m\u001b[0;34m\u001b[0m\u001b[0;34m\u001b[0m\u001b[0m\n",
            "\u001b[0;32m/usr/local/lib/python3.7/dist-packages/mlblocks/mlblock.py\u001b[0m in \u001b[0;36mfit\u001b[0;34m(self, **kwargs)\u001b[0m\n\u001b[1;32m    300\u001b[0m             \u001b[0mfit_kwargs\u001b[0m\u001b[0;34m.\u001b[0m\u001b[0mupdate\u001b[0m\u001b[0;34m(\u001b[0m\u001b[0mkwargs\u001b[0m\u001b[0;34m)\u001b[0m\u001b[0;34m\u001b[0m\u001b[0;34m\u001b[0m\u001b[0m\n\u001b[1;32m    301\u001b[0m             \u001b[0mfit_kwargs\u001b[0m \u001b[0;34m=\u001b[0m \u001b[0mself\u001b[0m\u001b[0;34m.\u001b[0m\u001b[0m_get_method_kwargs\u001b[0m\u001b[0;34m(\u001b[0m\u001b[0mfit_kwargs\u001b[0m\u001b[0;34m,\u001b[0m \u001b[0mself\u001b[0m\u001b[0;34m.\u001b[0m\u001b[0mfit_args\u001b[0m\u001b[0;34m)\u001b[0m\u001b[0;34m\u001b[0m\u001b[0;34m\u001b[0m\u001b[0m\n\u001b[0;32m--> 302\u001b[0;31m             \u001b[0mgetattr\u001b[0m\u001b[0;34m(\u001b[0m\u001b[0mself\u001b[0m\u001b[0;34m.\u001b[0m\u001b[0minstance\u001b[0m\u001b[0;34m,\u001b[0m \u001b[0mself\u001b[0m\u001b[0;34m.\u001b[0m\u001b[0mfit_method\u001b[0m\u001b[0;34m)\u001b[0m\u001b[0;34m(\u001b[0m\u001b[0;34m**\u001b[0m\u001b[0mfit_kwargs\u001b[0m\u001b[0;34m)\u001b[0m\u001b[0;34m\u001b[0m\u001b[0;34m\u001b[0m\u001b[0m\n\u001b[0m\u001b[1;32m    303\u001b[0m \u001b[0;34m\u001b[0m\u001b[0m\n\u001b[1;32m    304\u001b[0m     \u001b[0;32mdef\u001b[0m \u001b[0mproduce\u001b[0m\u001b[0;34m(\u001b[0m\u001b[0mself\u001b[0m\u001b[0;34m,\u001b[0m \u001b[0;34m**\u001b[0m\u001b[0mkwargs\u001b[0m\u001b[0;34m)\u001b[0m\u001b[0;34m:\u001b[0m\u001b[0;34m\u001b[0m\u001b[0;34m\u001b[0m\u001b[0m\n",
            "\u001b[0;32m/usr/local/lib/python3.7/dist-packages/mlprimitives/adapters/keras.py\u001b[0m in \u001b[0;36mfit\u001b[0;34m(self, X, y, **kwargs)\u001b[0m\n\u001b[1;32m    109\u001b[0m         self.model.fit(X, y, epochs=self.epochs, verbose=self.verbose, callbacks=callbacks,\n\u001b[1;32m    110\u001b[0m                        \u001b[0mvalidation_split\u001b[0m\u001b[0;34m=\u001b[0m\u001b[0mself\u001b[0m\u001b[0;34m.\u001b[0m\u001b[0mvalidation_split\u001b[0m\u001b[0;34m,\u001b[0m \u001b[0mbatch_size\u001b[0m\u001b[0;34m=\u001b[0m\u001b[0mself\u001b[0m\u001b[0;34m.\u001b[0m\u001b[0mbatch_size\u001b[0m\u001b[0;34m,\u001b[0m\u001b[0;34m\u001b[0m\u001b[0;34m\u001b[0m\u001b[0m\n\u001b[0;32m--> 111\u001b[0;31m                        shuffle=self.shuffle)\n\u001b[0m\u001b[1;32m    112\u001b[0m \u001b[0;34m\u001b[0m\u001b[0m\n\u001b[1;32m    113\u001b[0m     \u001b[0;32mdef\u001b[0m \u001b[0mpredict\u001b[0m\u001b[0;34m(\u001b[0m\u001b[0mself\u001b[0m\u001b[0;34m,\u001b[0m \u001b[0mX\u001b[0m\u001b[0;34m)\u001b[0m\u001b[0;34m:\u001b[0m\u001b[0;34m\u001b[0m\u001b[0;34m\u001b[0m\u001b[0m\n",
            "\u001b[0;32m/usr/local/lib/python3.7/dist-packages/keras/engine/training.py\u001b[0m in \u001b[0;36mfit\u001b[0;34m(self, x, y, batch_size, epochs, verbose, callbacks, validation_split, validation_data, shuffle, class_weight, sample_weight, initial_epoch, steps_per_epoch, validation_steps, validation_freq, max_queue_size, workers, use_multiprocessing, **kwargs)\u001b[0m\n\u001b[1;32m   1237\u001b[0m                                         \u001b[0msteps_per_epoch\u001b[0m\u001b[0;34m=\u001b[0m\u001b[0msteps_per_epoch\u001b[0m\u001b[0;34m,\u001b[0m\u001b[0;34m\u001b[0m\u001b[0;34m\u001b[0m\u001b[0m\n\u001b[1;32m   1238\u001b[0m                                         \u001b[0mvalidation_steps\u001b[0m\u001b[0;34m=\u001b[0m\u001b[0mvalidation_steps\u001b[0m\u001b[0;34m,\u001b[0m\u001b[0;34m\u001b[0m\u001b[0;34m\u001b[0m\u001b[0m\n\u001b[0;32m-> 1239\u001b[0;31m                                         validation_freq=validation_freq)\n\u001b[0m\u001b[1;32m   1240\u001b[0m \u001b[0;34m\u001b[0m\u001b[0m\n\u001b[1;32m   1241\u001b[0m     def evaluate(self,\n",
            "\u001b[0;32m/usr/local/lib/python3.7/dist-packages/keras/engine/training_arrays.py\u001b[0m in \u001b[0;36mfit_loop\u001b[0;34m(model, fit_function, fit_inputs, out_labels, batch_size, epochs, verbose, callbacks, val_function, val_inputs, shuffle, initial_epoch, steps_per_epoch, validation_steps, validation_freq)\u001b[0m\n\u001b[1;32m    194\u001b[0m                     \u001b[0mins_batch\u001b[0m\u001b[0;34m[\u001b[0m\u001b[0mi\u001b[0m\u001b[0;34m]\u001b[0m \u001b[0;34m=\u001b[0m \u001b[0mins_batch\u001b[0m\u001b[0;34m[\u001b[0m\u001b[0mi\u001b[0m\u001b[0;34m]\u001b[0m\u001b[0;34m.\u001b[0m\u001b[0mtoarray\u001b[0m\u001b[0;34m(\u001b[0m\u001b[0;34m)\u001b[0m\u001b[0;34m\u001b[0m\u001b[0;34m\u001b[0m\u001b[0m\n\u001b[1;32m    195\u001b[0m \u001b[0;34m\u001b[0m\u001b[0m\n\u001b[0;32m--> 196\u001b[0;31m                 \u001b[0mouts\u001b[0m \u001b[0;34m=\u001b[0m \u001b[0mfit_function\u001b[0m\u001b[0;34m(\u001b[0m\u001b[0mins_batch\u001b[0m\u001b[0;34m)\u001b[0m\u001b[0;34m\u001b[0m\u001b[0;34m\u001b[0m\u001b[0m\n\u001b[0m\u001b[1;32m    197\u001b[0m                 \u001b[0mouts\u001b[0m \u001b[0;34m=\u001b[0m \u001b[0mto_list\u001b[0m\u001b[0;34m(\u001b[0m\u001b[0mouts\u001b[0m\u001b[0;34m)\u001b[0m\u001b[0;34m\u001b[0m\u001b[0;34m\u001b[0m\u001b[0m\n\u001b[1;32m    198\u001b[0m                 \u001b[0;32mfor\u001b[0m \u001b[0ml\u001b[0m\u001b[0;34m,\u001b[0m \u001b[0mo\u001b[0m \u001b[0;32min\u001b[0m \u001b[0mzip\u001b[0m\u001b[0;34m(\u001b[0m\u001b[0mout_labels\u001b[0m\u001b[0;34m,\u001b[0m \u001b[0mouts\u001b[0m\u001b[0;34m)\u001b[0m\u001b[0;34m:\u001b[0m\u001b[0;34m\u001b[0m\u001b[0;34m\u001b[0m\u001b[0m\n",
            "\u001b[0;32m/usr/local/lib/python3.7/dist-packages/tensorflow_core/python/keras/backend.py\u001b[0m in \u001b[0;36m__call__\u001b[0;34m(self, inputs)\u001b[0m\n\u001b[1;32m   3474\u001b[0m \u001b[0;34m\u001b[0m\u001b[0m\n\u001b[1;32m   3475\u001b[0m     fetched = self._callable_fn(*array_vals,\n\u001b[0;32m-> 3476\u001b[0;31m                                 run_metadata=self.run_metadata)\n\u001b[0m\u001b[1;32m   3477\u001b[0m     \u001b[0mself\u001b[0m\u001b[0;34m.\u001b[0m\u001b[0m_call_fetch_callbacks\u001b[0m\u001b[0;34m(\u001b[0m\u001b[0mfetched\u001b[0m\u001b[0;34m[\u001b[0m\u001b[0;34m-\u001b[0m\u001b[0mlen\u001b[0m\u001b[0;34m(\u001b[0m\u001b[0mself\u001b[0m\u001b[0;34m.\u001b[0m\u001b[0m_fetches\u001b[0m\u001b[0;34m)\u001b[0m\u001b[0;34m:\u001b[0m\u001b[0;34m]\u001b[0m\u001b[0;34m)\u001b[0m\u001b[0;34m\u001b[0m\u001b[0;34m\u001b[0m\u001b[0m\n\u001b[1;32m   3478\u001b[0m     output_structure = nest.pack_sequence_as(\n",
            "\u001b[0;32m/usr/local/lib/python3.7/dist-packages/tensorflow_core/python/client/session.py\u001b[0m in \u001b[0;36m__call__\u001b[0;34m(self, *args, **kwargs)\u001b[0m\n\u001b[1;32m   1470\u001b[0m         ret = tf_session.TF_SessionRunCallable(self._session._session,\n\u001b[1;32m   1471\u001b[0m                                                \u001b[0mself\u001b[0m\u001b[0;34m.\u001b[0m\u001b[0m_handle\u001b[0m\u001b[0;34m,\u001b[0m \u001b[0margs\u001b[0m\u001b[0;34m,\u001b[0m\u001b[0;34m\u001b[0m\u001b[0;34m\u001b[0m\u001b[0m\n\u001b[0;32m-> 1472\u001b[0;31m                                                run_metadata_ptr)\n\u001b[0m\u001b[1;32m   1473\u001b[0m         \u001b[0;32mif\u001b[0m \u001b[0mrun_metadata\u001b[0m\u001b[0;34m:\u001b[0m\u001b[0;34m\u001b[0m\u001b[0;34m\u001b[0m\u001b[0m\n\u001b[1;32m   1474\u001b[0m           \u001b[0mproto_data\u001b[0m \u001b[0;34m=\u001b[0m \u001b[0mtf_session\u001b[0m\u001b[0;34m.\u001b[0m\u001b[0mTF_GetBuffer\u001b[0m\u001b[0;34m(\u001b[0m\u001b[0mrun_metadata_ptr\u001b[0m\u001b[0;34m)\u001b[0m\u001b[0;34m\u001b[0m\u001b[0;34m\u001b[0m\u001b[0m\n",
            "\u001b[0;31mKeyboardInterrupt\u001b[0m: "
          ]
        }
      ]
    },
    {
      "cell_type": "code",
      "source": [
        "anomalies = orion.detect(test)"
      ],
      "metadata": {
        "colab": {
          "base_uri": "https://localhost:8080/"
        },
        "id": "b2zrLj95-9lq",
        "outputId": "479b834b-4abd-4f72-dd1f-ebd69a3f5748"
      },
      "execution_count": null,
      "outputs": [
        {
          "output_type": "stream",
          "name": "stdout",
          "text": [
            "45835/45835 [==============================] - 63s 1ms/step\n"
          ]
        }
      ]
    },
    {
      "cell_type": "code",
      "source": [
        "anomalies.to_excel(\"/content/drive/MyDrive/нир.xlsx\")"
      ],
      "metadata": {
        "id": "-GL6d1l8_GLb"
      },
      "execution_count": null,
      "outputs": []
    },
    {
      "cell_type": "code",
      "source": [
        "anomalies"
      ],
      "metadata": {
        "colab": {
          "base_uri": "https://localhost:8080/",
          "height": 175
        },
        "id": "b28LhSGU2mDZ",
        "outputId": "bcb089cc-d1af-4ad5-8814-b49128d85aac"
      },
      "execution_count": null,
      "outputs": [
        {
          "output_type": "execute_result",
          "data": {
            "text/plain": [
              "        start         end  severity\n",
              "0  1431154330  1431156670  0.156927\n",
              "1  1431200960  1431204690  0.502421\n",
              "2  1431215640  1431216970  0.169169\n",
              "3  1431218660  1431220760  0.407195"
            ],
            "text/html": [
              "\n",
              "  <div id=\"df-72b64511-53a8-4eac-a499-cb6a75bfa2a1\">\n",
              "    <div class=\"colab-df-container\">\n",
              "      <div>\n",
              "<style scoped>\n",
              "    .dataframe tbody tr th:only-of-type {\n",
              "        vertical-align: middle;\n",
              "    }\n",
              "\n",
              "    .dataframe tbody tr th {\n",
              "        vertical-align: top;\n",
              "    }\n",
              "\n",
              "    .dataframe thead th {\n",
              "        text-align: right;\n",
              "    }\n",
              "</style>\n",
              "<table border=\"1\" class=\"dataframe\">\n",
              "  <thead>\n",
              "    <tr style=\"text-align: right;\">\n",
              "      <th></th>\n",
              "      <th>start</th>\n",
              "      <th>end</th>\n",
              "      <th>severity</th>\n",
              "    </tr>\n",
              "  </thead>\n",
              "  <tbody>\n",
              "    <tr>\n",
              "      <th>0</th>\n",
              "      <td>1431154330</td>\n",
              "      <td>1431156670</td>\n",
              "      <td>0.156927</td>\n",
              "    </tr>\n",
              "    <tr>\n",
              "      <th>1</th>\n",
              "      <td>1431200960</td>\n",
              "      <td>1431204690</td>\n",
              "      <td>0.502421</td>\n",
              "    </tr>\n",
              "    <tr>\n",
              "      <th>2</th>\n",
              "      <td>1431215640</td>\n",
              "      <td>1431216970</td>\n",
              "      <td>0.169169</td>\n",
              "    </tr>\n",
              "    <tr>\n",
              "      <th>3</th>\n",
              "      <td>1431218660</td>\n",
              "      <td>1431220760</td>\n",
              "      <td>0.407195</td>\n",
              "    </tr>\n",
              "  </tbody>\n",
              "</table>\n",
              "</div>\n",
              "      <button class=\"colab-df-convert\" onclick=\"convertToInteractive('df-72b64511-53a8-4eac-a499-cb6a75bfa2a1')\"\n",
              "              title=\"Convert this dataframe to an interactive table.\"\n",
              "              style=\"display:none;\">\n",
              "        \n",
              "  <svg xmlns=\"http://www.w3.org/2000/svg\" height=\"24px\"viewBox=\"0 0 24 24\"\n",
              "       width=\"24px\">\n",
              "    <path d=\"M0 0h24v24H0V0z\" fill=\"none\"/>\n",
              "    <path d=\"M18.56 5.44l.94 2.06.94-2.06 2.06-.94-2.06-.94-.94-2.06-.94 2.06-2.06.94zm-11 1L8.5 8.5l.94-2.06 2.06-.94-2.06-.94L8.5 2.5l-.94 2.06-2.06.94zm10 10l.94 2.06.94-2.06 2.06-.94-2.06-.94-.94-2.06-.94 2.06-2.06.94z\"/><path d=\"M17.41 7.96l-1.37-1.37c-.4-.4-.92-.59-1.43-.59-.52 0-1.04.2-1.43.59L10.3 9.45l-7.72 7.72c-.78.78-.78 2.05 0 2.83L4 21.41c.39.39.9.59 1.41.59.51 0 1.02-.2 1.41-.59l7.78-7.78 2.81-2.81c.8-.78.8-2.07 0-2.86zM5.41 20L4 18.59l7.72-7.72 1.47 1.35L5.41 20z\"/>\n",
              "  </svg>\n",
              "      </button>\n",
              "      \n",
              "  <style>\n",
              "    .colab-df-container {\n",
              "      display:flex;\n",
              "      flex-wrap:wrap;\n",
              "      gap: 12px;\n",
              "    }\n",
              "\n",
              "    .colab-df-convert {\n",
              "      background-color: #E8F0FE;\n",
              "      border: none;\n",
              "      border-radius: 50%;\n",
              "      cursor: pointer;\n",
              "      display: none;\n",
              "      fill: #1967D2;\n",
              "      height: 32px;\n",
              "      padding: 0 0 0 0;\n",
              "      width: 32px;\n",
              "    }\n",
              "\n",
              "    .colab-df-convert:hover {\n",
              "      background-color: #E2EBFA;\n",
              "      box-shadow: 0px 1px 2px rgba(60, 64, 67, 0.3), 0px 1px 3px 1px rgba(60, 64, 67, 0.15);\n",
              "      fill: #174EA6;\n",
              "    }\n",
              "\n",
              "    [theme=dark] .colab-df-convert {\n",
              "      background-color: #3B4455;\n",
              "      fill: #D2E3FC;\n",
              "    }\n",
              "\n",
              "    [theme=dark] .colab-df-convert:hover {\n",
              "      background-color: #434B5C;\n",
              "      box-shadow: 0px 1px 3px 1px rgba(0, 0, 0, 0.15);\n",
              "      filter: drop-shadow(0px 1px 2px rgba(0, 0, 0, 0.3));\n",
              "      fill: #FFFFFF;\n",
              "    }\n",
              "  </style>\n",
              "\n",
              "      <script>\n",
              "        const buttonEl =\n",
              "          document.querySelector('#df-72b64511-53a8-4eac-a499-cb6a75bfa2a1 button.colab-df-convert');\n",
              "        buttonEl.style.display =\n",
              "          google.colab.kernel.accessAllowed ? 'block' : 'none';\n",
              "\n",
              "        async function convertToInteractive(key) {\n",
              "          const element = document.querySelector('#df-72b64511-53a8-4eac-a499-cb6a75bfa2a1');\n",
              "          const dataTable =\n",
              "            await google.colab.kernel.invokeFunction('convertToInteractive',\n",
              "                                                     [key], {});\n",
              "          if (!dataTable) return;\n",
              "\n",
              "          const docLinkHtml = 'Like what you see? Visit the ' +\n",
              "            '<a target=\"_blank\" href=https://colab.research.google.com/notebooks/data_table.ipynb>data table notebook</a>'\n",
              "            + ' to learn more about interactive tables.';\n",
              "          element.innerHTML = '';\n",
              "          dataTable['output_type'] = 'display_data';\n",
              "          await google.colab.output.renderOutput(dataTable, element);\n",
              "          const docLink = document.createElement('div');\n",
              "          docLink.innerHTML = docLinkHtml;\n",
              "          element.appendChild(docLink);\n",
              "        }\n",
              "      </script>\n",
              "    </div>\n",
              "  </div>\n",
              "  "
            ]
          },
          "metadata": {},
          "execution_count": 33
        }
      ]
    },
    {
      "cell_type": "code",
      "source": [
        "import datetime\n",
        "arr_err = []\n",
        "temp1 = int(round(datetime.datetime(2015,5,9,13,10,0).timestamp()))\n",
        "temp2 = int(round(datetime.datetime(2015,5,9,13,30,0).timestamp()))\n",
        "temp3 = int(round(datetime.datetime(2015,5,9,14,57,0).timestamp()))\n",
        "temp4 = int(round(datetime.datetime(2015,5,9,16,25,0).timestamp()))\n",
        "temp5 = int(round(datetime.datetime(2015,5,9,16,47,0).timestamp()))\n",
        "temp6 = int(round(datetime.datetime(2015,5,10,13,15,0).timestamp()))\n",
        "temp7 = int(round(datetime.datetime(2015,5,11,4,40,0).timestamp()))\n",
        "temp8 = int(round(datetime.datetime(2015,5,11,6,25,0).timestamp()))\n",
        "temp9 = int(round(datetime.datetime(2015,5,11,8,15,0).timestamp()))\n",
        "temp10 = int(round(datetime.datetime(2015,5,11,10,50,0).timestamp()))\n",
        "arr_err = np.array([temp1,temp2,temp3,temp4,temp5,temp6,temp7,temp8,temp9,temp10])"
      ],
      "metadata": {
        "id": "Fw5cB5O371s6"
      },
      "execution_count": null,
      "outputs": []
    },
    {
      "cell_type": "code",
      "source": [
        "y=np.ones(10)\n",
        "y1=np.array([2,2])\n",
        "plt.scatter(arr_err,y)\n",
        "#plt.fill_between(1,anomalies['start'][0],anomalies['end'][0])\n",
        "temp_arr = np.array([anomalies['start'][0],anomalies['end'][0]])\n",
        "plt.plot(temp_arr,y1,color='r',linewidth=12)\n",
        "temp_arr = np.array([anomalies['start'][1],anomalies['end'][1]])\n",
        "plt.plot(temp_arr,y1,color='r',linewidth=12)\n",
        "temp_arr = np.array([anomalies['start'][2],anomalies['end'][2]])\n",
        "plt.plot(temp_arr,y1,color='r',linewidth=12)\n",
        "temp_arr = np.array([anomalies['start'][3],anomalies['end'][3]])\n",
        "plt.plot(temp_arr,y1,color='r', linewidth = 12)\n",
        "plt.show()"
      ],
      "metadata": {
        "id": "vRo3Ws8BETfD",
        "colab": {
          "base_uri": "https://localhost:8080/",
          "height": 278
        },
        "outputId": "90389a7d-021c-42a8-82bb-c0cbaa5fa65d"
      },
      "execution_count": null,
      "outputs": [
        {
          "output_type": "display_data",
          "data": {
            "text/plain": [
              "<Figure size 432x288 with 1 Axes>"
            ],
            "image/png": "[encoded data removed]"
          },
          "metadata": {
            "needs_background": "light"
          }
        }
      ]
    }
  ]
}